{
 "cells": [
  {
   "cell_type": "code",
   "execution_count": 1,
   "metadata": {},
   "outputs": [],
   "source": [
    "import boto3\n",
    "import pandas as pd\n",
    "import numpy as np\n",
    "import re\n",
    "import s3fs\n",
    "from collections import Counter"
   ]
  },
  {
   "cell_type": "code",
   "execution_count": 2,
   "metadata": {},
   "outputs": [],
   "source": [
    "from fastai.text import *\n",
    "import html"
   ]
  },
  {
   "cell_type": "code",
   "execution_count": 3,
   "metadata": {},
   "outputs": [],
   "source": [
    "CLAS_PATH =Path('data/clasificaiton')\n",
    "PATH= Path('data')\n",
    "LM_PATH = Path('data/language')"
   ]
  },
  {
   "cell_type": "code",
   "execution_count": 4,
   "metadata": {},
   "outputs": [
    {
     "name": "stdout",
     "output_type": "stream",
     "text": [
      "   Show Number    Air Date      Round                         Category  Value  \\\n",
      "0         4680  2004-12-31  Jeopardy!                          HISTORY   $200   \n",
      "1         4680  2004-12-31  Jeopardy!  ESPN's TOP 10 ALL-TIME ATHLETES   $200   \n",
      "2         4680  2004-12-31  Jeopardy!      EVERYBODY TALKS ABOUT IT...   $200   \n",
      "3         4680  2004-12-31  Jeopardy!                 THE COMPANY LINE   $200   \n",
      "4         4680  2004-12-31  Jeopardy!              EPITAPHS & TRIBUTES   $200   \n",
      "5         4680  2004-12-31  Jeopardy!                   3-LETTER WORDS   $200   \n",
      "6         4680  2004-12-31  Jeopardy!                          HISTORY   $400   \n",
      "7         4680  2004-12-31  Jeopardy!  ESPN's TOP 10 ALL-TIME ATHLETES   $400   \n",
      "8         4680  2004-12-31  Jeopardy!      EVERYBODY TALKS ABOUT IT...   $400   \n",
      "9         4680  2004-12-31  Jeopardy!                 THE COMPANY LINE   $400   \n",
      "\n",
      "                                            Question          Answer  \n",
      "0  For the last 8 years of his life, Galileo was ...      Copernicus  \n",
      "1  No. 2: 1912 Olympian; football star at Carlisl...      Jim Thorpe  \n",
      "2  The city of Yuma in this state has a record av...         Arizona  \n",
      "3  In 1963, live on \"The Art Linkletter Show\", th...      McDonald's  \n",
      "4  Signer of the Dec. of Indep., framer of the Co...      John Adams  \n",
      "5  In the title of an Aesop fable, this insect sh...         the ant  \n",
      "6  Built in 312 B.C. to link Rome & the South of ...  the Appian Way  \n",
      "7  No. 8: 30 steals for the Birmingham Barons; 2,...  Michael Jordan  \n",
      "8  In the winter of 1971-72, a record 1,122 inche...      Washington  \n",
      "9  This housewares store was named for the packag...  Crate & Barrel  \n"
     ]
    }
   ],
   "source": [
    "\n",
    "bucket='deep-learning-sagemaker'\n",
    "data_key = 'data/raw/JEOPARDY_CSV.csv'\n",
    "data_location = 's3://{}/{}'.format(bucket, data_key)\n",
    "\n",
    "raw_df = pd.read_csv(data_location)\n",
    "\n",
    "print(raw_df.head(10))\n"
   ]
  },
  {
   "cell_type": "code",
   "execution_count": 5,
   "metadata": {},
   "outputs": [
    {
     "name": "stdout",
     "output_type": "stream",
     "text": [
      "HISTORY\n",
      "For the last 8 years of his life, Galileo was under house arrest for espousing this man's theory\n"
     ]
    }
   ],
   "source": [
    "print(raw_df.loc[0][3])\n",
    "print(raw_df.loc[0][5])"
   ]
  },
  {
   "cell_type": "code",
   "execution_count": 6,
   "metadata": {},
   "outputs": [
    {
     "name": "stdout",
     "output_type": "stream",
     "text": [
      "Counter({'b': 3, 'a': 2, 'c': 1})\n"
     ]
    }
   ],
   "source": [
    "from collections import Counter\n",
    "print( Counter(['a','b','c','a','b','b']) )"
   ]
  },
  {
   "cell_type": "code",
   "execution_count": 7,
   "metadata": {},
   "outputs": [],
   "source": [
    "categories = []\n",
    "for i, r in raw_df.iterrows():\n",
    "    categories.append(r[3])\n",
    "    \n"
   ]
  },
  {
   "cell_type": "code",
   "execution_count": 11,
   "metadata": {},
   "outputs": [],
   "source": [
    "freq = Counter(categories)\n",
    "cats = dict(freq)"
   ]
  },
  {
   "cell_type": "code",
   "execution_count": 12,
   "metadata": {},
   "outputs": [],
   "source": [
    "over20 = dict((k,v) for k, v in cats.items() if v > 20)"
   ]
  },
  {
   "cell_type": "code",
   "execution_count": 13,
   "metadata": {},
   "outputs": [],
   "source": [
    "#over20"
   ]
  },
  {
   "cell_type": "code",
   "execution_count": 18,
   "metadata": {},
   "outputs": [
    {
     "data": {
      "text/plain": [
       "973"
      ]
     },
     "execution_count": 18,
     "metadata": {},
     "output_type": "execute_result"
    }
   ],
   "source": [
    "len(over20)"
   ]
  },
  {
   "cell_type": "code",
   "execution_count": 19,
   "metadata": {},
   "outputs": [
    {
     "data": {
      "text/plain": [
       "216930"
      ]
     },
     "execution_count": 19,
     "metadata": {},
     "output_type": "execute_result"
    }
   ],
   "source": [
    "len(raw_df)"
   ]
  },
  {
   "cell_type": "code",
   "execution_count": 20,
   "metadata": {},
   "outputs": [
    {
     "data": {
      "text/plain": [
       "62696"
      ]
     },
     "execution_count": 20,
     "metadata": {},
     "output_type": "execute_result"
    }
   ],
   "source": [
    "ov20 = 0\n",
    "for k, v in cats.items():\n",
    "    if v > 20:\n",
    "        ov20 += v\n",
    "ov20"
   ]
  },
  {
   "cell_type": "code",
   "execution_count": 21,
   "metadata": {},
   "outputs": [
    {
     "data": {
      "text/plain": [
       "62696"
      ]
     },
     "execution_count": 21,
     "metadata": {},
     "output_type": "execute_result"
    }
   ],
   "source": [
    "text = []\n",
    "labels = []\n",
    "count = 0\n",
    "for i, r in raw_df.iterrows():\n",
    "    if r[3] in over20:\n",
    "        text.append(r[5])\n",
    "        labels.append(r[3])\n",
    "        count += 1\n",
    "\n",
    "col_names = ['labels','text']\n",
    "s_df = pd.DataFrame({'text':text, 'labels':labels}, columns=col_names)\n",
    "len(s_df)"
   ]
  },
  {
   "cell_type": "markdown",
   "metadata": {},
   "source": [
    "Now we should have a set of record that have at least 20 questions for each category. we're going to save this to csv \n",
    "so we don't have to do this again"
   ]
  },
  {
   "cell_type": "code",
   "execution_count": 22,
   "metadata": {},
   "outputs": [],
   "source": [
    "s_df.to_csv('data/cleaned/all.csv', header=False, index=False)\n",
    "\n",
    "data_key = 'data/cleaned/all.csv'\n",
    "data_location = 's3://{}/{}'.format(bucket, data_key)\n",
    "\n",
    "s_df = pd.read_csv(data_location)"
   ]
  },
  {
   "cell_type": "code",
   "execution_count": 23,
   "metadata": {},
   "outputs": [],
   "source": [
    "all_categories = []\n",
    "for i, r in s_df.iterrows():\n",
    "    all_categories.append(r[0])\n"
   ]
  },
  {
   "cell_type": "code",
   "execution_count": 24,
   "metadata": {
    "scrolled": true
   },
   "outputs": [
    {
     "data": {
      "text/plain": [
       "['3-LETTER WORDS',\n",
       " 'HISTORY',\n",
       " 'THE SOLAR SYSTEM',\n",
       " 'SCIENCE CLASS',\n",
       " 'IN THE DICTIONARY',\n",
       " 'HISTORIC WOMEN',\n",
       " 'TV ACTORS & ROLES',\n",
       " 'TRAVEL & TOURISM',\n",
       " 'BACKWORDS',\n",
       " 'PEOPLE IN HISTORY']"
      ]
     },
     "execution_count": 24,
     "metadata": {},
     "output_type": "execute_result"
    }
   ],
   "source": [
    "classes = list(Counter(all_categories).keys())\n",
    "classes[:10]"
   ]
  },
  {
   "cell_type": "code",
   "execution_count": 25,
   "metadata": {},
   "outputs": [
    {
     "data": {
      "text/plain": [
       "459"
      ]
     },
     "execution_count": 25,
     "metadata": {},
     "output_type": "execute_result"
    }
   ],
   "source": [
    "classes.index('HODGEPODGE')"
   ]
  },
  {
   "cell_type": "code",
   "execution_count": 65,
   "metadata": {},
   "outputs": [],
   "source": [
    "def get_text_and_labels(df):\n",
    "    texts, labels = [],[]\n",
    "    for i, r in s_df.iterrows():\n",
    "        texts.append(r[1])\n",
    "        labels.append(classes.index(r[0]))\n",
    "    return np.array(texts),np.array(labels)"
   ]
  },
  {
   "cell_type": "code",
   "execution_count": 24,
   "metadata": {},
   "outputs": [
    {
     "data": {
      "text/html": [
       "<div>\n",
       "<style scoped>\n",
       "    .dataframe tbody tr th:only-of-type {\n",
       "        vertical-align: middle;\n",
       "    }\n",
       "\n",
       "    .dataframe tbody tr th {\n",
       "        vertical-align: top;\n",
       "    }\n",
       "\n",
       "    .dataframe thead th {\n",
       "        text-align: right;\n",
       "    }\n",
       "</style>\n",
       "<table border=\"1\" class=\"dataframe\">\n",
       "  <thead>\n",
       "    <tr style=\"text-align: right;\">\n",
       "      <th></th>\n",
       "      <th>HISTORY</th>\n",
       "      <th>For the last 8 years of his life, Galileo was under house arrest for espousing this man's theory</th>\n",
       "    </tr>\n",
       "  </thead>\n",
       "  <tbody>\n",
       "    <tr>\n",
       "      <th>0</th>\n",
       "      <td>3-LETTER WORDS</td>\n",
       "      <td>In the title of an Aesop fable, this insect sh...</td>\n",
       "    </tr>\n",
       "    <tr>\n",
       "      <th>1</th>\n",
       "      <td>HISTORY</td>\n",
       "      <td>Built in 312 B.C. to link Rome &amp; the South of ...</td>\n",
       "    </tr>\n",
       "    <tr>\n",
       "      <th>2</th>\n",
       "      <td>3-LETTER WORDS</td>\n",
       "      <td>Cows regurgitate this from the first stomach t...</td>\n",
       "    </tr>\n",
       "    <tr>\n",
       "      <th>3</th>\n",
       "      <td>HISTORY</td>\n",
       "      <td>In 1000 Rajaraja I of the Cholas battled to ta...</td>\n",
       "    </tr>\n",
       "    <tr>\n",
       "      <th>4</th>\n",
       "      <td>3-LETTER WORDS</td>\n",
       "      <td>A small demon, or a mischievous child (who mig...</td>\n",
       "    </tr>\n",
       "    <tr>\n",
       "      <th>5</th>\n",
       "      <td>HISTORY</td>\n",
       "      <td>Karl led the first of these Marxist organizati...</td>\n",
       "    </tr>\n",
       "    <tr>\n",
       "      <th>6</th>\n",
       "      <td>3-LETTER WORDS</td>\n",
       "      <td>In geologic time one of these, shorter than an...</td>\n",
       "    </tr>\n",
       "    <tr>\n",
       "      <th>7</th>\n",
       "      <td>HISTORY</td>\n",
       "      <td>This Asian political party was founded in 1885...</td>\n",
       "    </tr>\n",
       "    <tr>\n",
       "      <th>8</th>\n",
       "      <td>3-LETTER WORDS</td>\n",
       "      <td>A single layer of paper, or to perform one's c...</td>\n",
       "    </tr>\n",
       "    <tr>\n",
       "      <th>9</th>\n",
       "      <td>THE SOLAR SYSTEM</td>\n",
       "      <td>Objects that pass closer to the sun than Mercu...</td>\n",
       "    </tr>\n",
       "  </tbody>\n",
       "</table>\n",
       "</div>"
      ],
      "text/plain": [
       "            HISTORY  \\\n",
       "0    3-LETTER WORDS   \n",
       "1           HISTORY   \n",
       "2    3-LETTER WORDS   \n",
       "3           HISTORY   \n",
       "4    3-LETTER WORDS   \n",
       "5           HISTORY   \n",
       "6    3-LETTER WORDS   \n",
       "7           HISTORY   \n",
       "8    3-LETTER WORDS   \n",
       "9  THE SOLAR SYSTEM   \n",
       "\n",
       "  For the last 8 years of his life, Galileo was under house arrest for espousing this man's theory  \n",
       "0  In the title of an Aesop fable, this insect sh...                                                \n",
       "1  Built in 312 B.C. to link Rome & the South of ...                                                \n",
       "2  Cows regurgitate this from the first stomach t...                                                \n",
       "3  In 1000 Rajaraja I of the Cholas battled to ta...                                                \n",
       "4  A small demon, or a mischievous child (who mig...                                                \n",
       "5  Karl led the first of these Marxist organizati...                                                \n",
       "6  In geologic time one of these, shorter than an...                                                \n",
       "7  This Asian political party was founded in 1885...                                                \n",
       "8  A single layer of paper, or to perform one's c...                                                \n",
       "9  Objects that pass closer to the sun than Mercu...                                                "
      ]
     },
     "execution_count": 24,
     "metadata": {},
     "output_type": "execute_result"
    }
   ],
   "source": [
    "s_df.head(10)"
   ]
  },
  {
   "cell_type": "code",
   "execution_count": 25,
   "metadata": {},
   "outputs": [
    {
     "data": {
      "text/plain": [
       "62695"
      ]
     },
     "execution_count": 25,
     "metadata": {},
     "output_type": "execute_result"
    }
   ],
   "source": [
    "all_txt, all_label = get_text_and_labels(s_df)\n",
    "\n",
    "len(all_txt)"
   ]
  },
  {
   "cell_type": "code",
   "execution_count": 26,
   "metadata": {},
   "outputs": [
    {
     "name": "stdout",
     "output_type": "stream",
     "text": [
      "62695\n"
     ]
    }
   ],
   "source": [
    "np.random.seed(42)\n",
    "rnd_idx = np.random.permutation(len(all_txt));\n",
    "print(len(rnd_idx))\n",
    "\n",
    "all_txt = all_txt[rnd_idx]\n",
    "all_label = all_label[rnd_idx]"
   ]
  },
  {
   "cell_type": "markdown",
   "metadata": {},
   "source": [
    "Now we have our text and label indecies sorted, we can split the test and train data"
   ]
  },
  {
   "cell_type": "code",
   "execution_count": 27,
   "metadata": {},
   "outputs": [
    {
     "data": {
      "text/plain": [
       "(47021, 15674)"
      ]
     },
     "execution_count": 27,
     "metadata": {},
     "output_type": "execute_result"
    }
   ],
   "source": [
    "split = round(len(all_txt)*0.75)\n",
    "trn_texts = all_txt[0: split]\n",
    "trn_labels = all_label[0: split]\n",
    "\n",
    "val_texts = all_txt[split:]\n",
    "val_labels = all_label[split:]\n",
    "\n",
    "len(trn_texts),len(val_texts)"
   ]
  },
  {
   "cell_type": "markdown",
   "metadata": {},
   "source": [
    "We'll also save these training and validation sets"
   ]
  },
  {
   "cell_type": "code",
   "execution_count": 29,
   "metadata": {},
   "outputs": [
    {
     "name": "stdout",
     "output_type": "stream",
     "text": [
      "   labels                                               text\n",
      "0       4  The schwa used in a dictionary's pronounciatio...\n",
      "1      32  A caption on this famous Lichtenstein painting...\n",
      "2     108  These birds are so named because their long le...\n",
      "3     134  This mollusk, also called a devilfish, may inj...\n",
      "4     166  Odin rode an eight-legged one of these named S...\n",
      "5     339  (<a href=\"http://www.j-archive.com/media/2009-...\n",
      "6     570  Saul Bellow was responsible for translating th...\n",
      "7     860  Seen in many forms, this condition literally m...\n",
      "8      32  (<a href=\"http://www.j-archive.com/media/2005-...\n",
      "9     246  The year before her death, 29-year-old Emily B...\n"
     ]
    }
   ],
   "source": [
    "col_names = ['labels','text']\n",
    "trn_df = pd.DataFrame({'text':trn_texts, 'labels':trn_labels}, columns=col_names)\n",
    "print(trn_df.head(10))\n",
    "trn_df.to_csv('data/clasificaiton/train.csv', header=False, index=False)\n",
    "\n",
    "\n",
    "val_df = pd.DataFrame({'text':val_texts, 'labels':val_labels}, columns=col_names)\n",
    "val_df.to_csv('data/clasificaiton/val.csv', header=False, index=False)"
   ]
  },
  {
   "cell_type": "markdown",
   "metadata": {},
   "source": [
    "# Language model"
   ]
  },
  {
   "cell_type": "code",
   "execution_count": 30,
   "metadata": {},
   "outputs": [],
   "source": [
    "trn_df_l = pd.DataFrame({'text':trn_texts, 'labels':[0]*len(trn_texts)}, columns=col_names)\n",
    "trn_df_l.to_csv('data/language/train.csv', header=False, index=False)\n",
    "\n",
    "val_df_l = pd.DataFrame({'text':val_texts, 'labels':val_labels}, columns=col_names)\n",
    "val_df_l.to_csv('data/language/val.csv', header=False, index=False)"
   ]
  },
  {
   "cell_type": "markdown",
   "metadata": {},
   "source": [
    "Set the labels to 0 as we dont need them for our language model"
   ]
  },
  {
   "cell_type": "code",
   "execution_count": 6,
   "metadata": {},
   "outputs": [],
   "source": [
    "chunksize = 24000"
   ]
  },
  {
   "cell_type": "code",
   "execution_count": 93,
   "metadata": {},
   "outputs": [],
   "source": [
    "BOS = 'xbos'  # beginning-of-sentence tag\n",
    "FLD = 'xfld'  # data field tag"
   ]
  },
  {
   "cell_type": "code",
   "execution_count": 88,
   "metadata": {},
   "outputs": [],
   "source": [
    "re1 = re.compile(r'  +')\n",
    "\n",
    "def fixup(x):\n",
    "    x = x.replace('#39;', \"'\").replace('amp;', '&').replace('#146;', \"'\").replace(\n",
    "        'nbsp;', ' ').replace('#36;', '$').replace('\\\\n', \"\\n\").replace('quot;', \"'\").replace(\n",
    "        '<br />', \"\\n\").replace('\\\\\"', '\"').replace('<unk>','u_n').replace(' @.@ ','.').replace(\n",
    "        ' @-@ ','-').replace('\\\\', ' \\\\ ')\n",
    "    return re1.sub(' ', html.unescape(x))\n"
   ]
  },
  {
   "cell_type": "code",
   "execution_count": 89,
   "metadata": {},
   "outputs": [
    {
     "data": {
      "text/plain": [
       "'This desert in southern Africa has long been home to the San, or Bushmen'"
      ]
     },
     "execution_count": 89,
     "metadata": {},
     "output_type": "execute_result"
    }
   ],
   "source": [
    "fixup(trn_texts[2])"
   ]
  },
  {
   "cell_type": "code",
   "execution_count": 90,
   "metadata": {},
   "outputs": [],
   "source": [
    "def get_texts(df, n_lbls=1):\n",
    "    labels = df.iloc[:,range(n_lbls)].values.astype(np.int64)\n",
    "    texts = f'\\n{BOS} {FLD} 1 ' + df[n_lbls].astype(str)\n",
    "    for i in range(n_lbls+1, len(df.columns)): texts += f' {FLD} {i-n_lbls} ' + df[i].astype(str)\n",
    "    texts = list(texts.apply(fixup).values)\n",
    "\n",
    "    tok = Tokenizer().proc_all_mp(partition_by_cores(texts))\n",
    "    return tok, list(labels)"
   ]
  },
  {
   "cell_type": "code",
   "execution_count": 91,
   "metadata": {},
   "outputs": [],
   "source": [
    "def get_all(df, n_lbls):\n",
    "    tok, labels = [], []\n",
    "    for i, r in enumerate(df):\n",
    "        print(i)\n",
    "        print(type(r))\n",
    "        tok_, labels_ = get_texts(r, n_lbls)\n",
    "        tok += tok_;\n",
    "        labels += labels_\n",
    "    return tok, labels"
   ]
  },
  {
   "cell_type": "code",
   "execution_count": 37,
   "metadata": {},
   "outputs": [],
   "source": [
    "df_trn = pd.read_csv('data/language/train.csv', header=None, chunksize=chunksize)\n",
    "df_val = pd.read_csv('data/language/val.csv', header=None, chunksize=chunksize)"
   ]
  },
  {
   "cell_type": "code",
   "execution_count": 38,
   "metadata": {},
   "outputs": [
    {
     "name": "stdout",
     "output_type": "stream",
     "text": [
      "0\n",
      "<class 'pandas.core.frame.DataFrame'>\n",
      "1\n",
      "<class 'pandas.core.frame.DataFrame'>\n",
      "0\n",
      "<class 'pandas.core.frame.DataFrame'>\n"
     ]
    }
   ],
   "source": [
    "tok_trn, trn_labels = get_all(df_trn, 1)\n",
    "tok_val, val_labels = get_all(df_val, 1)"
   ]
  },
  {
   "cell_type": "code",
   "execution_count": 40,
   "metadata": {},
   "outputs": [
    {
     "data": {
      "text/plain": [
       "'\\n xbos xfld 1 this mollusk , also called a devilfish , may inject a poison to paralyze prey'"
      ]
     },
     "execution_count": 40,
     "metadata": {},
     "output_type": "execute_result"
    }
   ],
   "source": [
    "' '.join(tok_trn[3])"
   ]
  },
  {
   "cell_type": "code",
   "execution_count": 42,
   "metadata": {},
   "outputs": [],
   "source": [
    "np.save('data/language/tmp/tok_trn.npy', tok_trn)\n",
    "np.save('data/language/tmp/tok_val.npy', tok_val)"
   ]
  },
  {
   "cell_type": "code",
   "execution_count": 8,
   "metadata": {},
   "outputs": [],
   "source": [
    "tok_trn = np.load('data/language/tmp/tok_trn.npy')\n",
    "tok_val = np.load('data/language/tmp/tok_val.npy')"
   ]
  },
  {
   "cell_type": "code",
   "execution_count": 9,
   "metadata": {},
   "outputs": [
    {
     "data": {
      "text/plain": [
       "[('1', 47722),\n",
       " ('\\n', 47021),\n",
       " ('xbos', 47021),\n",
       " ('xfld', 47021),\n",
       " ('the', 41007),\n",
       " ('\"', 37040),\n",
       " (',', 30096),\n",
       " ('this', 28522),\n",
       " ('of', 26594),\n",
       " ('in', 23015),\n",
       " ('a', 21860),\n",
       " (\"'s\", 11906),\n",
       " ('to', 10826),\n",
       " ('&', 9744),\n",
       " ('/', 8799),\n",
       " ('is', 8505),\n",
       " ('for', 7674),\n",
       " ('-', 7038),\n",
       " ('was', 6742),\n",
       " ('it', 6003),\n",
       " ('on', 5469),\n",
       " ('.', 5049),\n",
       " ('from', 4219),\n",
       " ('his', 4038),\n",
       " ('he', 3773)]"
      ]
     },
     "execution_count": 9,
     "metadata": {},
     "output_type": "execute_result"
    }
   ],
   "source": [
    "freq = Counter(p for o in tok_trn for p in o)\n",
    "freq.most_common(25)"
   ]
  },
  {
   "cell_type": "markdown",
   "metadata": {},
   "source": [
    "The vocab is the unique set of all tokens in our dataset. The vocab provides us a way for us to simply replace each word in our datasets with a unique integer called an index.\n",
    "\n",
    "In a large corpus of data one might find some rare words which are only used a few times in the whole dataset. We discard such rare words and avoid trying to learn meaningful patterns out of them.\n",
    "\n",
    "Here we have set a minimum frequency of occurence to 2 times. It has been observed by NLP practicioners that a maximum vocab of 60k usually yields good results for classification tasks. So we set maz_vocab to 60000."
   ]
  },
  {
   "cell_type": "code",
   "execution_count": 10,
   "metadata": {},
   "outputs": [
    {
     "data": {
      "text/plain": [
       "45836"
      ]
     },
     "execution_count": 10,
     "metadata": {},
     "output_type": "execute_result"
    }
   ],
   "source": [
    "len(freq)"
   ]
  },
  {
   "cell_type": "code",
   "execution_count": 11,
   "metadata": {},
   "outputs": [],
   "source": [
    "max_vocab = 60000\n",
    "min_freq = 3"
   ]
  },
  {
   "cell_type": "code",
   "execution_count": 12,
   "metadata": {},
   "outputs": [],
   "source": [
    "itos = [o for o,c in freq.most_common(max_vocab) if c>min_freq]\n",
    "itos.insert(0, '_pad_')\n",
    "itos.insert(0, '_unk_')"
   ]
  },
  {
   "cell_type": "markdown",
   "metadata": {},
   "source": [
    "We create a reverse mapping called stoi which is useful to lookup the index of a given token. stoi also has the same number of elements as itos. We use a high performance container called collections.defaultdict to store our stoi mapping.\n",
    "\n"
   ]
  },
  {
   "cell_type": "code",
   "execution_count": 13,
   "metadata": {},
   "outputs": [
    {
     "data": {
      "text/plain": [
       "13289"
      ]
     },
     "execution_count": 13,
     "metadata": {},
     "output_type": "execute_result"
    }
   ],
   "source": [
    "stoi = collections.defaultdict(lambda:0, {v:k for k,v in enumerate(itos)})\n",
    "len(itos)"
   ]
  },
  {
   "cell_type": "code",
   "execution_count": 14,
   "metadata": {},
   "outputs": [],
   "source": [
    "trn_lm = np.array([[stoi[o] for o in p] for p in tok_trn])\n",
    "val_lm = np.array([[stoi[o] for o in p] for p in tok_val])"
   ]
  },
  {
   "cell_type": "code",
   "execution_count": 15,
   "metadata": {},
   "outputs": [],
   "source": [
    "np.save(LM_PATH/'tmp'/'trn_ids.npy', trn_lm)\n",
    "np.save(LM_PATH/'tmp'/'val_ids.npy', val_lm)\n",
    "pickle.dump(itos, open(LM_PATH/'tmp'/'itos.pkl', 'wb'))"
   ]
  },
  {
   "cell_type": "code",
   "execution_count": 16,
   "metadata": {},
   "outputs": [
    {
     "data": {
      "text/plain": [
       "(13289, 47021)"
      ]
     },
     "execution_count": 16,
     "metadata": {},
     "output_type": "execute_result"
    }
   ],
   "source": [
    "vs=len(itos)\n",
    "vs,len(trn_lm)"
   ]
  },
  {
   "cell_type": "code",
   "execution_count": null,
   "metadata": {},
   "outputs": [],
   "source": []
  },
  {
   "cell_type": "markdown",
   "metadata": {},
   "source": [
    "# wikitext103 conversion"
   ]
  },
  {
   "cell_type": "code",
   "execution_count": 26,
   "metadata": {},
   "outputs": [],
   "source": [
    "# ! wget -nH -r -np -P data http://files.fast.ai/models/wt103/"
   ]
  },
  {
   "cell_type": "markdown",
   "metadata": {},
   "source": [
    "The pre-trained LM weights have an embedding size of 400, 1150 hidden units and just 3 layers. We need to match these values with the target IMDB LM so that the weights can be loaded up."
   ]
  },
  {
   "cell_type": "code",
   "execution_count": 17,
   "metadata": {},
   "outputs": [],
   "source": [
    "em_sz,nh,nl = 400,1150,3"
   ]
  },
  {
   "cell_type": "code",
   "execution_count": 18,
   "metadata": {},
   "outputs": [],
   "source": [
    "PRE_PATH = PATH/'models'/'wt103'\n",
    "PRE_LM_PATH = PRE_PATH/'fwd_wt103.h5'"
   ]
  },
  {
   "cell_type": "code",
   "execution_count": 19,
   "metadata": {},
   "outputs": [
    {
     "name": "stdout",
     "output_type": "stream",
     "text": [
      "data/models/wt103/fwd_wt103.h5\n"
     ]
    }
   ],
   "source": [
    "print(PRE_LM_PATH)"
   ]
  },
  {
   "cell_type": "code",
   "execution_count": 20,
   "metadata": {},
   "outputs": [],
   "source": [
    "wgts = torch.load(PRE_LM_PATH, map_location=lambda storage, loc: storage)"
   ]
  },
  {
   "cell_type": "markdown",
   "metadata": {
    "collapsed": true
   },
   "source": [
    "We calculate the mean of the layer0 encoder weights. This can be used to assign weights to unknown tokens when we transfer to target IMDB LM."
   ]
  },
  {
   "cell_type": "code",
   "execution_count": 21,
   "metadata": {},
   "outputs": [],
   "source": [
    "enc_wgts = to_np(wgts['0.encoder.weight'])\n",
    "row_m = enc_wgts.mean(0)"
   ]
  },
  {
   "cell_type": "code",
   "execution_count": 22,
   "metadata": {},
   "outputs": [],
   "source": [
    "itos2 = pickle.load((PRE_PATH/'itos_wt103.pkl').open('rb'))\n",
    "stoi2 = collections.defaultdict(lambda:-1, {v:k for k,v in enumerate(itos2)})"
   ]
  },
  {
   "cell_type": "markdown",
   "metadata": {},
   "source": [
    "Before we try to transfer the knowledge from wikitext to the jeopardy LM, we match up the vocab words and their indexes. We use the defaultdict container once again, to assign mean weights to unknown jeopardy tokens that do not exist in wikitext103.\n",
    "\n"
   ]
  },
  {
   "cell_type": "code",
   "execution_count": 23,
   "metadata": {},
   "outputs": [],
   "source": [
    "new_w = np.zeros((vs, em_sz), dtype=np.float32)\n",
    "for i,w in enumerate(itos):\n",
    "    r = stoi2[w]\n",
    "    new_w[i] = enc_wgts[r] if r>=0 else row_m"
   ]
  },
  {
   "cell_type": "markdown",
   "metadata": {},
   "source": [
    "We now overwrite the weights into the wgts odict. The decoder module, which we will explore in detail is also loaded with the same weights due to an idea called weight tying."
   ]
  },
  {
   "cell_type": "code",
   "execution_count": 24,
   "metadata": {},
   "outputs": [],
   "source": [
    "wgts['0.encoder.weight'] = T(new_w)\n",
    "wgts['0.encoder_with_dropout.embed.weight'] = T(np.copy(new_w))\n",
    "wgts['1.decoder.weight'] = T(np.copy(new_w))"
   ]
  },
  {
   "cell_type": "markdown",
   "metadata": {},
   "source": [
    "Now that we have the weights prepared, we are ready to create and start training our new IMDB language pytorch model!"
   ]
  },
  {
   "cell_type": "markdown",
   "metadata": {},
   "source": [
    "# Language model"
   ]
  },
  {
   "cell_type": "markdown",
   "metadata": {},
   "source": [
    "It is fairly straightforward to create a new language model using the fastai library. Like every other lesson, our model will have a backbone and a custom head. The backbone in our case is the IMDB LM pre-trained with wikitext and the custom head is a linear classifier. In this section we will focus on the backbone LM and the next section will talk about the classifier custom head."
   ]
  },
  {
   "cell_type": "markdown",
   "metadata": {},
   "source": [
    "bptt (also known traditionally in NLP LM as ngrams) in fastai LMs is approximated to a std. deviation around 70, by perturbing the sequence length on a per-batch basis. This is akin to shuffling our data in computer vision, only that in NLP we cannot shuffle inputs and we have to maintain statefulness.\n"
   ]
  },
  {
   "cell_type": "markdown",
   "metadata": {},
   "source": [
    "Since we are predicting words using ngrams, we want our next batch to line up with the end-points of the previous mini-batch's items. batch-size is constant and but the fastai library expands and contracts bptt each mini-batch using a clever stochastic implementation of a batch. (original credits attributed to Smerity)\n",
    "\n"
   ]
  },
  {
   "cell_type": "code",
   "execution_count": 27,
   "metadata": {},
   "outputs": [],
   "source": [
    "wd=1e-7\n",
    "bptt=70\n",
    "bs=52\n",
    "opt_fn = partial(optim.Adam, betas=(0.8, 0.99))"
   ]
  },
  {
   "cell_type": "code",
   "execution_count": 28,
   "metadata": {},
   "outputs": [
    {
     "data": {
      "text/plain": [
       "(1011726, 15808)"
      ]
     },
     "execution_count": 28,
     "metadata": {},
     "output_type": "execute_result"
    }
   ],
   "source": [
    "t = len(np.concatenate(trn_lm))\n",
    "t, t//64"
   ]
  },
  {
   "cell_type": "markdown",
   "metadata": {},
   "source": [
    "The goal of the LM is to learn to predict a word/token given a preceeding set of words(tokens). We take all the movie reviews in both the 90k training set and 10k validation set and concatenate them to form long strings of tokens. In fastai, we use the LanguageModelLoader to create a data loader which makes it easy to create and use bptt sized mini batches. The LanguageModelLoader takes a concatenated string of tokens and returns a loader.\n"
   ]
  },
  {
   "cell_type": "markdown",
   "metadata": {},
   "source": [
    "We have a special modeldata object class for LMs called LanguageModelData to which we can pass the training and validation loaders and get in return the model itself."
   ]
  },
  {
   "cell_type": "code",
   "execution_count": 29,
   "metadata": {},
   "outputs": [],
   "source": [
    "trn_dl = LanguageModelLoader(np.concatenate(trn_lm), bs, bptt)\n",
    "val_dl = LanguageModelLoader(np.concatenate(val_lm), bs, bptt)\n",
    "md = LanguageModelData(PATH, 1, vs, trn_dl, val_dl, bs=bs, bptt=bptt)"
   ]
  },
  {
   "cell_type": "markdown",
   "metadata": {},
   "source": [
    "We setup the dropouts for the model - these values have been chosen after experimentation. If you need to update them for custom LMs, you can change the weighting factor (0.7 here) based on the amount of data you have. For more data, you can reduce dropout factor and for small datasets, you can reduce overfitting by choosing a higher dropout factor. No other dropout value requires tuning"
   ]
  },
  {
   "cell_type": "code",
   "execution_count": 30,
   "metadata": {},
   "outputs": [],
   "source": [
    "drops = np.array([0.25, 0.1, 0.2, 0.02, 0.15])*1"
   ]
  },
  {
   "cell_type": "markdown",
   "metadata": {},
   "source": [
    "We first tune the last embedding layer so that the missing tokens initialized with mean weights get tuned properly. So we freeze everything except the last layer.\n",
    "\n",
    "We also keep track of the accuracy metric."
   ]
  },
  {
   "cell_type": "code",
   "execution_count": 31,
   "metadata": {},
   "outputs": [],
   "source": [
    "learner= md.get_model(opt_fn, em_sz, nh, nl, \n",
    "    dropouti=drops[0], dropout=drops[1], wdrop=drops[2], dropoute=drops[3], dropouth=drops[4])\n",
    "\n",
    "learner.metrics = [accuracy]\n",
    "learner.freeze_to(-1)"
   ]
  },
  {
   "cell_type": "code",
   "execution_count": 32,
   "metadata": {},
   "outputs": [],
   "source": [
    "learner.model.load_state_dict(wgts)\n"
   ]
  },
  {
   "cell_type": "markdown",
   "metadata": {},
   "source": [
    "We set learning rates and fit our IMDB LM. We first run one epoch to tune the last layer which contains the embedding weights. This should help the missing tokens in the wikitext103 learn better weights.\n",
    "\n"
   ]
  },
  {
   "cell_type": "code",
   "execution_count": 33,
   "metadata": {},
   "outputs": [],
   "source": [
    "lr=1e-3\n",
    "lrs = lr"
   ]
  },
  {
   "cell_type": "code",
   "execution_count": 34,
   "metadata": {},
   "outputs": [
    {
     "data": {
      "application/vnd.jupyter.widget-view+json": {
       "model_id": "4d65341c41ee47bcbfaeed5ffde50a41",
       "version_major": 2,
       "version_minor": 0
      },
      "text/html": [
       "<p>Failed to display Jupyter Widget of type <code>HBox</code>.</p>\n",
       "<p>\n",
       "  If you're reading this message in the Jupyter Notebook or JupyterLab Notebook, it may mean\n",
       "  that the widgets JavaScript is still loading. If this message persists, it\n",
       "  likely means that the widgets JavaScript library is either not installed or\n",
       "  not enabled. See the <a href=\"https://ipywidgets.readthedocs.io/en/stable/user_install.html\">Jupyter\n",
       "  Widgets Documentation</a> for setup instructions.\n",
       "</p>\n",
       "<p>\n",
       "  If you're reading this message in another frontend (for example, a static\n",
       "  rendering on GitHub or <a href=\"https://nbviewer.jupyter.org/\">NBViewer</a>),\n",
       "  it may mean that your frontend doesn't currently support widgets.\n",
       "</p>\n"
      ],
      "text/plain": [
       "HBox(children=(IntProgress(value=0, description='Epoch', max=1), HTML(value='')))"
      ]
     },
     "metadata": {},
     "output_type": "display_data"
    },
    {
     "name": "stdout",
     "output_type": "stream",
     "text": [
      "epoch      trn_loss   val_loss   accuracy                   \n",
      "    0      5.058785   4.602905   0.298641  \n",
      "\n"
     ]
    },
    {
     "data": {
      "text/plain": [
       "[array([ 4.6029]), 0.29864106233693827]"
      ]
     },
     "execution_count": 34,
     "metadata": {},
     "output_type": "execute_result"
    }
   ],
   "source": [
    "learner.fit(lrs/2, 1, wds=wd, use_clr=(32,2), cycle_len=1)"
   ]
  },
  {
   "cell_type": "markdown",
   "metadata": {},
   "source": [
    "Note that we print out accuracy and keep track of how often we end up predicting the target word correctly. While this is a good metric to check, it is not part of our loss function as it can get quite bumpy. We only minimize cross-entropy loss in the LM.\n",
    "\n",
    "The exponent of the cross-entropy loss is called the perplexity of the LM. (low perplexity is better).\n",
    "\n"
   ]
  },
  {
   "cell_type": "code",
   "execution_count": 35,
   "metadata": {},
   "outputs": [],
   "source": [
    "learner.save('lm_last_ft')"
   ]
  },
  {
   "cell_type": "code",
   "execution_count": 36,
   "metadata": {},
   "outputs": [],
   "source": [
    "learner.load('lm_last_ft')"
   ]
  },
  {
   "cell_type": "code",
   "execution_count": 37,
   "metadata": {},
   "outputs": [],
   "source": [
    "learner.unfreeze()"
   ]
  },
  {
   "cell_type": "code",
   "execution_count": 38,
   "metadata": {},
   "outputs": [
    {
     "data": {
      "application/vnd.jupyter.widget-view+json": {
       "model_id": "d698e56746f8488bb8bcef157fb2123f",
       "version_major": 2,
       "version_minor": 0
      },
      "text/html": [
       "<p>Failed to display Jupyter Widget of type <code>HBox</code>.</p>\n",
       "<p>\n",
       "  If you're reading this message in the Jupyter Notebook or JupyterLab Notebook, it may mean\n",
       "  that the widgets JavaScript is still loading. If this message persists, it\n",
       "  likely means that the widgets JavaScript library is either not installed or\n",
       "  not enabled. See the <a href=\"https://ipywidgets.readthedocs.io/en/stable/user_install.html\">Jupyter\n",
       "  Widgets Documentation</a> for setup instructions.\n",
       "</p>\n",
       "<p>\n",
       "  If you're reading this message in another frontend (for example, a static\n",
       "  rendering on GitHub or <a href=\"https://nbviewer.jupyter.org/\">NBViewer</a>),\n",
       "  it may mean that your frontend doesn't currently support widgets.\n",
       "</p>\n"
      ],
      "text/plain": [
       "HBox(children=(IntProgress(value=0, description='Epoch', max=1), HTML(value='')))"
      ]
     },
     "metadata": {},
     "output_type": "display_data"
    },
    {
     "name": "stdout",
     "output_type": "stream",
     "text": [
      "epoch      trn_loss   val_loss   accuracy                   \n",
      "    0      3.697025   3.439643   0.418681  \n",
      "\n"
     ]
    }
   ],
   "source": [
    "learner.lr_find(start_lr=lrs/10, end_lr=lrs*10, linear=True)"
   ]
  },
  {
   "cell_type": "code",
   "execution_count": 39,
   "metadata": {},
   "outputs": [
    {
     "data": {
      "image/png": "[encoded data removed]",
      "text/plain": [
       "<matplotlib.figure.Figure at 0x7f03080bc748>"
      ]
     },
     "metadata": {},
     "output_type": "display_data"
    }
   ],
   "source": [
    "learner.sched.plot()"
   ]
  },
  {
   "cell_type": "code",
   "execution_count": 40,
   "metadata": {},
   "outputs": [
    {
     "data": {
      "application/vnd.jupyter.widget-view+json": {
       "model_id": "3948f79a211f423c8b147d840b10ed9d",
       "version_major": 2,
       "version_minor": 0
      },
      "text/html": [
       "<p>Failed to display Jupyter Widget of type <code>HBox</code>.</p>\n",
       "<p>\n",
       "  If you're reading this message in the Jupyter Notebook or JupyterLab Notebook, it may mean\n",
       "  that the widgets JavaScript is still loading. If this message persists, it\n",
       "  likely means that the widgets JavaScript library is either not installed or\n",
       "  not enabled. See the <a href=\"https://ipywidgets.readthedocs.io/en/stable/user_install.html\">Jupyter\n",
       "  Widgets Documentation</a> for setup instructions.\n",
       "</p>\n",
       "<p>\n",
       "  If you're reading this message in another frontend (for example, a static\n",
       "  rendering on GitHub or <a href=\"https://nbviewer.jupyter.org/\">NBViewer</a>),\n",
       "  it may mean that your frontend doesn't currently support widgets.\n",
       "</p>\n"
      ],
      "text/plain": [
       "HBox(children=(IntProgress(value=0, description='Epoch', max=15), HTML(value='')))"
      ]
     },
     "metadata": {},
     "output_type": "display_data"
    },
    {
     "name": "stdout",
     "output_type": "stream",
     "text": [
      "epoch      trn_loss   val_loss   accuracy                   \n",
      "    0      3.720808   3.323554   0.430396  \n",
      "    1      3.462717   3.194241   0.444766                   \n",
      "    2      3.296841   3.145685   0.44934                    \n",
      "    3      3.189659   3.116823   0.452678                   \n",
      "    4      3.076993   3.110479   0.454128                   \n",
      "    5      3.003034   3.103891   0.455656                   \n",
      "    6      2.966972   3.096788   0.456048                   \n",
      "    7      2.857051   3.112234   0.456032                   \n",
      "    8      2.845529   3.106192   0.456123                   \n",
      "    9      2.760158   3.121993   0.455679                   \n",
      "    10     2.768053   3.117752   0.455845                   \n",
      "    11     2.682982   3.133739   0.455965                   \n",
      "    12     2.67588    3.134622   0.455802                   \n",
      "    13     2.648194   3.140831   0.456006                   \n",
      "    14     2.624377   3.144132   0.456194                   \n",
      "\n"
     ]
    },
    {
     "data": {
      "text/plain": [
       "[array([ 3.14413]), 0.45619449539882378]"
      ]
     },
     "execution_count": 40,
     "metadata": {},
     "output_type": "execute_result"
    }
   ],
   "source": [
    "learner.fit(lrs, 1, wds=wd, use_clr=(20,10), cycle_len=15)"
   ]
  },
  {
   "cell_type": "markdown",
   "metadata": {},
   "source": [
    "We save the trained model weights and separately save the encoder part of the LM model as well. This will serve as our backbone in the classification task model.\n"
   ]
  },
  {
   "cell_type": "code",
   "execution_count": 41,
   "metadata": {},
   "outputs": [
    {
     "data": {
      "text/plain": [
       "23.199483140560965"
      ]
     },
     "execution_count": 41,
     "metadata": {},
     "output_type": "execute_result"
    }
   ],
   "source": [
    "math.exp(3.14413)"
   ]
  },
  {
   "cell_type": "code",
   "execution_count": 42,
   "metadata": {},
   "outputs": [],
   "source": [
    "learner.save('lm1')"
   ]
  },
  {
   "cell_type": "code",
   "execution_count": 43,
   "metadata": {},
   "outputs": [],
   "source": [
    "learner.save_encoder('lm1_enc')"
   ]
  },
  {
   "cell_type": "code",
   "execution_count": 44,
   "metadata": {},
   "outputs": [
    {
     "data": {
      "image/png": "[encoded data removed]",
      "text/plain": [
       "<matplotlib.figure.Figure at 0x7f03060ffac8>"
      ]
     },
     "metadata": {},
     "output_type": "display_data"
    }
   ],
   "source": [
    "learner.sched.plot_loss()"
   ]
  },
  {
   "cell_type": "markdown",
   "metadata": {},
   "source": [
    "# Classifier tokens"
   ]
  },
  {
   "cell_type": "markdown",
   "metadata": {},
   "source": [
    "The classifier model is basically a linear layer custom head on top of the LM backbone. Setting up the classifier data is similar to the LM data setup except that we cannot use the unsup movie reviews this time.\n",
    "\n"
   ]
  },
  {
   "cell_type": "code",
   "execution_count": 46,
   "metadata": {},
   "outputs": [],
   "source": [
    "df_trn = pd.read_csv(CLAS_PATH/'train.csv', header=None, chunksize=chunksize)\n",
    "df_val = pd.read_csv(CLAS_PATH/'val.csv', header=None, chunksize=chunksize)"
   ]
  },
  {
   "cell_type": "code",
   "execution_count": 51,
   "metadata": {},
   "outputs": [
    {
     "name": "stdout",
     "output_type": "stream",
     "text": [
      "0\n",
      "<class 'pandas.core.frame.DataFrame'>\n",
      "1\n",
      "<class 'pandas.core.frame.DataFrame'>\n",
      "0\n",
      "<class 'pandas.core.frame.DataFrame'>\n"
     ]
    }
   ],
   "source": [
    "tok_trn, trn_labels = get_all(df_trn, 1)\n",
    "tok_val, val_labels = get_all(df_val, 1)"
   ]
  },
  {
   "cell_type": "code",
   "execution_count": 52,
   "metadata": {},
   "outputs": [],
   "source": [
    "(CLAS_PATH/'tmp').mkdir(exist_ok=True)\n",
    "\n",
    "np.save(CLAS_PATH/'tmp'/'tok_trn.npy', tok_trn)\n",
    "np.save(CLAS_PATH/'tmp'/'tok_val.npy', tok_val)\n",
    "\n",
    "np.save(CLAS_PATH/'tmp'/'trn_labels.npy', trn_labels)\n",
    "np.save(CLAS_PATH/'tmp'/'val_labels.npy', val_labels)"
   ]
  },
  {
   "cell_type": "code",
   "execution_count": 29,
   "metadata": {},
   "outputs": [],
   "source": [
    "tok_trn = np.load(CLAS_PATH/'tmp'/'tok_trn.npy')\n",
    "tok_val = np.load(CLAS_PATH/'tmp'/'tok_val.npy')"
   ]
  },
  {
   "cell_type": "code",
   "execution_count": 30,
   "metadata": {},
   "outputs": [
    {
     "data": {
      "text/plain": [
       "13289"
      ]
     },
     "execution_count": 30,
     "metadata": {},
     "output_type": "execute_result"
    }
   ],
   "source": [
    "itos = pickle.load((LM_PATH/'tmp'/'itos.pkl').open('rb'))\n",
    "stoi = collections.defaultdict(lambda:0, {v:k for k,v in enumerate(itos)})\n",
    "len(itos)"
   ]
  },
  {
   "cell_type": "code",
   "execution_count": 31,
   "metadata": {},
   "outputs": [],
   "source": [
    "trn_clas = np.array([[stoi[o] for o in p] for p in tok_trn])\n",
    "val_clas = np.array([[stoi[o] for o in p] for p in tok_val])"
   ]
  },
  {
   "cell_type": "code",
   "execution_count": 32,
   "metadata": {},
   "outputs": [],
   "source": [
    "np.save(CLAS_PATH/'tmp'/'trn_ids.npy', trn_clas)\n",
    "np.save(CLAS_PATH/'tmp'/'val_ids.npy', val_clas)"
   ]
  },
  {
   "cell_type": "markdown",
   "metadata": {},
   "source": [
    "## Classifier"
   ]
  },
  {
   "cell_type": "markdown",
   "metadata": {},
   "source": [
    "Now we can create our final model, a classifier which is really a custom linear head over our trained IMDB backbone. The steps to create the classifier model are similar to the ones for the LM.\n",
    "\n"
   ]
  },
  {
   "cell_type": "code",
   "execution_count": 33,
   "metadata": {},
   "outputs": [],
   "source": [
    "trn_clas = np.load(CLAS_PATH/'tmp'/'trn_ids.npy')\n",
    "val_clas = np.load(CLAS_PATH/'tmp'/'val_ids.npy')"
   ]
  },
  {
   "cell_type": "code",
   "execution_count": 34,
   "metadata": {},
   "outputs": [],
   "source": [
    "trn_labels = np.squeeze(np.load(CLAS_PATH/'tmp'/'trn_labels.npy'))\n",
    "val_labels = np.squeeze(np.load(CLAS_PATH/'tmp'/'val_labels.npy'))"
   ]
  },
  {
   "cell_type": "code",
   "execution_count": 35,
   "metadata": {},
   "outputs": [],
   "source": [
    "bptt,em_sz,nh,nl = 70,400,1150,3\n",
    "vs = len(itos)\n",
    "opt_fn = partial(optim.Adam, betas=(0.8, 0.99))\n",
    "bs = 48"
   ]
  },
  {
   "cell_type": "code",
   "execution_count": 36,
   "metadata": {},
   "outputs": [],
   "source": [
    "\n",
    "min_lbl = trn_labels.min()\n",
    "trn_labels -= min_lbl\n",
    "val_labels -= min_lbl\n",
    "c=int(trn_labels.max())+1"
   ]
  },
  {
   "cell_type": "markdown",
   "metadata": {},
   "source": [
    "In the classifier, unlike LM, we need to read a movie review at a time and learn to predict the it's sentiment as pos/neg. We do not deal with equal bptt size batches, so we have to pad the sequences to the same length in each batch. To create batches of similar sized movie reviews, we use a sortish sampler method invented by @Smerity and @jekbradbury"
   ]
  },
  {
   "cell_type": "markdown",
   "metadata": {},
   "source": [
    "The sortishSampler cuts down the overall number of padding tokens the classifier ends up seeing.\n",
    "\n"
   ]
  },
  {
   "cell_type": "code",
   "execution_count": 37,
   "metadata": {},
   "outputs": [],
   "source": [
    "trn_ds = TextDataset(trn_clas, trn_labels)\n",
    "val_ds = TextDataset(val_clas, val_labels)\n",
    "trn_samp = SortishSampler(trn_clas, key=lambda x: len(trn_clas[x]), bs=bs//2)\n",
    "val_samp = SortSampler(val_clas, key=lambda x: len(val_clas[x]))\n",
    "trn_dl = DataLoader(trn_ds, bs//2, transpose=True, num_workers=1, pad_idx=1, sampler=trn_samp)\n",
    "val_dl = DataLoader(val_ds, bs, transpose=True, num_workers=1, pad_idx=1, sampler=val_samp)\n",
    "md = ModelData(PATH, trn_dl, val_dl)"
   ]
  },
  {
   "cell_type": "code",
   "execution_count": 38,
   "metadata": {},
   "outputs": [],
   "source": [
    "# part 1\n",
    "dps = np.array([0.4, 0.5, 0.05, 0.3, 0.1])"
   ]
  },
  {
   "cell_type": "code",
   "execution_count": 39,
   "metadata": {},
   "outputs": [],
   "source": [
    "dps = np.array([0.4,0.5,0.05,0.3,0.4])*0.5"
   ]
  },
  {
   "cell_type": "code",
   "execution_count": 40,
   "metadata": {},
   "outputs": [],
   "source": [
    "m = get_rnn_classifer(bptt, 20*70, c, vs, emb_sz=em_sz, n_hid=nh, n_layers=nl, pad_token=1,\n",
    "          layers=[em_sz*3, 50, c], drops=[dps[4], 0.1],\n",
    "          dropouti=dps[0], wdrop=dps[1], dropoute=dps[2], dropouth=dps[3])"
   ]
  },
  {
   "cell_type": "code",
   "execution_count": 41,
   "metadata": {},
   "outputs": [],
   "source": [
    "opt_fn = partial(optim.Adam, betas=(0.7, 0.99))"
   ]
  },
  {
   "cell_type": "code",
   "execution_count": 42,
   "metadata": {},
   "outputs": [],
   "source": [
    "learn = RNN_Learner(md, TextModel(to_gpu(m)), opt_fn=opt_fn)\n",
    "learn.reg_fn = partial(seq2seq_reg, alpha=2, beta=1)\n",
    "learn.clip=.25\n",
    "learn.metrics = [accuracy]"
   ]
  },
  {
   "cell_type": "code",
   "execution_count": 23,
   "metadata": {},
   "outputs": [],
   "source": [
    "lr=3e-3\n",
    "lrm = 2.6\n",
    "lrs = np.array([lr/(lrm**4), lr/(lrm**3), lr/(lrm**2), lr/lrm, lr])"
   ]
  },
  {
   "cell_type": "code",
   "execution_count": 24,
   "metadata": {},
   "outputs": [],
   "source": [
    "lrs=np.array([1e-4,1e-4,1e-4,1e-3,1e-2])"
   ]
  },
  {
   "cell_type": "code",
   "execution_count": 25,
   "metadata": {},
   "outputs": [],
   "source": [
    "wd = 1e-7\n",
    "wd = 0\n",
    "learn.load_encoder('lm1_enc')"
   ]
  },
  {
   "cell_type": "code",
   "execution_count": 26,
   "metadata": {},
   "outputs": [],
   "source": [
    "learn.freeze_to(-1)"
   ]
  },
  {
   "cell_type": "code",
   "execution_count": 27,
   "metadata": {},
   "outputs": [
    {
     "data": {
      "application/vnd.jupyter.widget-view+json": {
       "model_id": "0733b259d2d04803b6bc59aac71afaa2",
       "version_major": 2,
       "version_minor": 0
      },
      "text/html": [
       "<p>Failed to display Jupyter Widget of type <code>HBox</code>.</p>\n",
       "<p>\n",
       "  If you're reading this message in the Jupyter Notebook or JupyterLab Notebook, it may mean\n",
       "  that the widgets JavaScript is still loading. If this message persists, it\n",
       "  likely means that the widgets JavaScript library is either not installed or\n",
       "  not enabled. See the <a href=\"https://ipywidgets.readthedocs.io/en/stable/user_install.html\">Jupyter\n",
       "  Widgets Documentation</a> for setup instructions.\n",
       "</p>\n",
       "<p>\n",
       "  If you're reading this message in another frontend (for example, a static\n",
       "  rendering on GitHub or <a href=\"https://nbviewer.jupyter.org/\">NBViewer</a>),\n",
       "  it may mean that your frontend doesn't currently support widgets.\n",
       "</p>\n"
      ],
      "text/plain": [
       "HBox(children=(IntProgress(value=0, description='Epoch', max=1), HTML(value='')))"
      ]
     },
     "metadata": {},
     "output_type": "display_data"
    },
    {
     "name": "stdout",
     "output_type": "stream",
     "text": [
      " 83%|████████▎ | 1629/1960 [00:34<00:06, 47.44it/s, loss=23.5]"
     ]
    },
    {
     "data": {
      "image/png": "[encoded data removed]",
      "text/plain": [
       "<matplotlib.figure.Figure at 0x7f24d539f978>"
      ]
     },
     "metadata": {},
     "output_type": "display_data"
    },
    {
     "name": "stdout",
     "output_type": "stream",
     "text": [
      "\r",
      " 83%|████████▎ | 1629/1960 [00:50<00:10, 32.55it/s, loss=23.5]"
     ]
    }
   ],
   "source": [
    "learn.lr_find(lrs/1000)\n",
    "learn.sched.plot()"
   ]
  },
  {
   "cell_type": "code",
   "execution_count": 28,
   "metadata": {},
   "outputs": [
    {
     "data": {
      "application/vnd.jupyter.widget-view+json": {
       "model_id": "a366f39b1c1a4463b2bb3124aa449345",
       "version_major": 2,
       "version_minor": 0
      },
      "text/html": [
       "<p>Failed to display Jupyter Widget of type <code>HBox</code>.</p>\n",
       "<p>\n",
       "  If you're reading this message in the Jupyter Notebook or JupyterLab Notebook, it may mean\n",
       "  that the widgets JavaScript is still loading. If this message persists, it\n",
       "  likely means that the widgets JavaScript library is either not installed or\n",
       "  not enabled. See the <a href=\"https://ipywidgets.readthedocs.io/en/stable/user_install.html\">Jupyter\n",
       "  Widgets Documentation</a> for setup instructions.\n",
       "</p>\n",
       "<p>\n",
       "  If you're reading this message in another frontend (for example, a static\n",
       "  rendering on GitHub or <a href=\"https://nbviewer.jupyter.org/\">NBViewer</a>),\n",
       "  it may mean that your frontend doesn't currently support widgets.\n",
       "</p>\n"
      ],
      "text/plain": [
       "HBox(children=(IntProgress(value=0, description='Epoch', max=1), HTML(value='')))"
      ]
     },
     "metadata": {},
     "output_type": "display_data"
    },
    {
     "name": "stdout",
     "output_type": "stream",
     "text": [
      "  5%|▌         | 99/1960 [00:02<00:40, 46.03it/s, loss=6.71]  \n",
      "  6%|▌         | 111/1960 [00:02<00:39, 46.79it/s, loss=6.65]"
     ]
    },
    {
     "name": "stderr",
     "output_type": "stream",
     "text": [
      "Exception in thread Thread-4:\n",
      "Traceback (most recent call last):\n",
      "  File \"/home/paperspace/anaconda3/envs/fastai/lib/python3.6/threading.py\", line 916, in _bootstrap_inner\n",
      "    self.run()\n",
      "  File \"/home/paperspace/anaconda3/envs/fastai/lib/python3.6/site-packages/tqdm/_tqdm.py\", line 144, in run\n",
      "    for instance in self.tqdm_cls._instances:\n",
      "  File \"/home/paperspace/anaconda3/envs/fastai/lib/python3.6/_weakrefset.py\", line 60, in __iter__\n",
      "    for itemref in self.data:\n",
      "RuntimeError: Set changed size during iteration\n",
      "\n"
     ]
    },
    {
     "name": "stdout",
     "output_type": "stream",
     "text": [
      "epoch      trn_loss   val_loss   accuracy                     \n",
      "    0      4.719475   4.417757   0.148379  \n",
      "\n"
     ]
    },
    {
     "data": {
      "text/plain": [
       "[array([ 4.41776]), 0.14837896638822781]"
      ]
     },
     "execution_count": 28,
     "metadata": {},
     "output_type": "execute_result"
    }
   ],
   "source": [
    "learn.fit(lrs, 1, wds=wd, cycle_len=1, use_clr=(8,3))"
   ]
  },
  {
   "cell_type": "code",
   "execution_count": 29,
   "metadata": {},
   "outputs": [],
   "source": [
    "learn.save('clas_0')"
   ]
  },
  {
   "cell_type": "code",
   "execution_count": 30,
   "metadata": {},
   "outputs": [],
   "source": [
    "learn.load('clas_0')"
   ]
  },
  {
   "cell_type": "code",
   "execution_count": 31,
   "metadata": {},
   "outputs": [],
   "source": [
    "learn.freeze_to(-2)"
   ]
  },
  {
   "cell_type": "code",
   "execution_count": 32,
   "metadata": {},
   "outputs": [
    {
     "data": {
      "application/vnd.jupyter.widget-view+json": {
       "model_id": "6d1bc3faed2946ac801f799c8e83aab1",
       "version_major": 2,
       "version_minor": 0
      },
      "text/html": [
       "<p>Failed to display Jupyter Widget of type <code>HBox</code>.</p>\n",
       "<p>\n",
       "  If you're reading this message in the Jupyter Notebook or JupyterLab Notebook, it may mean\n",
       "  that the widgets JavaScript is still loading. If this message persists, it\n",
       "  likely means that the widgets JavaScript library is either not installed or\n",
       "  not enabled. See the <a href=\"https://ipywidgets.readthedocs.io/en/stable/user_install.html\">Jupyter\n",
       "  Widgets Documentation</a> for setup instructions.\n",
       "</p>\n",
       "<p>\n",
       "  If you're reading this message in another frontend (for example, a static\n",
       "  rendering on GitHub or <a href=\"https://nbviewer.jupyter.org/\">NBViewer</a>),\n",
       "  it may mean that your frontend doesn't currently support widgets.\n",
       "</p>\n"
      ],
      "text/plain": [
       "HBox(children=(IntProgress(value=0, description='Epoch', max=1), HTML(value='')))"
      ]
     },
     "metadata": {},
     "output_type": "display_data"
    },
    {
     "name": "stdout",
     "output_type": "stream",
     "text": [
      "epoch      trn_loss   val_loss   accuracy                     \n",
      "    0      4.370757   4.19201    0.178369  \n",
      "\n"
     ]
    },
    {
     "data": {
      "text/plain": [
       "[array([ 4.19201]), 0.17836910117409721]"
      ]
     },
     "execution_count": 32,
     "metadata": {},
     "output_type": "execute_result"
    }
   ],
   "source": [
    "learn.fit(lrs, 1, wds=wd, cycle_len=1, use_clr=(8,3))"
   ]
  },
  {
   "cell_type": "code",
   "execution_count": 35,
   "metadata": {},
   "outputs": [],
   "source": [
    "learn.save('clas_1')"
   ]
  },
  {
   "cell_type": "code",
   "execution_count": 36,
   "metadata": {},
   "outputs": [],
   "source": [
    "learn.load('clas_1')"
   ]
  },
  {
   "cell_type": "code",
   "execution_count": 37,
   "metadata": {},
   "outputs": [],
   "source": [
    "learn.unfreeze()"
   ]
  },
  {
   "cell_type": "code",
   "execution_count": 38,
   "metadata": {},
   "outputs": [
    {
     "data": {
      "application/vnd.jupyter.widget-view+json": {
       "model_id": "0a76a1e3eda04186b6d25c60088592b4",
       "version_major": 2,
       "version_minor": 0
      },
      "text/html": [
       "<p>Failed to display Jupyter Widget of type <code>HBox</code>.</p>\n",
       "<p>\n",
       "  If you're reading this message in the Jupyter Notebook or JupyterLab Notebook, it may mean\n",
       "  that the widgets JavaScript is still loading. If this message persists, it\n",
       "  likely means that the widgets JavaScript library is either not installed or\n",
       "  not enabled. See the <a href=\"https://ipywidgets.readthedocs.io/en/stable/user_install.html\">Jupyter\n",
       "  Widgets Documentation</a> for setup instructions.\n",
       "</p>\n",
       "<p>\n",
       "  If you're reading this message in another frontend (for example, a static\n",
       "  rendering on GitHub or <a href=\"https://nbviewer.jupyter.org/\">NBViewer</a>),\n",
       "  it may mean that your frontend doesn't currently support widgets.\n",
       "</p>\n"
      ],
      "text/plain": [
       "HBox(children=(IntProgress(value=0, description='Epoch', max=14), HTML(value='')))"
      ]
     },
     "metadata": {},
     "output_type": "display_data"
    },
    {
     "name": "stdout",
     "output_type": "stream",
     "text": [
      "epoch      trn_loss   val_loss   accuracy                     \n",
      "    0      4.334062   4.266821   0.171857  \n",
      "    1      4.221147   4.112112   0.183628                     \n",
      "    2      3.924026   3.974978   0.201829                     \n",
      "    3      3.842684   3.926219   0.209512                     \n",
      "    4      3.615162   3.921244   0.216806                     \n",
      "    5      3.408062   3.91611    0.223713                     \n",
      "    6      3.279865   3.938781   0.225883                     \n",
      "    7      3.158943   3.927856   0.224613                     \n",
      "    8      2.967882   3.946789   0.23106                      \n",
      "    9      2.901795   3.94001    0.225289                     \n",
      "    10     2.848268   3.977719   0.232746                     \n",
      "    11     2.594002   3.939127   0.233168                     \n",
      "    12     2.558539   3.936608   0.235885                     \n",
      "    13     2.364262   3.938798   0.240462                     \n",
      "\n"
     ]
    },
    {
     "data": {
      "text/plain": [
       "[array([ 3.9388]), 0.24046209717898492]"
      ]
     },
     "execution_count": 38,
     "metadata": {},
     "output_type": "execute_result"
    }
   ],
   "source": [
    "learn.fit(lrs, 1, wds=wd, cycle_len=14, use_clr=(32,10))"
   ]
  },
  {
   "cell_type": "code",
   "execution_count": 39,
   "metadata": {},
   "outputs": [
    {
     "data": {
      "image/png": "[encoded data removed]",
      "text/plain": [
       "<matplotlib.figure.Figure at 0x7f24d541d550>"
      ]
     },
     "metadata": {},
     "output_type": "display_data"
    }
   ],
   "source": [
    "learn.sched.plot_loss()"
   ]
  },
  {
   "cell_type": "code",
   "execution_count": 40,
   "metadata": {},
   "outputs": [],
   "source": [
    "learn.save('clas_2_973')"
   ]
  },
  {
   "cell_type": "markdown",
   "metadata": {},
   "source": [
    "We've managed to acheive an acuracy of 25% accuracy with 973 different classes. We can run it again with only 100 classes"
   ]
  },
  {
   "cell_type": "markdown",
   "metadata": {},
   "source": [
    "# rerun with less classes"
   ]
  },
  {
   "cell_type": "markdown",
   "metadata": {},
   "source": [
    "need to run top 4 cells if you are recovering from a saved model"
   ]
  },
  {
   "cell_type": "code",
   "execution_count": 47,
   "metadata": {},
   "outputs": [],
   "source": [
    "categories = []\n",
    "for i, r in raw_df.iterrows():\n",
    "    categories.append(r[3])"
   ]
  },
  {
   "cell_type": "code",
   "execution_count": 48,
   "metadata": {},
   "outputs": [
    {
     "data": {
      "text/plain": [
       "{'HISTORY': 349,\n",
       " \"ESPN's TOP 10 ALL-TIME ATHLETES\": 5,\n",
       " 'EVERYBODY TALKS ABOUT IT...': 4,\n",
       " 'THE COMPANY LINE': 5,\n",
       " 'EPITAPHS & TRIBUTES': 5,\n",
       " '3-LETTER WORDS': 240,\n",
       " 'DR. SEUSS AT THE MULTIPLEX': 4,\n",
       " 'PRESIDENTIAL STATES OF BIRTH': 2,\n",
       " 'AIRLINE TRAVEL': 15,\n",
       " 'THAT OLD-TIME RELIGION': 15,\n",
       " 'MUSICAL TRAINS': 5,\n",
       " '\"X\"s & \"O\"s': 5,\n",
       " 'THE SOLAR SYSTEM': 46,\n",
       " 'GEOGRAPHY \"E\"': 5,\n",
       " 'RADIO DISNEY': 5,\n",
       " 'PARTS OF PEACH': 5,\n",
       " 'BE FRUITFUL & MULTIPLY': 5,\n",
       " \"LET'S BOUNCE\": 5,\n",
       " 'RHYMES WITH SMART': 5,\n",
       " 'SCIENCE CLASS': 78,\n",
       " 'KIDS IN SPORTS': 5,\n",
       " 'JUST THE FACTS': 5,\n",
       " 'SEE & SAY': 5,\n",
       " 'NEWS TO ME': 5,\n",
       " 'IN THE DICTIONARY': 164,\n",
       " 'HISTORIC WOMEN': 42,\n",
       " 'ROYAL FEMALE NICKNAMES': 8,\n",
       " 'TV ACTORS & ROLES': 40,\n",
       " 'TRAVEL & TOURISM': 174,\n",
       " '\"I\" LADS': 10,\n",
       " 'FOREWORDS': 14,\n",
       " 'BACKWORDS': 47,\n",
       " 'PEOPLE IN HISTORY': 131,\n",
       " 'CINEMATIC DICTIONARY': 5,\n",
       " \"IT'S OURS!\": 5,\n",
       " 'BRITISH FASHION': 8,\n",
       " 'ANDY WARHOL': 5,\n",
       " 'THEATRE CROSSWORD CLUES \"M\"': 15,\n",
       " 'SPORTS LEGENDS': 43,\n",
       " 'GENERAL SCIENCE': 144,\n",
       " 'GETTING POSSESSIVE': 25,\n",
       " 'FLAGS OF THE WORLD': 42,\n",
       " 'ARCHITECTS': 57,\n",
       " '1994 FILMS': 5,\n",
       " 'THE EYES HAVE IT': 11,\n",
       " 'ALASKA': 25,\n",
       " 'INTERNATIONAL SPORTSMEN': 10,\n",
       " 'DRAMA QUEENS': 5,\n",
       " 'ANGELS': 16,\n",
       " 'IN EXILE': 5,\n",
       " 'THE \"I\"s HAVE IT': 25,\n",
       " 'THE MAP OF EUROPE': 6,\n",
       " 'THE CIVIL WAR': 206,\n",
       " 'CELEBS': 40,\n",
       " \"WHAT'S IN A NAME?\": 35,\n",
       " 'EMOTICONS': 10,\n",
       " \"FLAG 'EM DOWN\": 5,\n",
       " '\"TEEN\" SCENE': 5,\n",
       " 'NOT A CURRENT NATIONAL CAPITAL': 10,\n",
       " 'U.S. WINTER OLYMPIANS': 5,\n",
       " 'SCIENCE': 519,\n",
       " 'WORDS OF THE WRITER': 5,\n",
       " 'AT THE MALL': 15,\n",
       " 'FROM THE GREEK': 66,\n",
       " 'FAMOUS SHIPS': 10,\n",
       " 'OLD FOLKS IN THEIR 30s': 5,\n",
       " 'MOVIES & TV': 5,\n",
       " 'A STATE OF COLLEGE-NESS': 5,\n",
       " 'ANIMAL COLLECTIVE': 5,\n",
       " \"I'D RATHER BE SKIING\": 5,\n",
       " 'PARLEZ VOUS?': 5,\n",
       " 'AMERICAN AUTHORS': 58,\n",
       " 'ALBUMS THAT ROCK': 5,\n",
       " 'ANATOMY': 139,\n",
       " 'MATHEM-ATTACK!': 5,\n",
       " 'NAME THE DECADE': 40,\n",
       " 'WORD ORIGINS': 371,\n",
       " 'EUROPEAN HISTORY': 184,\n",
       " 'AMERICAN EXPLORERS': 10,\n",
       " 'MEASURING DEVICES': 10,\n",
       " 'MYTHOLOGY': 221,\n",
       " 'TELEVISION': 281,\n",
       " 'ANNUAL EVENTS': 236,\n",
       " 'HOMOPHONIC PAIRS': 35,\n",
       " 'NOTABLE NONHUMANS': 5,\n",
       " 'WORLD FACTS': 56,\n",
       " 'ART & ARTISTS': 270,\n",
       " 'BUSINESS & INDUSTRY': 311,\n",
       " 'POETS': 69,\n",
       " 'BRITISH NOVELS': 1,\n",
       " 'LOST IN SPACE': 5,\n",
       " 'TIMELESS TV': 5,\n",
       " \"LET'S HIT IT\": 5,\n",
       " 'WORLD BOOK DESCRIBES THE \"G\" MAN': 5,\n",
       " 'MONEY SLANG': 10,\n",
       " 'RVs': 3,\n",
       " 'PLAY HEROINES': 3,\n",
       " 'DEFENESTRATION IN CINEMA': 4,\n",
       " 'A MASSIVE \"M\"ETROPOLIS': 5,\n",
       " 'TAINTED GOV': 5,\n",
       " 'MEDICINE': 183,\n",
       " '4 CONSONANTS IN A ROW': 5,\n",
       " 'BEGINNING & END': 5,\n",
       " 'STATE SUPERLATIVES': 10,\n",
       " '3 LITTLE LETTERS': 15,\n",
       " 'CALL OUT THE VOICE SQUAD': 5,\n",
       " 'YOU\\'RE UNDER A \"REST\"': 5,\n",
       " 'EARLY AMERICA': 60,\n",
       " 'BEST PICTURE OSCAR-WINNERS IN OTHER WORDS': 5,\n",
       " 'DOWN MEXICO WAY': 5,\n",
       " 'TAKE A PILL': 6,\n",
       " 'TRANSPORTATION': 279,\n",
       " 'AN E FOR AN I': 5,\n",
       " 'THE BRITISH THEATRE': 1,\n",
       " 'AT THE KENNEDY CENTER': 5,\n",
       " 'NATIONAL MONUMENTS': 25,\n",
       " 'THE CIRCUS': 15,\n",
       " 'ON THE RADIO': 23,\n",
       " 'CELEB STUFF': 5,\n",
       " 'COMMON BONDS': 243,\n",
       " 'THE OBLIGATORY POETRY CATEGORY': 5,\n",
       " 'ART': 258,\n",
       " 'THE REDCOATS ARE COMING!': 5,\n",
       " '\"HIGH\" SCHOOL': 5,\n",
       " 'OFF TO A GOOD START': 5,\n",
       " 'COLLEGE MASCOTS': 8,\n",
       " 'THE CONSTITUTION': 32,\n",
       " 'THRILLER': 5,\n",
       " 'BEN': 5,\n",
       " '\"BLACK\" OR \"WHITE\"': 5,\n",
       " 'REMEMBER THE TIME': 5,\n",
       " 'ROCK WITH YOU': 5,\n",
       " 'EAT IT!': 5,\n",
       " 'SCOTLAND': 32,\n",
       " 'BABY BOOMER MEMORIES': 5,\n",
       " \"SOMETHING'S FISHY\": 15,\n",
       " '\"T\"ELEVISION': 5,\n",
       " 'WORLD RELIGION': 66,\n",
       " 'SORTA SOUNDS LIKE OPRAH?': 5,\n",
       " 'GEOGRAPHIC PHRASES': 17,\n",
       " \"ACTRESSES' FIRST FILMS\": 5,\n",
       " 'LIBRARIES': 101,\n",
       " 'TELEPHONE HISTORY': 5,\n",
       " 'VERMONTERS': 5,\n",
       " '\"X\", \"Y\", \"Z\"': 20,\n",
       " 'SHAKESPEAREAN LAST SCENES': 10,\n",
       " 'MEDICAL MILESTONES': 20,\n",
       " 'POETS & POETRY': 230,\n",
       " 'WORLD GEOGRAPHY': 338,\n",
       " 'MIXED DRINKS': 15,\n",
       " 'THE 1930s': 52,\n",
       " 'POP MUSIC': 232,\n",
       " 'AMERICAN HISTORY': 418,\n",
       " 'CANADIAN GEOGRAPHY, EH?': 10,\n",
       " 'ON HIS BASEBALL HALL OF FAME PLAQUE': 5,\n",
       " 'STAMPS': 20,\n",
       " 'THE KILLERS': 10,\n",
       " 'SPOTT THA MISPELED WURD': 5,\n",
       " 'THE BIG 10': 5,\n",
       " 'INSTRUMENT ETYMOLOGY': 5,\n",
       " 'FACIAL EXPRESSIONS': 15,\n",
       " 'LIT MY FIRE': 5,\n",
       " \"THE STAR'S TV SHOW & MOVIE\": 5,\n",
       " 'THE BIG 10-LETTER WORDS': 5,\n",
       " 'RANKS & TITLES': 62,\n",
       " 'WEATHER WORLD': 5,\n",
       " 'ON THE COVER OF SGT. PEPPER': 5,\n",
       " 'CLOTHING WORDS': 5,\n",
       " 'MY PLACE?': 5,\n",
       " \"IT'S A DATE!\": 10,\n",
       " '\"J\" WHIZ': 5,\n",
       " 'PLAYWRIGHTS': 102,\n",
       " 'THE 1890s': 18,\n",
       " 'AMERICAN NICKNAMES': 10,\n",
       " '\"S\"-OTERICA': 5,\n",
       " 'VIETNAM': 11,\n",
       " 'TOUR OF JUDY': 5,\n",
       " 'CANDY': 12,\n",
       " 'HISTORIC NICKNAMES': 30,\n",
       " 'BIG, REALLY BIG!': 5,\n",
       " 'POLITICAL MOVIES': 5,\n",
       " 'THE 1990s': 25,\n",
       " 'U.S. STATES': 145,\n",
       " 'CROSSWORD CLUES \"D\"': 32,\n",
       " 'CAPITOL THINKERS': 5,\n",
       " 'MEET THE PARENTS': 5,\n",
       " 'YOU SHOULD BE IN A BALLET!': 5,\n",
       " 'GROSS NATIONAL PRODUCTS': 5,\n",
       " 'POTPOURRI': 401,\n",
       " 'THE PRESIDENCY': 7,\n",
       " 'AFRICAN GEOGRAPHY': 17,\n",
       " 'BON APPE-\"T\"': 5,\n",
       " \"AIN'T THAT AMERICA\": 15,\n",
       " 'WHY?': 5,\n",
       " 'THE BUTLER DID IT': 10,\n",
       " 'SCIENCE & NATURE': 244,\n",
       " 'THE MELBOURNE OLYMPICS, 1956': 3,\n",
       " 'WRITERS CUBED': 5,\n",
       " 'BRITISH ROYAL HOUSES': 13,\n",
       " 'AND I QUOTE': 10,\n",
       " 'THE \"BUTLER\" DID IT': 5,\n",
       " 'THEATRE': 153,\n",
       " '20th CENTURY QUOTES': 10,\n",
       " 'ALL ABOARD THE SOUL TRAIN': 5,\n",
       " 'WAR STORIES': 35,\n",
       " 'EUROPE': 105,\n",
       " 'WEEDS': 8,\n",
       " 'SEEING \"RED\"': 20,\n",
       " 'INITIAL T.V.': 5,\n",
       " 'SAINTS BE PRAISED': 15,\n",
       " 'MR. OR MS. WILLIAMS': 5,\n",
       " 'SOMETHIN\\' TO \"C\"': 4,\n",
       " 'PHYSICAL SCIENCE': 67,\n",
       " 'FILM CLASSICS': 1,\n",
       " 'NUMBERS': 30,\n",
       " \"'65\": 5,\n",
       " 'FORE!': 10,\n",
       " 'THREE': 10,\n",
       " 'TWO': 5,\n",
       " 'JUAN': 5,\n",
       " 'KOREA': 5,\n",
       " '\"NEVER\" AT THE MOVIES': 5,\n",
       " 'POLAR EXPLORATION': 5,\n",
       " 'AIRPORT CODES': 36,\n",
       " \"THAT'S NO LADY...\": 5,\n",
       " 'DOUBLE A': 5,\n",
       " 'NONFICTION AUTHORS': 1,\n",
       " 'THOSE DARN ETRUSCANS': 15,\n",
       " 'PEOPLE': 279,\n",
       " 'SO YOU WANT TO BE A 19th CENTURY HEROINE': 5,\n",
       " 'CENTRAL PARK': 8,\n",
       " 'THIS CATEGORY STINKS!': 5,\n",
       " 'ABBREVIATED STATES': 5,\n",
       " 'COLONIAL ARTS': 5,\n",
       " 'INTERNATIONAL CUISINE': 58,\n",
       " 'WE ARE THE CHAMPIONS': 30,\n",
       " 'RELIGION': 297,\n",
       " 'PROBLEMS, PROBLEMS': 5,\n",
       " '\"EN\" THE BEGINNING': 10,\n",
       " 'KNOWLEDGE BY THE NUMBERS': 1,\n",
       " 'THE MIDDLE AGES': 97,\n",
       " 'MANIAS': 5,\n",
       " 'JEWELRY': 28,\n",
       " 'AUSTRALIA': 13,\n",
       " 'SPORTS EQUIPMENT': 10,\n",
       " 'PEANUTS': 10,\n",
       " 'U.S.A.': 123,\n",
       " 'PEN NAMES': 66,\n",
       " 'MYTHOLOGICAL PAIRS': 5,\n",
       " '11-LETTER WORDS': 47,\n",
       " 'MUSICALS': 43,\n",
       " 'FAMOUS NAMES': 139,\n",
       " 'ADVERTISING SLOGANS': 10,\n",
       " 'THE BIBLE': 267,\n",
       " 'WEATHER': 78,\n",
       " '4-LETTER WORDS': 197,\n",
       " 'PRESIDENTIAL ASTROLOGY': 5,\n",
       " 'PIRATE MOVIES': 5,\n",
       " 'AUTHORS': 232,\n",
       " 'WINE': 49,\n",
       " 'CABLE TELEVISION': 8,\n",
       " \"TEACHER'S PET\": 9,\n",
       " 'MUSIC VIDEOS': 15,\n",
       " 'HOW DO YOU...': 25,\n",
       " \"TELL 'EM WHAT THEY'VE WON, JOHNNY\": 10,\n",
       " 'PIZZA TOPPINGS': 5,\n",
       " 'ALLITERATION STATION': 5,\n",
       " 'WOMEN ON U.S. STAMPS': 5,\n",
       " 'MOVIE TITLE TRANSLATIONS': 19,\n",
       " 'NATIONAL INVENTORS HALL OF FAME': 5,\n",
       " 'JULIUS CAESAR': 15,\n",
       " 'LOVE POETRY': 5,\n",
       " 'WORDS IN (THE) ENCYCLOPEDIA': 5,\n",
       " 'THE 50 STATES': 100,\n",
       " 'FIRST NOVELS': 35,\n",
       " 'CLASSIC AD LINES': 10,\n",
       " 'LESSER-KNOWN MUSICALS': 5,\n",
       " 'HORNS': 10,\n",
       " \"IT'S A DOGGY DOG WORLD\": 10,\n",
       " '\"MUM\"s THE WORD': 10,\n",
       " 'LICENSE PLATE MOTTOS': 5,\n",
       " 'BIG MERGERS': 5,\n",
       " '\"D\" IN HISTORY': 5,\n",
       " 'ADJECTIVES': 67,\n",
       " 'ASIA': 59,\n",
       " 'TRIALS OF THE CENTURY': 10,\n",
       " \"LET'S GET M*A*S*Hed\": 5,\n",
       " 'VALUABLE PLACES': 5,\n",
       " 'NAME THE AUTOMAKER': 20,\n",
       " 'THEATRE HODGEPODGE': 5,\n",
       " '\"PRO\"NOUNS': 5,\n",
       " 'HEADS OF STATE': 15,\n",
       " 'MAGAZINES': 166,\n",
       " 'RHYMES WITH STONEHENGE': 5,\n",
       " 'QUEEN VICTORIA': 5,\n",
       " 'WE ARE AMUSED': 5,\n",
       " 'THE CAST OF THE TEN COMMANDMENTS': 1,\n",
       " 'COLLEGES & UNIVERSITIES': 351,\n",
       " \"SI's SIGNS OF THE APOCALYPSE\": 5,\n",
       " 'LITERARY GENRES': 10,\n",
       " 'RECORD LOSSES IN 2005': 5,\n",
       " 'SO \"LONG\"': 5,\n",
       " '& THANKS FOR ALL THE FISH': 5,\n",
       " 'CANALS': 11,\n",
       " 'NYPD TV': 5,\n",
       " 'HIDDEN BOOKS OF THE BIBLE': 10,\n",
       " 'INDEPENDENCE DAYS': 11,\n",
       " 'BACK IN 1906': 5,\n",
       " 'FROM THE LATIN': 70,\n",
       " '20th CENTURY BOOKS': 8,\n",
       " 'NONFICTION PEOPLE': 5,\n",
       " 'WHAT A WEEK': 5,\n",
       " 'THE SILVER SCREEN': 35,\n",
       " 'ENGLAND, SCOTLAND OR WALES': 10,\n",
       " 'THE TITANIC': 17,\n",
       " '\"TOO\" MUCH': 5,\n",
       " 'HISPANIC HISTORY': 5,\n",
       " 'THE LAST POPE OF THIS NAME': 5,\n",
       " '\"IBLE\"S & BITS': 5,\n",
       " 'SCIENCE GUYS': 45,\n",
       " \"FUNNY FOR NOTHIN'\": 5,\n",
       " 'CHICKENS FOR FREE': 5,\n",
       " '19th CENTURY POLITICIANS': 1,\n",
       " 'IT HAPPENED IN NOVEMBER': 5,\n",
       " 'INSTRUMENTS OF CHANGE': 5,\n",
       " 'BOOK NAMES': 10,\n",
       " 'WHAT ARE YOU DOING?': 10,\n",
       " 'COVER ME!': 5,\n",
       " 'I\\'M GOING \"INN\"': 5,\n",
       " 'ASIAN CAPITALS': 29,\n",
       " 'I LOVE L.A. KERS': 5,\n",
       " 'COOKING EQUIPMENT FOOD': 5,\n",
       " 'INTERNATIONAL NAMES': 5,\n",
       " 'MYTHICAL CREATURES': 5,\n",
       " 'THE \"CO\"-CATEGORY': 5,\n",
       " 'PRESIDENTIAL ELECTIONS': 16,\n",
       " 'A DICKENSIAN NIGHTMARE': 5,\n",
       " 'UNIVERSITY SPORTS TEAMS': 5,\n",
       " '\"GENERAL\" JOB INFORMATION': 5,\n",
       " 'BATTLE TO NAME THE WAR': 5,\n",
       " 'MAGAZINE FEATURES': 5,\n",
       " '3-LETTER ABBREV.': 10,\n",
       " 'BIBLICAL PEOPLE & PLACES': 5,\n",
       " 'PHILMOGRAPHIES': 5,\n",
       " \"ARTISTS' RETREATS\": 5,\n",
       " 'GET SMART': 5,\n",
       " 'U.S. GEOGRAPHY': 299,\n",
       " '\"CH\"ILL OUT!': 5,\n",
       " 'INFLUENTIAL 19th CENTURY THINKERS': 1,\n",
       " 'STATE OF THE UNION': 35,\n",
       " 'CELEBRITY RHYME TIME': 70,\n",
       " 'NORM!': 5,\n",
       " 'iPOD, YOUTUBE OR WII': 5,\n",
       " 'ALL ASHORE FOR BIRD LORE': 5,\n",
       " 'THE ENGLISH TOP 100': 5,\n",
       " 'BRASS': 5,\n",
       " 'STRINGS': 5,\n",
       " 'WOOD & WIND': 5,\n",
       " '\"PER\"CUSSION': 5,\n",
       " 'CONDUCTORS': 23,\n",
       " 'SYMPHONIES ON FILM': 5,\n",
       " 'HISTORIC PROPERTY TRANSACTIONS': 1,\n",
       " \"FIRST NAME'S THE SAME\": 80,\n",
       " 'NOVELS': 71,\n",
       " 'BRIGHT IDEAS': 5,\n",
       " 'TEENS IN HISTORY': 35,\n",
       " 'RHYME TIME': 279,\n",
       " 'CONSTITUTIONAL AMENDMENTS': 6,\n",
       " 'SPORTS OF THE FEMALE OLYMPIANS': 5,\n",
       " 'LOW CUT GENES': 5,\n",
       " 'FINE DINING': 5,\n",
       " 'TAKE OUT': 5,\n",
       " 'MOUNTAINS': 189,\n",
       " 'SIMPLE SCIENCE': 24,\n",
       " 'ROCK MUSIC': 31,\n",
       " 'AT THE BUILDING SITE': 5,\n",
       " \"HEY, GOOD-LOOKIN'\": 5,\n",
       " \"WHAT'CHA GOT COOKIN'?\": 5,\n",
       " 'LITERARY HOUSES': 5,\n",
       " 'THE MAINE ATTRACTION': 5,\n",
       " 'ACTRESSES': 77,\n",
       " 'CROSSWORD CLUES \"M\"': 73,\n",
       " \"IT'S GREEK MYTHOLOGY TO ME\": 5,\n",
       " 'TAKE A GUESS': 5,\n",
       " 'FARAWAY PLACES': 10,\n",
       " 'BIRDS!  BIRDS!  BIRDS!': 5,\n",
       " 'CANDY & GUM SLOGANS': 5,\n",
       " 'THOSE WACKY GERMANS': 5,\n",
       " 'CARTOONS': 20,\n",
       " 'THE \"X\" FILES': 5,\n",
       " 'LANGUAGES': 284,\n",
       " 'NURSERY RHYMES': 90,\n",
       " 'ARE WE THERE YET?': 5,\n",
       " 'CLASSICAL MUSIC': 233,\n",
       " 'WHOSE IS IT?': 5,\n",
       " 'EMPIRES': 6,\n",
       " 'A SHAKESPEARE PLAY, FOR OPENERS': 5,\n",
       " \"THAT'S BUSINESS\": 5,\n",
       " 'INLETS': 5,\n",
       " 'THE EVOLUTION OF \"M\"USIC': 5,\n",
       " 'FOREIGN': 5,\n",
       " \"WHAT'S YOUR BEEF?\": 15,\n",
       " 'WEAPONS OF WORLD WAR II': 6,\n",
       " 'THE LIVING PLANET': 4,\n",
       " 'ACTING PRESIDENTS ON TV': 5,\n",
       " '4 N': 5,\n",
       " 'SPORTS & THE MOVIES': 1,\n",
       " 'WARNER BROS.': 5,\n",
       " 'MORTAL MATTERS': 20,\n",
       " 'BIRDS': 133,\n",
       " 'LEVITICUS': 3,\n",
       " \"AUTHORS' RHYME TIME\": 54,\n",
       " 'THE \"W.B.\"': 2,\n",
       " 'AFRICAN ISLANDS': 5,\n",
       " 'BILLS & WILLS': 5,\n",
       " 'U.S. COLLEGES': 5,\n",
       " 'CLASSICAL GASES': 5,\n",
       " 'COUNTRY MUSIC': 73,\n",
       " 'FICTION': 47,\n",
       " 'SHIPS': 71,\n",
       " 'FOOD FACTS': 63,\n",
       " 'KING ARTHUR': 5,\n",
       " 'NATURE': 157,\n",
       " 'MISC.': 15,\n",
       " '\"KEY\"s': 10,\n",
       " \"CHILDREN'S  LITERATURE\": 5,\n",
       " 'WYOMING': 5,\n",
       " 'FIGURE SKATERS': 5,\n",
       " 'ORGANIZED LABOR': 10,\n",
       " 'VICE PRESIDENTS': 75,\n",
       " 'YOUR HONOR, I OBJECT!': 5,\n",
       " 'GOOD CAUSES': 5,\n",
       " 'BLARNEY': 5,\n",
       " 'LESSER-KNOWN AMERICANS': 19,\n",
       " 'THE LOYOLA OPPOSITION': 4,\n",
       " 'MOVIE CITIES': 5,\n",
       " 'WOMEN: WRITE ON!': 20,\n",
       " 'GOAT-POURRI': 5,\n",
       " 'EPONYMS': 37,\n",
       " '\"A\" SCIENCE CATEGORY': 4,\n",
       " \"LAST NAME'S THE SAME\": 84,\n",
       " 'THE WESTERN HEMISPHERE': 24,\n",
       " 'THE DIRECTOR SPEAKS': 5,\n",
       " 'PLACES': 15,\n",
       " '\"LIGHT\"s': 5,\n",
       " 'CAMERA': 3,\n",
       " 'ACTION!': 5,\n",
       " \"WHERE'S MY COFFEE?\": 4,\n",
       " 'SHAKESPEAREAN OPERAS & BALLETS': 5,\n",
       " 'BACKWARDS': 5,\n",
       " '19th CENTURY AMERICA': 151,\n",
       " 'MEN OF THE WORLD': 3,\n",
       " 'FAMOUS VOYAGES': 1,\n",
       " 'GENERAL INFORMATION': 10,\n",
       " 'THE MOVIES': 218,\n",
       " 'WEAPONRY': 10,\n",
       " 'MEDICAL TALK': 10,\n",
       " 'FICTIONAL CHARACTERS': 280,\n",
       " 'CROSSWORD CLUES \"F\"': 89,\n",
       " 'TV PRODUCERS': 5,\n",
       " 'TOUGH BODIES OF WATER': 15,\n",
       " 'HELLO, DELI!': 5,\n",
       " 'ALSO A BOOK IN THE BIBLE': 5,\n",
       " 'IS IT \"TEA\" TIME YET?': 5,\n",
       " 'BEFORE THEY WERE SENATORS': 1,\n",
       " 'CABLE CHANNELS': 15,\n",
       " 'PROPHET SHARING': 5,\n",
       " 'WOMEN OF THE WORLD': 25,\n",
       " 'SWEET!': 10,\n",
       " '\"IND\" THE KNOW': 5,\n",
       " 'RUSSIAN SCIENTISTS': 5,\n",
       " 'CANADIAN FOOTBALL': 5,\n",
       " 'GUYANESE GEOGRAPHY': 5,\n",
       " 'TURKISH LITERATURE': 5,\n",
       " 'CHINESE CALENDAR ANIMALS': 10,\n",
       " 'BRAZILIAN WORDS & PHRASES': 5,\n",
       " 'CLASSIC MOVIE CHARACTERS': 2,\n",
       " 'THE BIG BANGLADESH': 5,\n",
       " \"WHO'S THE MRS.?\": 20,\n",
       " 'MYTHELLANEOUS': 14,\n",
       " \"NOW YOU'RE TALKING MY LANGUAGE\": 5,\n",
       " 'BIRD HUNTING': 5,\n",
       " \"OSCARS OF THE '70s\": 5,\n",
       " 'THE STING': 5,\n",
       " '\"ROCK\"Y': 5,\n",
       " 'THE GODFATHER': 10,\n",
       " 'DEAR JUNTA': 5,\n",
       " 'THE FRENCH CONNECTION': 14,\n",
       " 'SHAKESPEARE': 294,\n",
       " '5-LETTER CAPITALS': 5,\n",
       " 'SPORTS': 342,\n",
       " 'PRE-COLUMBIAN CULTURES': 5,\n",
       " '20th CENTURY INVENTION': 5,\n",
       " 'ON THE MOVE': 10,\n",
       " 'DOUBLE TALK': 110,\n",
       " 'DIARIES': 8,\n",
       " 'TOUGH MOVIE TRIVIA': 10,\n",
       " '\"O\" YOU ANIMAL!': 5,\n",
       " 'INTERIOR DESIGN': 25,\n",
       " 'NAME THE OPERA': 4,\n",
       " 'PEOPLE WHO BECAME WORDS': 15,\n",
       " 'TELEVISION & HISTORY': 1,\n",
       " '5 BANDS': 5,\n",
       " 'THE REPLACEMENTS': 5,\n",
       " 'THE FALL': 15,\n",
       " \"'HUSKER DO\": 5,\n",
       " 'THE ENGLISH BEAT': 5,\n",
       " 'BIG \"STAR\"': 5,\n",
       " \"INSIDE THE ARTIST'S STUDIO WITH JAMES LIPTON\": 3,\n",
       " 'MAJOR LEAGUE BASEBALL NICKNAMES': 5,\n",
       " '\"O\"PERA': 5,\n",
       " 'WORLD MUSEUMS': 10,\n",
       " 'LIFE SCIENCE': 31,\n",
       " 'DOUBLE MEANINGS': 16,\n",
       " 'LITERARY TITLES': 11,\n",
       " 'PRESIDENTIAL LIBRARIES': 16,\n",
       " 'BALLET': 282,\n",
       " 'CHECK OUT MY CRIB': 5,\n",
       " 'WORDS': 39,\n",
       " 'JULY': 21,\n",
       " \"WHAT'S ON TV?\": 15,\n",
       " 'LAW ENFORCEMENT': 6,\n",
       " 'LITERATURE': 496,\n",
       " 'COMPANIES YOUNGER THAN YOU': 5,\n",
       " 'SYNONYMS': 25,\n",
       " 'ANIMALS': 324,\n",
       " 'HISTORIC AMERICANS': 114,\n",
       " 'NATIONAL FOODS': 5,\n",
       " 'THE PLANET URANUS': 5,\n",
       " 'PICTURE THIS': 19,\n",
       " 'ALL MY Xs': 5,\n",
       " 'LIVE IN TEXAS': 15,\n",
       " 'FRENCH ART & ARTISTS': 24,\n",
       " 'ON THE GO': 45,\n",
       " '3-NAMED AUTHORS': 10,\n",
       " 'HORSE SENSE': 19,\n",
       " 'THE EMPEROR NERO': 4,\n",
       " '\"BOO\"!': 20,\n",
       " 'IT BORDERS JUST ONE OTHER COUNTRY': 10,\n",
       " '21st CENTURY MUSIC': 10,\n",
       " 'BABY NAMES A LA SHAKESPEARE': 5,\n",
       " 'YES, THAT\\'S \"WHITE\"': 5,\n",
       " 'WHEN THE SAINTS': 5,\n",
       " 'COME, HO CHI MINH': 5,\n",
       " \"BALLETS WE'VE NEVER ASKED ABOUT BEFORE\": 5,\n",
       " 'BEST MOVIE QUOTES EVER!': 5,\n",
       " '6 CHARACTERS IN SEARCH OF AN AUTHOR': 5,\n",
       " \"SYRIA'S EATING\": 5,\n",
       " 'UP IN THE AIR': 5,\n",
       " 'ABBREV.': 145,\n",
       " 'THE METROPOLITAN MUSEUM OF ART': 1,\n",
       " 'THE 23rd PSALM': 5,\n",
       " 'GOOD SPORTSMANSHIP': 5,\n",
       " 'SILENCE': 5,\n",
       " '\"V\"': 15,\n",
       " 'PUSH BY SAFIRE': 5,\n",
       " 'MAKE IT RIGHT': 5,\n",
       " 'WORLD LEADERS': 146,\n",
       " 'THE TREES WERE ANGRY THAT DAY, MY FRIENDS': 5,\n",
       " 'BESTSELLERS': 100,\n",
       " 'DOW JONES INDUSTRIAL AVERAGE COMPANIES': 5,\n",
       " 'PHOTOGRAPHERS': 30,\n",
       " 'SAY \"CHI\"s': 5,\n",
       " 'WORD AND PHRASE ORIGINS': 1,\n",
       " \"AYE!  IT'S IRELAND\": 5,\n",
       " 'PRESIDENTS IN THE CABINET': 5,\n",
       " 'TV CASTS': 20,\n",
       " 'GRAVE MATTERS': 20,\n",
       " 'ARTISTS & THEIR WORKS': 20,\n",
       " '\"GREEN\" THINGS': 5,\n",
       " 'LITERARY CHARACTERS': 90,\n",
       " 'AVIARY': 4,\n",
       " 'NUTRITION': 46,\n",
       " 'MOVIE SONGS': 45,\n",
       " 'OXYMORONS': 34,\n",
       " 'SPORTS NAME ORIGINS': 1,\n",
       " 'PSYCHOLOGY': 49,\n",
       " 'MINERALS': 15,\n",
       " '\"MOON\"S': 5,\n",
       " 'BICYCLES': 5,\n",
       " 'GREECE': 25,\n",
       " 'STUPID ANSWERS': 270,\n",
       " 'THE 1960s': 38,\n",
       " 'COMPOSERS': 203,\n",
       " 'GOVERNMENT': 42,\n",
       " 'THE FUNNIES': 26,\n",
       " 'INSECTS': 92,\n",
       " 'GAMBLING': 10,\n",
       " 'THE 1980s': 67,\n",
       " 'ANIMATED FILMS': 10,\n",
       " 'FROG ANATOMY': 5,\n",
       " 'SWEET TREATS': 21,\n",
       " 'LAW & GOVERNMENT': 10,\n",
       " 'THE BYRDS & THE BEAS': 5,\n",
       " 'DANCE': 75,\n",
       " 'HOLIDAYS & OBSERVANCES': 242,\n",
       " 'SHAKESPEAREAN CHARACTERS': 52,\n",
       " '20th CENTURY VICE PRESIDENTS': 2,\n",
       " 'GEOGRAPH\"Y\"': 5,\n",
       " 'REQUIRED READING': 15,\n",
       " 'HOMOPHONES': 184,\n",
       " 'YOU DO THE MATH': 42,\n",
       " 'ODDS & ENDS': 132,\n",
       " 'HISTORY IN MOVIES': 5,\n",
       " 'THE SPOOKY & THE MYSTERIOUS': 5,\n",
       " 'QUOTATIONS': 226,\n",
       " 'FAMOUS TEENAGERS': 1,\n",
       " 'A LITERARY TOUR': 20,\n",
       " 'COLORFUL GROUPS': 5,\n",
       " 'UNFORESEEN FINDS': 5,\n",
       " \"WHAT'S THAT SOUND?\": 10,\n",
       " '\"B\" PREPARED': 30,\n",
       " 'CAESAR': 5,\n",
       " \"NEWMAN'S OWN\": 5,\n",
       " 'CATALINA': 5,\n",
       " 'CRAFT': 5,\n",
       " 'ITALIAN': 5,\n",
       " 'DRESSING': 5,\n",
       " 'WORLD CAPITALS': 300,\n",
       " 'ISRAEL': 13,\n",
       " 'ANAGRAMMED BIRDS': 20,\n",
       " 'FRANCIS SCOTT KEY': 5,\n",
       " \"I'LL MAKE A NOTE OF IT\": 5,\n",
       " 'FOOD CHAIN': 5,\n",
       " 'HARRISON FORD MOVIES': 5,\n",
       " 'THE PRODUCERS': 5,\n",
       " 'HAIRY': 5,\n",
       " 'LISA': 5,\n",
       " 'ROCK-Y': 5,\n",
       " 'GEHRY': 5,\n",
       " 'I\\'M \"L__X\"': 5,\n",
       " \"DUDE, YOU'RE A SONG!\": 5,\n",
       " 'ALWAYS SAY NEVER': 5,\n",
       " 'L____O': 5,\n",
       " 'AN ARTHUR BEE': 5,\n",
       " \"THEN THERE'S MAUVE\": 5,\n",
       " 'ISLANDS': 301,\n",
       " 'CALENDAR GIRLS': 5,\n",
       " '19th CENTURY SCRAPBOOK': 5,\n",
       " 'POLITICAL TALK': 5,\n",
       " 'BORN IN DUBLIN': 5,\n",
       " 'CALL ME A\"LEX\"': 5,\n",
       " 'LITERATURE OF THE 1800s': 1,\n",
       " 'SPORTS FACTS': 5,\n",
       " 'BRAND-TASTIC': 5,\n",
       " 'APT ANAGRAMS': 5,\n",
       " 'A THOMAS GUIDE': 5,\n",
       " \"IT'S AN L.A. THING\": 5,\n",
       " \"WHO'S ON FIRST?\": 10,\n",
       " 'NORSE MYTHOLOGY': 35,\n",
       " 'GIVE THE BUCHAREST': 5,\n",
       " \"IT'S ALL ABOUT ME\": 5,\n",
       " 'BARD BITS': 5,\n",
       " 'CROSSWORD CLUES \"R\"': 30,\n",
       " 'CIVIL WAR PEOPLE': 16,\n",
       " 'NOTED EUROPEANS': 5,\n",
       " 'AT THE MOVIES': 95,\n",
       " 'THE HIGHEST-SCORING SCRABBLE WORD': 10,\n",
       " 'AMERICAN COUNTIES': 5,\n",
       " 'SATURDAY': 5,\n",
       " '\"NIGHT\"': 5,\n",
       " 'THE MUSICAL DR. IS IN': 5,\n",
       " 'LITERARY CROSSWORD CLUES \"L\"': 15,\n",
       " '14:59': 5,\n",
       " 'FROM THE FRENCH': 44,\n",
       " 'SOCIOLOGY': 35,\n",
       " 'THE STARTING INFIELD': 5,\n",
       " 'DICTATORS & TYRANTS': 10,\n",
       " 'THE ONION': 20,\n",
       " 'WORLD AUTHORS': 27,\n",
       " 'CROSSWORD CLUES \"J\"': 5,\n",
       " 'BUSINESS LEADERS': 11,\n",
       " 'RADIO': 9,\n",
       " \"THAT'S ITALIAN!\": 5,\n",
       " 'REDUCED SHAKESPEARE': 5,\n",
       " 'NEW WEAPONS': 5,\n",
       " '5-LETTER WORDS': 151,\n",
       " 'SCIENTISTS': 182,\n",
       " \"IT'S ONLY ROCK & ROLL\": 5,\n",
       " 'ALSO A TOOL': 5,\n",
       " 'HABEAS CORPSES': 5,\n",
       " '\"IRA\"': 5,\n",
       " 'FINANCE': 18,\n",
       " 'WAR MOVIES': 11,\n",
       " 'HISTORIC BIRTH ANNOUNCEMENTS': 5,\n",
       " 'THE RULE OF THIRDS': 4,\n",
       " 'AFRICAN LANGUAGE LAB': 4,\n",
       " 'LITERARY BEFORE & AFTER': 35,\n",
       " 'THE BIG APPLE': 25,\n",
       " 'COMPOSERS ON FILM': 10,\n",
       " 'A SHAPELY CATEGORY': 5,\n",
       " 'SALMON': 5,\n",
       " 'CHANTED': 5,\n",
       " '\"EVE\"NING': 5,\n",
       " 'HISTORIC NAMES': 194,\n",
       " 'WHAT A CHARACTER!': 20,\n",
       " 'GEOLOGY': 100,\n",
       " 'HOME, SWEET HOME': 5,\n",
       " 'NAME THE POET': 36,\n",
       " 'CROSSWORD CLUES \"B\"': 25,\n",
       " 'U.S. POLITICS': 10,\n",
       " 'ASSASSINS': 11,\n",
       " 'THE REEL STORY': 5,\n",
       " 'SIGNS & SYMBOLS': 124,\n",
       " 'VISUALIZE': 5,\n",
       " 'WORLD \"P\"s': 5,\n",
       " \"MUSICALS OF THE '20s\": 5,\n",
       " 'NOVELS OF THE PAST': 5,\n",
       " 'TRANSPLANTS': 5,\n",
       " 'CITY OF BIRTH': 5,\n",
       " 'CROSSWORD CLUES \"K\"': 55,\n",
       " \"ARLINGTON'S TOMB OF UNKNOWNS\": 1,\n",
       " 'LUXEMBOURG': 5,\n",
       " 'THE CINEMA': 50,\n",
       " 'WHAT AM I HAVING?': 5,\n",
       " 'Y-R': 5,\n",
       " 'HAIR TODAY': 15,\n",
       " 'GONE TOMORROW?': 5,\n",
       " 'MAIN STREET U.S.A.': 10,\n",
       " '\"A\"NCIENT GREEKS': 5,\n",
       " 'FLOWERS': 86,\n",
       " 'BRITISH INVENTIONS': 5,\n",
       " 'BEFORE & AFTER': 547,\n",
       " 'BOOK TITLES': 41,\n",
       " 'U.S. PRESIDENTIAL NICKNAMES': 5,\n",
       " 'BALLPARK FIGURES': 5,\n",
       " 'WEDDINGS': 30,\n",
       " 'NOVEL QUOTES': 25,\n",
       " 'THREE CHEERS!': 5,\n",
       " 'GIVE ME AN \"A\"!': 10,\n",
       " 'RUBY': 5,\n",
       " 'THE EMERALD ISLE': 15,\n",
       " 'PEARLS OF WISDOM': 9,\n",
       " 'CORAL REEF LIFE': 5,\n",
       " '\"DIAMOND\"s IN THE ROUGH': 5,\n",
       " 'WHAT A GEM!': 20,\n",
       " 'HISTORIC ENGLISHMEN': 2,\n",
       " '1987': 20,\n",
       " 'SNACK ATTACK': 15,\n",
       " \"FIRST LADIES' RHYME TIME\": 10,\n",
       " 'MUNICH': 10,\n",
       " '\"AI\"': 5,\n",
       " 'THE COLOR PURPLE': 15,\n",
       " 'MINORITY REPORT': 5,\n",
       " 'CLOSE ENCOUNTERS': 5,\n",
       " 'SPIELBERG MOVIES': 5,\n",
       " 'SHAKESPEAREAN TRAGEDY CHARACTERS': 1,\n",
       " 'OPERA': 294,\n",
       " 'A TOM CRUISE FILM FESTIVAL': 5,\n",
       " 'BODIES OF WATER': 327,\n",
       " 'OCCUPATION HAZARDS': 5,\n",
       " 'PLANT PARENTHOOD': 10,\n",
       " 'PRESIDENTIAL RHYME TIME': 30,\n",
       " 'THE ROYALS': 5,\n",
       " 'THE TIGERS': 5,\n",
       " 'THE GIANTS': 20,\n",
       " 'THE REDS': 5,\n",
       " 'THE \"A\"s': 10,\n",
       " 'BASEBALL HISTORY': 23,\n",
       " '20th CENTURY NOTABLES': 2,\n",
       " 'CINCO DE MAYO BIRTHDAYS': 5,\n",
       " 'SAME TITLE, DIFFERENT SONG': 5,\n",
       " 'LOW TECH': 10,\n",
       " 'POLITICIANS MAKE ME CUSS': 5,\n",
       " 'ALL \"AMERICAN\"': 10,\n",
       " 'ELIZABETH TAYLOR FILMS': 10,\n",
       " 'WHY SO BLUE?': 5,\n",
       " 'JURY DUTY': 10,\n",
       " 'WHEN IN ROME?': 5,\n",
       " 'I HAVE A PREPOSITION FOR YOU': 5,\n",
       " '2011 MOVIES': 5,\n",
       " 'GOING TO PIECES': 5,\n",
       " 'GROUP COUNTDOWN': 5,\n",
       " 'THE LAST BATTLE': 5,\n",
       " 'THE NOBEL PEACE PRIZE': 15,\n",
       " \"WHO'S AFRAID OF VIRGINIA WOOLF?\": 5,\n",
       " 'CARBON CREDITS': 5,\n",
       " \"THEIR 4th TOP 40 HIT OF THE '60s\": 5,\n",
       " '19th CENTURY PRESIDENTS': 9,\n",
       " 'IT CAME FROM THE NEW WORLD': 5,\n",
       " 'TRANSLATION EXERCISES': 5,\n",
       " \"COUNTRIES' HIGHEST PEAKS\": 1,\n",
       " 'SNL CELEBRITY JEOPARDY!': 5,\n",
       " 'STATES THAT END IN HAMPSHIRE': 5,\n",
       " 'WHAT COLOR IS GREEN?': 5,\n",
       " 'CURRENT BLACK PRESIDENTS': 5,\n",
       " 'SOUNDS THAT KITTIES MAKE': 5,\n",
       " 'TWINKLE TWINKLE LITTLE WORD THAT RHYMES WITH STAR': 5,\n",
       " 'WORDS OF LOVE': 5,\n",
       " 'NEEDY NO.1 HITMAKERS': 5,\n",
       " 'FRUIT': 52,\n",
       " 'ENDS WITH 3 VOWELS': 10,\n",
       " \"DON'T BE A PAIN\": 5,\n",
       " 'A JOURNEY THROUGH ISRAEL': 5,\n",
       " 'ODD TITLES': 1,\n",
       " \"STATES' FORMER CAPITALS\": 10,\n",
       " 'NBA HALL OF FAMERS': 5,\n",
       " 'SECRET MENUS': 5,\n",
       " 'DIED ON THE SAME DAY': 5,\n",
       " 'LET\\'S CALL TRIPLE \"A\"': 5,\n",
       " 'STRING THEORY 101': 5,\n",
       " 'THE HOUND OF MUSIC': 5,\n",
       " 'PLAY ADJECTIVES': 10,\n",
       " 'JERSEY GIRLS': 5,\n",
       " 'RUSSIAN': 5,\n",
       " 'STRING THEORY 201': 5,\n",
       " 'PRISONS': 1,\n",
       " 'RUSSIA': 5,\n",
       " 'ACTORS & ACTRESSES': 137,\n",
       " 'BIOGRAPHIES': 68,\n",
       " 'BUSINESS': 29,\n",
       " 'CLASSICAL COMPOSERS': 117,\n",
       " 'PROVERBS': 94,\n",
       " 'THE SUPREME COURT': 56,\n",
       " 'POETRY': 125,\n",
       " 'RIVERS': 85,\n",
       " 'RUN, RUN, RUN': 5,\n",
       " 'MILITARY SLANG': 5,\n",
       " 'SCULPTURE': 114,\n",
       " 'BUSINESS BUDDIES': 5,\n",
       " 'COMMON SIMILES': 5,\n",
       " 'LYRICS FROM MUSICALS': 10,\n",
       " 'THE NEW YORK TIMES 2009 FICTION BESTSELLERS': 5,\n",
       " 'THE NEWSEUM': 5,\n",
       " 'PAPAL NAMES': 5,\n",
       " '\"PH\"UN WORDS': 15,\n",
       " 'THE VIRTUES': 5,\n",
       " '\"L.B.\"s': 5,\n",
       " 'SPORTS HOME CITIES': 30,\n",
       " 'JUBAL EARLY': 5,\n",
       " 'WORMS': 10,\n",
       " 'STATES OF THE UNION': 30,\n",
       " 'MUD': 5,\n",
       " '\"T\" TIME AT THE LIBRARY': 5,\n",
       " 'JULIA ROBERTS FILM FEST': 5,\n",
       " \"WOMEN'S HEALTH\": 5,\n",
       " 'DOUBLE LETTERS': 25,\n",
       " '20th CENTURY U.S. PRESIDENTS': 8,\n",
       " 'MAD': 10,\n",
       " 'WHO IS THEON OF SMYRNA?': 5,\n",
       " '\"LESS\" IS MORE': 5,\n",
       " 'VEGAS, BABY': 4,\n",
       " 'THE BLUE ANGELS': 5,\n",
       " 'TONY-WINNING COMPOSERS': 8,\n",
       " 'SPEECH!  SPEECH!': 13,\n",
       " 'FEDERAL AID PROGRAMS': 5,\n",
       " '\"A\" PLUS': 34,\n",
       " \"ALL GOD'S CREATURES\": 11,\n",
       " '\"B\" IN GEOGRAPHY': 15,\n",
       " \"YOU'RE AN ANIMAL!\": 20,\n",
       " 'WORLD HISTORY': 377,\n",
       " 'FAIRY TALE FEMMES': 5,\n",
       " 'ANAGRAMMED STATE CAPITALS': 15,\n",
       " 'TOM JONES': 15,\n",
       " 'PARISIANS': 5,\n",
       " 'SHAKESPEAREAN OPERAS': 10,\n",
       " 'WORD & PHRASE ORIGINS': 71,\n",
       " 'FILM FACTS': 15,\n",
       " '1950s ACHIEVEMENTS': 1,\n",
       " 'U.N. SECRETARIES-GENERAL': 15,\n",
       " 'SONGS': 44,\n",
       " 'THE NEW CAR LOT': 5,\n",
       " '\"TU\"': 5,\n",
       " 'MANY IRONS': 5,\n",
       " 'IN THE FIRE': 5,\n",
       " 'AWARDS': 158,\n",
       " 'RELIGION BY THE NUMBERS': 5,\n",
       " \"THEIR COUNTRY'S LAST MONARCH\": 9,\n",
       " 'ANIMAL GROUPS': 32,\n",
       " 'IN THE BOOKSTORE': 95,\n",
       " \"WOMEN'S FASHION\": 10,\n",
       " 'STARTS WITH \"B\"': 15,\n",
       " 'CELEBRITY RELATIVES': 42,\n",
       " 'SPORTS TRIVIA': 19,\n",
       " 'SAY CHEESE': 15,\n",
       " 'EXPLORERS': 182,\n",
       " 'THE HUMAN BODY': 100,\n",
       " 'AMERICAN LITERATURE': 234,\n",
       " 'THE PLANETS': 68,\n",
       " 'ANTIQUES': 22,\n",
       " 'SHAKESPEAREAN TITLE CHARACTERS': 1,\n",
       " 'THE REVOLUTIONARY WAR': 31,\n",
       " 'GAME SHOWS': 23,\n",
       " 'THE ENVIRONMENT': 54,\n",
       " 'PHRASES THAT SELL': 5,\n",
       " 'THE \"UNDER\" WORLD': 10,\n",
       " 'THE EVOLUTIONARY WAR': 5,\n",
       " 'WHEN THEY WERE TEENS': 25,\n",
       " 'FAMOUS AMERICANS': 159,\n",
       " 'GREEK MYTHOLOGY': 45,\n",
       " 'YOU HAD TO EXPECT OPERA': 5,\n",
       " 'LONG WORDS': 17,\n",
       " 'THE WORLD OF ART': 1,\n",
       " 'TRAVEL': 26,\n",
       " \"CELEBRITIES' MIDDLE NAMES\": 15,\n",
       " 'CATHOLIC PRIESTS': 5,\n",
       " 'TITLE 9': 5,\n",
       " 'COME \"IN\"': 5,\n",
       " 'WANT ADS': 5,\n",
       " 'GO \"SOUTH\"': 5,\n",
       " 'I KNOW THAT WORD BACKWARDS & FORWARDS': 5,\n",
       " 'MESOPOTAMIA': 10,\n",
       " 'THE DE NIRO CODE': 5,\n",
       " 'AT THE CLEVELAND CLINIC': 5,\n",
       " 'FOOD ETYMOLOGY': 1,\n",
       " 'EDGAR ALLAN POE-POURRI': 5,\n",
       " 'HOP ON POP CULTURE': 5,\n",
       " 'RINGING THE OPENING BELL AT THE NYSE': 5,\n",
       " 'NEBRASKA, NEW YORK OR NORTH DAKOTA': 5,\n",
       " 'MOTHER GOOSE': 36,\n",
       " 'DEPARTMENT \"S\"': 10,\n",
       " 'STATE FISH': 10,\n",
       " 'MOVIES BY ROLES': 5,\n",
       " \"I'M HUNGRY!\": 5,\n",
       " '\"V\" HAVE MAPS': 5,\n",
       " 'SLEEP': 10,\n",
       " 'U.S. CITIES': 339,\n",
       " \"PRESIDENTS' MONOGRAMS\": 5,\n",
       " 'SOME MORE SIMIAN CINEMA': 5,\n",
       " 'TRUE LIVES': 5,\n",
       " 'HAMMERS': 5,\n",
       " 'ITALIAN ART': 10,\n",
       " 'FOLKIES': 5,\n",
       " 'DAYS': 15,\n",
       " 'KNIGHTS': 15,\n",
       " 'GOING DUTCH': 15,\n",
       " 'BRAND NAMES': 95,\n",
       " 'THE MISFITS': 5,\n",
       " 'ALL MY SONS': 5,\n",
       " 'THE CRUCIBLE': 5,\n",
       " '\"DEATH\"': 10,\n",
       " 'OF A SALESMAN': 5,\n",
       " 'ARTHUR MILLER': 10,\n",
       " 'ON THE BIG SCREEN': 5,\n",
       " 'MAKING PIANOS AT STEINWAY': 5,\n",
       " 'GET YOUR FACTS STRAIGHT': 45,\n",
       " 'COUNTRIES THAT END IN \"O\"': 5,\n",
       " '4-LETTER VERBS': 15,\n",
       " 'NAME THE WORK': 5,\n",
       " 'HEISMAN WINNERS': 5,\n",
       " 'I WANT TO RIDE THAT!': 5,\n",
       " 'A HORSE IS A HORSE': 9,\n",
       " 'THE FORTUNE 500': 15,\n",
       " 'RHYMES WITH TRACK': 5,\n",
       " 'WE SHALL REMAIN: GERONIMO': 5,\n",
       " 'TAYLOR, SWIFT': 5,\n",
       " 'PLANT LIFE': 24,\n",
       " 'TIME TO CONVERT': 5,\n",
       " '\"V\" IS FOR': 5,\n",
       " 'HOW TO BE A BAD SPORT': 5,\n",
       " 'THE 20th CENTURY': 79,\n",
       " 'CLASSIC STAR TREK': 3,\n",
       " 'RHYMES WITH TEEN': 10,\n",
       " 'COLLEGE FOOTBALL': 43,\n",
       " 'TEENS OF THE PAST': 10,\n",
       " 'OPERA & BALLET': 7,\n",
       " 'AUTHOR!  AUTHOR!': 10,\n",
       " '\"KNIFE\", \"FORK\" OR \"SPOON\"': 5,\n",
       " 'GEORGE WASHINGTON': 11,\n",
       " 'NO. 1 ALBUMS': 20,\n",
       " 'THE NEW TESTAMENT': 62,\n",
       " 'OLYMPIC POTPOURRI': 5,\n",
       " 'FOREIGN CURRENCY': 31,\n",
       " 'WORDS WITHIN WORDS': 33,\n",
       " 'BEING THOREAU': 5,\n",
       " 'OFF WITH THEIR HEADS!': 5,\n",
       " 'ASIAN NATIONS': 16,\n",
       " 'DICE ROLL NICKNAMES': 5,\n",
       " 'YOUNG WOMEN OF TODAY': 5,\n",
       " 'ACRONYM EXCITEMENT!': 5,\n",
       " 'WORLD CITIES': 214,\n",
       " 'IRAQNOPHOBIA': 5,\n",
       " 'ORDINAL NUMBER, PLEASE': 5,\n",
       " 'WHAT AILS YOU?': 10,\n",
       " '1957': 29,\n",
       " 'REALLY BIG': 10,\n",
       " 'SHOES': 10,\n",
       " 'POLITICIANS': 122,\n",
       " 'MUSICAL THEATRE': 110,\n",
       " '19TH CENTURY FICTION': 1,\n",
       " 'ROCKS & MINERALS': 50,\n",
       " 'DOUBLE DOUBLE LETTERS': 34,\n",
       " 'MS.': 3,\n",
       " 'SODA POP QUIZ': 15,\n",
       " 'HOLLYWOOD DOGS': 1,\n",
       " 'POLITICAL SLOGANS': 5,\n",
       " 'TREES': 87,\n",
       " 'RODGERS & HAMMERSTEIN': 15,\n",
       " 'BRITISH HISTORY': 49,\n",
       " 'HOLIDAYS': 53,\n",
       " '“SAINTS”': 4,\n",
       " 'BIOLOGY': 194,\n",
       " 'BOY MEETS WORLD': 5,\n",
       " \"WHO'S THE BOSS\": 10,\n",
       " 'SEAQUEST': 5,\n",
       " 'EVERYBODY LOVES RAY': 5,\n",
       " 'MARRIED WITH CHILDREN': 4,\n",
       " 'PARTY OF \"FIVE\"': 5,\n",
       " 'THE HAYES YEARS': 4,\n",
       " 'THE FILM VAULT': 15,\n",
       " ...}"
      ]
     },
     "execution_count": 48,
     "metadata": {},
     "output_type": "execute_result"
    }
   ],
   "source": [
    "freq = Counter(categories)\n",
    "cats = dict(freq)\n",
    "cats"
   ]
  },
  {
   "cell_type": "code",
   "execution_count": 52,
   "metadata": {},
   "outputs": [
    {
     "data": {
      "text/plain": [
       "[('BEFORE & AFTER', 547),\n",
       " ('SCIENCE', 519),\n",
       " ('LITERATURE', 496),\n",
       " ('AMERICAN HISTORY', 418),\n",
       " ('POTPOURRI', 401),\n",
       " ('WORLD HISTORY', 377),\n",
       " ('WORD ORIGINS', 371),\n",
       " ('COLLEGES & UNIVERSITIES', 351),\n",
       " ('HISTORY', 349),\n",
       " ('SPORTS', 342),\n",
       " ('U.S. CITIES', 339),\n",
       " ('WORLD GEOGRAPHY', 338),\n",
       " ('BODIES OF WATER', 327),\n",
       " ('ANIMALS', 324),\n",
       " ('STATE CAPITALS', 314),\n",
       " ('BUSINESS & INDUSTRY', 311),\n",
       " ('ISLANDS', 301),\n",
       " ('WORLD CAPITALS', 300),\n",
       " ('U.S. GEOGRAPHY', 299),\n",
       " ('RELIGION', 297),\n",
       " ('SHAKESPEARE', 294),\n",
       " ('OPERA', 294),\n",
       " ('LANGUAGES', 284),\n",
       " ('BALLET', 282),\n",
       " ('TELEVISION', 281),\n",
       " ('FICTIONAL CHARACTERS', 280),\n",
       " ('TRANSPORTATION', 279),\n",
       " ('PEOPLE', 279),\n",
       " ('RHYME TIME', 279),\n",
       " ('ART & ARTISTS', 270),\n",
       " ('STUPID ANSWERS', 270),\n",
       " ('THE BIBLE', 267),\n",
       " ('ART', 258),\n",
       " ('BOOKS & AUTHORS', 255),\n",
       " ('U.S. HISTORY', 250),\n",
       " ('FOOD', 246),\n",
       " ('MUSEUMS', 245),\n",
       " ('SCIENCE & NATURE', 244),\n",
       " ('AMERICANA', 244),\n",
       " ('COMMON BONDS', 243),\n",
       " ('HOLIDAYS & OBSERVANCES', 242),\n",
       " ('GEOGRAPHY', 242),\n",
       " ('3-LETTER WORDS', 240),\n",
       " ('ANNUAL EVENTS', 236),\n",
       " ('AMERICAN LITERATURE', 234),\n",
       " ('CLASSICAL MUSIC', 233),\n",
       " ('POP MUSIC', 232),\n",
       " ('AUTHORS', 232),\n",
       " ('POETS & POETRY', 230),\n",
       " ('QUOTATIONS', 226),\n",
       " ('HODGEPODGE', 222),\n",
       " ('MYTHOLOGY', 221),\n",
       " ('NONFICTION', 220),\n",
       " ('THE MOVIES', 218),\n",
       " ('WORLD CITIES', 214),\n",
       " ('MUSICAL INSTRUMENTS', 212),\n",
       " ('AROUND THE WORLD', 207),\n",
       " ('THE CIVIL WAR', 206),\n",
       " ('MUSIC', 205),\n",
       " ('U.S. PRESIDENTS', 204),\n",
       " ('COMPOSERS', 203),\n",
       " ('ASTRONOMY', 199),\n",
       " ('FOOD & DRINK', 198),\n",
       " ('4-LETTER WORDS', 197),\n",
       " ('HISTORIC NAMES', 194),\n",
       " ('BIOLOGY', 194),\n",
       " ('MOUNTAINS', 189),\n",
       " ('POTENT POTABLES', 188),\n",
       " ('EUROPEAN HISTORY', 184),\n",
       " ('HOMOPHONES', 184),\n",
       " ('MEDICINE', 183),\n",
       " ('SCIENTISTS', 182),\n",
       " ('EXPLORERS', 182),\n",
       " ('ORGANIZATIONS', 182),\n",
       " ('ARCHITECTURE', 180),\n",
       " ('WEIGHTS & MEASURES', 177),\n",
       " ('FIRST LADIES', 175),\n",
       " ('TRAVEL & TOURISM', 174),\n",
       " ('FRUITS & VEGETABLES', 170),\n",
       " ('MAGAZINES', 166),\n",
       " ('THE BODY HUMAN', 166),\n",
       " ('IN THE DICTIONARY', 164),\n",
       " ('FAMOUS AMERICANS', 159),\n",
       " ('AWARDS', 158),\n",
       " ('ZOOLOGY', 158),\n",
       " ('NATURE', 157),\n",
       " ('VOCABULARY', 156),\n",
       " ('FOREIGN WORDS & PHRASES', 156),\n",
       " ('FASHION', 154),\n",
       " ('THEATRE', 153),\n",
       " ('19th CENTURY AMERICA', 151),\n",
       " ('5-LETTER WORDS', 151),\n",
       " ('CHEMISTRY', 151),\n",
       " ('WORLD LEADERS', 146),\n",
       " ('PHYSICS', 146),\n",
       " ('GOVERNMENT & POLITICS', 146),\n",
       " ('U.S. STATES', 145),\n",
       " ('ABBREV.', 145),\n",
       " ('GENERAL SCIENCE', 144),\n",
       " ('NOTABLE NAMES', 144),\n",
       " ('ARTISTS', 144),\n",
       " ('THE AMERICAN REVOLUTION', 141),\n",
       " ('10-LETTER WORDS', 140),\n",
       " ('ANATOMY', 139),\n",
       " ('FAMOUS NAMES', 139),\n",
       " ('ACTORS & ACTRESSES', 137),\n",
       " ('LAKES & RIVERS', 136),\n",
       " ('COUNTRIES OF THE WORLD', 134),\n",
       " ('BIRDS', 133),\n",
       " ('ODDS & ENDS', 132),\n",
       " ('POP CULTURE', 132),\n",
       " ('PEOPLE IN HISTORY', 131),\n",
       " ('FAMILIAR PHRASES', 129),\n",
       " ('HAIL TO THE CHIEF', 129),\n",
       " ('POETRY', 125),\n",
       " ('SIGNS & SYMBOLS', 124),\n",
       " ('HEALTH & MEDICINE', 124),\n",
       " ('MAMMALS', 124),\n",
       " ('U.S.A.', 123),\n",
       " ('POLITICIANS', 122),\n",
       " ('BOTANY', 120),\n",
       " ('QUOTES', 120),\n",
       " ('INVENTORS', 118),\n",
       " ('CLASSICAL COMPOSERS', 117),\n",
       " ('LETTER PERFECT', 115),\n",
       " ('HISTORIC AMERICANS', 114),\n",
       " ('SCULPTURE', 114),\n",
       " ('THE OLD TESTAMENT', 113),\n",
       " ('SINGERS', 113),\n",
       " ('ROYALTY', 112),\n",
       " ('DOUBLE TALK', 110),\n",
       " ('MUSICAL THEATRE', 110),\n",
       " ('COLORS', 106),\n",
       " ('EUROPE', 105),\n",
       " ('ARCHAEOLOGY', 105),\n",
       " ('WORLD LITERATURE', 105),\n",
       " ('BODY LANGUAGE', 105),\n",
       " ('TECHNOLOGY', 104),\n",
       " ('THE ELEMENTS', 104),\n",
       " ('MIDDLE NAMES', 103),\n",
       " ('PLAYWRIGHTS', 102),\n",
       " ('ANCIENT HISTORY', 102),\n",
       " ('FAMOUS WOMEN', 102),\n",
       " ('THE OSCARS', 102),\n",
       " ('LIBRARIES', 101),\n",
       " ('THE 50 STATES', 100),\n",
       " ('BESTSELLERS', 100),\n",
       " ('GEOLOGY', 100),\n",
       " ('THE HUMAN BODY', 100),\n",
       " ('LEFTOVERS', 100),\n",
       " ('2-LETTER WORDS', 99),\n",
       " ('MATH', 99),\n",
       " ('NUMBER, PLEASE', 98),\n",
       " ('THE MIDDLE AGES', 97),\n",
       " ('NOTABLE WOMEN', 97),\n",
       " ('ODD WORDS', 96),\n",
       " ('AT THE MOVIES', 95),\n",
       " ('IN THE BOOKSTORE', 95),\n",
       " ('BRAND NAMES', 95),\n",
       " ('GUINNESS RECORDS', 95),\n",
       " ('ENGLISH LITERATURE', 95),\n",
       " ('PROVERBS', 94),\n",
       " ('INVENTIONS', 94),\n",
       " (\"CHILDREN'S LITERATURE\", 93),\n",
       " ('INSECTS', 92),\n",
       " ('EDUCATION', 92),\n",
       " ('ACTORS & THEIR ROLES', 91),\n",
       " ('LANDMARKS', 91),\n",
       " ('NURSERY RHYMES', 90),\n",
       " ('LITERARY CHARACTERS', 90),\n",
       " ('PRESIDENTS', 90),\n",
       " ('NICKNAMES', 90),\n",
       " ('CROSSWORD CLUES \"F\"', 89),\n",
       " ('QUASI-RELATED PAIRS', 89),\n",
       " ('WHERE AM I?', 88),\n",
       " ('HERBS & SPICES', 88),\n",
       " ('TREES', 87),\n",
       " ('MUSIC APPRECIATION', 87),\n",
       " ('FLOWERS', 86),\n",
       " ('12-LETTER WORDS', 86),\n",
       " ('MOVIE QUOTES', 86),\n",
       " ('ANAGRAMS', 86),\n",
       " ('RIVERS', 85),\n",
       " ('KIDDY LIT', 85),\n",
       " ('WOMEN AUTHORS', 85),\n",
       " ('COOKING', 85),\n",
       " ('LITERARY HODGEPODGE', 85),\n",
       " (\"LAST NAME'S THE SAME\", 84),\n",
       " ('NOTORIOUS', 84),\n",
       " ('PLAYS & PLAYWRIGHTS', 84),\n",
       " ('FURNITURE', 83),\n",
       " ('NATIONAL PARKS', 83),\n",
       " ('FAMOUS PAIRS', 83),\n",
       " ('COLONIAL AMERICA', 83),\n",
       " ('20th CENTURY WOMEN', 83),\n",
       " ('FLAGS', 81),\n",
       " ('AMERICAN LIT', 81),\n",
       " (\"FIRST NAME'S THE SAME\", 80),\n",
       " ('PHILOSOPHY', 80),\n",
       " ('6-LETTER WORDS', 80),\n",
       " ('THE 20th CENTURY', 79),\n",
       " ('SCIENCE CLASS', 78),\n",
       " ('WEATHER', 78),\n",
       " ('MOVIE DEBUTS', 78),\n",
       " ('ACTRESSES', 77),\n",
       " ('13-LETTER WORDS', 77),\n",
       " ('SAINTS', 76),\n",
       " ('THE OLD WEST', 76),\n",
       " ('-OLOGIES', 76),\n",
       " ('SHORT STORIES', 76),\n",
       " ('NEWSPAPERS', 76),\n",
       " ('VICE PRESIDENTS', 75),\n",
       " ('DANCE', 75),\n",
       " (\"THE DIRECTOR'S CHAIR\", 75),\n",
       " ('ADD A LETTER', 74),\n",
       " ('CROSSWORD CLUES \"M\"', 73),\n",
       " ('COUNTRY MUSIC', 73),\n",
       " ('WOMEN IN SPORTS', 73),\n",
       " ('SPORTS STARS', 73),\n",
       " ('NOVELS', 71),\n",
       " ('SHIPS', 71),\n",
       " ('WORD & PHRASE ORIGINS', 71),\n",
       " ('FROM THE LATIN', 70),\n",
       " ('CELEBRITY RHYME TIME', 70),\n",
       " ('WORD PUZZLES', 70),\n",
       " ('WHICH CAME FIRST?', 70),\n",
       " ('POETS', 69),\n",
       " ('FACTS & FIGURES', 69),\n",
       " ('AVIATION', 69),\n",
       " ('BIOGRAPHIES', 68),\n",
       " ('THE PLANETS', 68),\n",
       " ('POLITICS', 68),\n",
       " ('PHYSICAL SCIENCE', 67),\n",
       " ('ADJECTIVES', 67),\n",
       " ('THE 1980s', 67),\n",
       " ('ANCIENT TIMES', 67),\n",
       " ('ENGLISH LIT', 67),\n",
       " (\"WHO PLAYED 'EM?\", 67),\n",
       " ('PLAYS', 67),\n",
       " ('FROM THE GREEK', 66),\n",
       " ('WORLD RELIGION', 66),\n",
       " ('PEN NAMES', 66),\n",
       " ('DRAMA', 66),\n",
       " ('THE 19th CENTURY', 66),\n",
       " ('PEOPLE & PLACES', 66),\n",
       " ('THE OLYMPICS', 66),\n",
       " ('WORLD WAR I', 65),\n",
       " ('PRESIDENTIAL NICKNAMES', 65),\n",
       " ('GEMS & JEWELRY', 65),\n",
       " ('TV TRIVIA', 65),\n",
       " ('BEASTLY EXPRESSIONS', 65),\n",
       " ('GEOMETRY', 65),\n",
       " ('THEATER', 65),\n",
       " ('ECONOMICS', 65),\n",
       " ('IN THE NEWS', 65),\n",
       " ('INVENTORS & INVENTIONS', 64),\n",
       " ('STATE FLAGS', 64),\n",
       " ('FOOD FACTS', 63),\n",
       " ('BASEBALL', 63),\n",
       " ('WORLD WAR II', 63),\n",
       " ('RANKS & TITLES', 62),\n",
       " ('THE NEW TESTAMENT', 62),\n",
       " ('GAMES', 62),\n",
       " ('MYTHS & LEGENDS', 62),\n",
       " ('WORLD TRAVEL', 62),\n",
       " ('FASHION DESIGNERS', 62),\n",
       " ('STOCK SYMBOLS', 61),\n",
       " ('BRITISH AUTHORS', 61),\n",
       " ('SPORTS NICKNAMES', 61),\n",
       " ('UNREAL ESTATE', 61),\n",
       " ('EARLY AMERICA', 60),\n",
       " ('NATIONAL ANTHEMS', 60),\n",
       " ('THIS & THAT', 60),\n",
       " ('ABBREVIATIONS', 60),\n",
       " ('THE ANIMAL KINGDOM', 60),\n",
       " ('7-LETTER WORDS', 60),\n",
       " ('AFRICAN HISTORY', 60),\n",
       " ('TOYS & GAMES', 60),\n",
       " ('ASIA', 59),\n",
       " ('FIRST NAMES', 59),\n",
       " ('MILITARY MATTERS', 59),\n",
       " ('AFRICA', 59),\n",
       " ('AMERICAN AUTHORS', 58),\n",
       " ('INTERNATIONAL CUISINE', 58),\n",
       " ('MONEY', 58),\n",
       " ('ARCHITECTS', 57),\n",
       " ('NATIVE AMERICANS', 57),\n",
       " ('LESSER-KNOWN NAMES', 57),\n",
       " ('PHOTOGRAPHY', 57),\n",
       " ('WORLD FACTS', 56),\n",
       " ('THE SUPREME COURT', 56),\n",
       " ('OFFICIAL LANGUAGES', 56),\n",
       " ('AGRICULTURE', 56),\n",
       " ('LITERARY QUOTES', 56),\n",
       " ('CROSSWORD CLUES \"K\"', 55),\n",
       " ('BETTER KNOWN AS...', 55),\n",
       " ('CROSSWORD CLUES \"G\"', 55),\n",
       " ('THE LARGEST IN AREA', 55),\n",
       " ('SCIENCE & TECHNOLOGY', 55),\n",
       " ('CROSSWORD CLUES \"T\"', 55),\n",
       " ('CROSSWORD CLUES \"L\"', 55),\n",
       " ('POT LUCK', 55),\n",
       " ('CROSSWORD CLUES \"S\"', 55),\n",
       " ('9-LETTER WORDS', 55),\n",
       " ('HISTORICAL NOVELS', 55),\n",
       " ('FISH', 55),\n",
       " (\"AUTHORS' RHYME TIME\", 54),\n",
       " ('THE ENVIRONMENT', 54),\n",
       " ('U.S. GOVERNMENT', 54),\n",
       " ('CROSSWORD CLUES \"P\"', 54),\n",
       " ('BLACK AMERICA', 54),\n",
       " ('RULERS', 54),\n",
       " ('HOLIDAYS', 53),\n",
       " ('TV CHARACTERS', 53),\n",
       " ('STATE FACTS', 53),\n",
       " ('METALS', 53),\n",
       " ('MUSIC CLASS', 53),\n",
       " ('GARDENING', 53),\n",
       " (\"THE QUEEN'S ENGLISH\", 53),\n",
       " ('THE 1930s', 52),\n",
       " ('SHAKESPEAREAN CHARACTERS', 52),\n",
       " ('FRUIT', 52),\n",
       " ('SAME FIRST & LAST LETTER', 52),\n",
       " ('BROADWAY', 52),\n",
       " ('TRAVEL U.S.A.', 52),\n",
       " ('BY THE NUMBERS', 52),\n",
       " ('MOVIES', 52),\n",
       " ('AWARDS & HONORS', 51),\n",
       " ('HISTORIC PEOPLE', 51),\n",
       " ('FROM PAGE TO SCREEN', 51),\n",
       " ('HIGHWAYS & BYWAYS', 51),\n",
       " ('ANCIENT GREECE', 51),\n",
       " ('THE CINEMA', 50),\n",
       " ('ROCKS & MINERALS', 50),\n",
       " ('WEBSITES', 50),\n",
       " ('PARTS OF THE WHOLE', 50),\n",
       " ('\"T\" TIME', 50),\n",
       " ('\"G\" WHIZ', 50),\n",
       " (\"PUT 'EM IN ORDER\", 50),\n",
       " ('CROSSWORD CLUES \"A\"', 50),\n",
       " ('BORN & DIED', 50),\n",
       " ('BRIT LIT', 50),\n",
       " ('JAPAN', 50),\n",
       " ('CATS & DOGS', 50),\n",
       " ('MOVIE TAGLINES', 50),\n",
       " ('STATE NICKNAMES', 50),\n",
       " ('EUROPEAN CITIES', 50),\n",
       " ('CLIFFS NOTES', 50),\n",
       " ('WINE', 49),\n",
       " ('PSYCHOLOGY', 49),\n",
       " ('BRITISH HISTORY', 49),\n",
       " ('INTERNATIONAL FOOD & DRINK', 49),\n",
       " ('WEAPONS', 48),\n",
       " ('EXPLORATION', 48),\n",
       " ('THE EMMYS', 48),\n",
       " ('CONSTELLATIONS', 48),\n",
       " ('BACKWORDS', 47),\n",
       " ('11-LETTER WORDS', 47),\n",
       " ('FICTION', 47),\n",
       " ('OCCUPATIONS', 47),\n",
       " ('PLANTS & TREES', 47),\n",
       " ('BROADWAY MUSICALS', 47),\n",
       " ('FAMOUS FIRSTS', 47),\n",
       " ('COMMUNICATION', 47),\n",
       " ('THE SOLAR SYSTEM', 46),\n",
       " ('NUTRITION', 46),\n",
       " ('PLANTS', 46),\n",
       " ('CELEBRITIES', 46),\n",
       " ('LITERARY TERMS', 46),\n",
       " ('GENESIS', 46),\n",
       " ('BIBLICAL PEOPLE', 46),\n",
       " ('WOMEN', 46),\n",
       " ('SCIENCE GUYS', 45),\n",
       " ('ON THE GO', 45),\n",
       " ('MOVIE SONGS', 45),\n",
       " ('GREEK MYTHOLOGY', 45),\n",
       " ('GET YOUR FACTS STRAIGHT', 45),\n",
       " ('JUST DESSERTS', 45),\n",
       " ('BRIDGES', 45),\n",
       " ('OFFICIAL STATE THINGS', 45),\n",
       " ('MISSING LINKS', 45),\n",
       " ('ALBUMS', 45),\n",
       " ('FUN WITH OPERA', 45),\n",
       " ('BIBLICAL QUOTES', 45),\n",
       " ('THE NORTHERNMOST CAPITAL CITY', 45),\n",
       " (\"WOMEN'S FIRSTS\", 45),\n",
       " ('BLACK AMERICANS', 45),\n",
       " ('EUROPEAN GEOGRAPHY', 45),\n",
       " ('CORPORATE AMERICA', 45),\n",
       " ('TRIVIA', 45),\n",
       " ('WOMEN WRITERS', 45),\n",
       " ('THE U.S. CONSTITUTION', 45),\n",
       " ('COLLEGE TOWNS', 45),\n",
       " ('CAPITAL CITY BIRTHPLACES', 45),\n",
       " ('FROM THE FRENCH', 44),\n",
       " ('SONGS', 44),\n",
       " ('SOUTH AMERICA', 44),\n",
       " ('FAMOUS QUOTES', 44),\n",
       " ('15-LETTER WORDS', 44),\n",
       " ('THE UNITED NATIONS', 44),\n",
       " ('SPORTS LEGENDS', 43),\n",
       " ('MUSICALS', 43),\n",
       " ('COLLEGE FOOTBALL', 43),\n",
       " ('ETIQUETTE', 43),\n",
       " ('MOVIE TRIVIA', 43),\n",
       " (\"CHILDREN'S LIT\", 43),\n",
       " ('FASHION HISTORY', 43),\n",
       " ('BRITISH ROYALTY', 43),\n",
       " ('EUROPEAN CAPITALS', 43),\n",
       " ('LAW', 43),\n",
       " ('HISTORIC WOMEN', 42),\n",
       " ('FLAGS OF THE WORLD', 42),\n",
       " ('GOVERNMENT', 42),\n",
       " ('YOU DO THE MATH', 42),\n",
       " ('CELEBRITY RELATIVES', 42),\n",
       " ('AFRICAN AMERICANS', 42),\n",
       " ('AMERICAN INDIANS', 42),\n",
       " ('FOOTBALL', 42),\n",
       " ('ALL THAT JAZZ', 42),\n",
       " ('ON THE MAP', 42),\n",
       " ('BOOK TITLES', 41),\n",
       " ('VOLCANOES', 41),\n",
       " ('THE CABINET', 41),\n",
       " ('HALLS OF FAME', 41),\n",
       " ('ALPHABETICALLY LAST', 41),\n",
       " ('U.S. COINS', 41),\n",
       " ('GEMS', 41),\n",
       " ('ANCIENT ROME', 41),\n",
       " ('U.S. STAMPS', 41),\n",
       " ('DOGS', 41),\n",
       " ('CELEBRITY BOOKS', 41),\n",
       " ('TRAVEL EUROPE', 41),\n",
       " ('RELIGIOUS LEADERS', 41),\n",
       " ('TV ACTORS & ROLES', 40),\n",
       " ('CELEBS', 40),\n",
       " ('NAME THE DECADE', 40),\n",
       " ('SONG LYRICS', 40),\n",
       " ('PRESIDENTIAL TRIVIA', 40),\n",
       " ('COMPOUND WORDS', 40),\n",
       " ('CAPITAL PUNISHMENT', 40),\n",
       " ('NAME THE MOVIE', 40),\n",
       " ('NEWSPAPERS & MAGAZINES', 40),\n",
       " ('ACTORS & ROLES', 40),\n",
       " ('\"G\" WHIZ!', 40),\n",
       " ('AUTHORS & THEIR WORKS', 40),\n",
       " ('MONTHS', 40),\n",
       " ('GRAB BAG', 40),\n",
       " ('BEASTLY RHYME TIME', 40),\n",
       " ('SUPERSTITIONS', 40),\n",
       " ('LABOR', 40),\n",
       " ('INCREDIBLE EDIBLES', 40),\n",
       " ('CROSSWORD CLUES \"C\"', 40),\n",
       " (\"FILMS OF THE '90s\", 40),\n",
       " ('MATHEMATICS', 40),\n",
       " ('\"J\" WALKING', 40),\n",
       " ('ARTISTS & THEIR SUBJECTS', 40),\n",
       " ('ATHLETES', 40),\n",
       " ('AMERICAN HODGEPODGE', 40),\n",
       " ('JAZZ', 40),\n",
       " ('\"G\"EOGRAPHY', 40),\n",
       " ('WORDS', 39),\n",
       " ('ENGINEERING', 39),\n",
       " ('BROADWAY LYRICS', 39),\n",
       " ('VERBS', 39),\n",
       " ('THE HISTORY CHANNEL', 39),\n",
       " ('WOMEN IN HISTORY', 39),\n",
       " ('IF THEY MARRIED...', 39),\n",
       " ('FIRST THINGS FIRST', 39),\n",
       " ('THE SMALLEST IN AREA', 39),\n",
       " ('DOCUMENTARIES', 39),\n",
       " ('DAYS OF THE WEEK', 39),\n",
       " ('STAR WARS', 39),\n",
       " (\"FILMS OF THE '70s\", 39),\n",
       " ('OFFICIAL STATE STUFF', 39),\n",
       " ('THE BILL OF RIGHTS', 39),\n",
       " ('ROCK', 39),\n",
       " ('THE 1960s', 38),\n",
       " ('MOVIE DIRECTORS', 38),\n",
       " ('ART HISTORY', 38),\n",
       " ('ANTONYMS', 38),\n",
       " ('EPONYMS', 37),\n",
       " ('20th CENTURY NOVELS', 37),\n",
       " ('SLOGANEERING', 37),\n",
       " ('THE LAW', 37),\n",
       " ('GOVERNORS', 37),\n",
       " ('GRAMMAR', 37),\n",
       " ('AIRPORT CODES', 36),\n",
       " ('NAME THE POET', 36),\n",
       " ('MOTHER GOOSE', 36),\n",
       " ('MUSICAL THEATER', 36),\n",
       " ('FRENCH HISTORY', 36),\n",
       " ('U.S. BODIES OF WATER', 36),\n",
       " ('COLLECTIBLES', 36),\n",
       " ('MUSICIANS', 36),\n",
       " ('DESIGN', 36),\n",
       " ('TV SPIN-OFFS', 36),\n",
       " ('BASKETBALL', 36),\n",
       " ('PRO FOOTBALL', 36),\n",
       " ('20th CENTURY AMERICA', 36),\n",
       " ('FRENCH LITERATURE', 36),\n",
       " (\"WHAT'S IN A NAME?\", 35),\n",
       " ('HOMOPHONIC PAIRS', 35),\n",
       " ('WAR STORIES', 35),\n",
       " ('FIRST NOVELS', 35),\n",
       " ('THE SILVER SCREEN', 35),\n",
       " ('STATE OF THE UNION', 35),\n",
       " ('TEENS IN HISTORY', 35),\n",
       " ('NORSE MYTHOLOGY', 35),\n",
       " ('SOCIOLOGY', 35),\n",
       " ('LITERARY BEFORE & AFTER', 35),\n",
       " ('GOULASH', 35),\n",
       " ('INVENTIVE MINDS', 35),\n",
       " ('ARTS & CRAFTS', 35),\n",
       " ('1984', 35),\n",
       " ('MOVIE MUSICALS', 35),\n",
       " ('FOR THE BIRDS', 35),\n",
       " ('BUGS', 35),\n",
       " ('THE SHORT FORM', 35),\n",
       " ('HE WAS IN THAT?', 35),\n",
       " ('CATCHING SOME \"Z\"s', 35),\n",
       " ('DESERTS', 35),\n",
       " ('ENERGY', 35),\n",
       " ('THE WAR OF 1812', 35),\n",
       " ('GEOGRAPHY \"B\"', 35),\n",
       " ('HINTS FROM HELOISE', 35),\n",
       " ('NATURE STUDY', 35),\n",
       " ('COLOR MY WORLD', 35),\n",
       " ('WHEN THEY WERE IN COLLEGE', 35),\n",
       " ('SONGS FROM MUSICALS', 35),\n",
       " ('TAKE A LETTER', 35),\n",
       " ('NAME THE YEAR', 35),\n",
       " ('\"W\"ORDS', 35),\n",
       " ('ALPHABETICALLY FIRST', 35),\n",
       " ('FIX THE PROVERB', 35),\n",
       " ('AROUND THE HOUSE', 35),\n",
       " ('AT THE DRUGSTORE', 35),\n",
       " ('NONPOTENT POTABLES', 35),\n",
       " ('TIME', 35),\n",
       " ('AROUND THE USA', 35),\n",
       " ('FOOD FOR THOUGHT', 35),\n",
       " ('TV', 35),\n",
       " (\"THAT'S SO CLICHE!\", 35),\n",
       " ('CLASSIC SITCOM EPISODES', 35),\n",
       " (\"THE ROARING '20s\", 35),\n",
       " ('INITIALLY YOURS', 35),\n",
       " ('FROM A TO Y', 35),\n",
       " ('THE WHITE HOUSE', 35),\n",
       " ('THE STARS', 35),\n",
       " ('GOLF', 35),\n",
       " ('PENINSULAS', 35),\n",
       " ('FASHION STATEMENTS', 35),\n",
       " ('CONTEMPORARIES', 35),\n",
       " ('HEALTH MATTERS', 35),\n",
       " (\"IT'S A GROUP THING\", 35),\n",
       " ('BEVERAGES', 35),\n",
       " ('REPTILES', 35),\n",
       " ('A RIVER RUNS THROUGH IT', 35),\n",
       " ('ANCIENT EGYPT', 35),\n",
       " ('COMPLETES THE PROVERB', 35),\n",
       " ('FILL IN THE BOOK TITLE', 35),\n",
       " ('PLAYING DOCTOR', 35),\n",
       " ('OXYMORONS', 34),\n",
       " ('\"A\" PLUS', 34),\n",
       " ('DOUBLE DOUBLE LETTERS', 34),\n",
       " ('SPACE EXPLORATION', 34),\n",
       " ('E BEFORE I', 34),\n",
       " (\"NAME'S THE SAME\", 34),\n",
       " ('RECENT MOVIES', 34),\n",
       " ('JOURNALISM', 34),\n",
       " ('HORSES', 34),\n",
       " ('BRANDED', 34),\n",
       " ('COUNTRY SINGERS', 34),\n",
       " ('THE FRENCH REVOLUTION', 34),\n",
       " ('DINOSAURS', 34),\n",
       " ('VIDEO GAMES', 34),\n",
       " ('SICKNESS & HEALTH', 34),\n",
       " ('WORDS WITHIN WORDS', 33),\n",
       " ('AMERICAN WOMEN', 33),\n",
       " ('ACTOR-DIRECTORS', 33),\n",
       " ('REPUBLICANS', 33),\n",
       " ('INSPIRED CHARACTERS', 33),\n",
       " ('MARINE BIOLOGY', 33),\n",
       " ('TV NOSTALGIA', 33),\n",
       " ('FILM STARS', 33),\n",
       " ('STATE MOTTOES', 33),\n",
       " ('COCKNEY RHYMING SLANG', 33),\n",
       " ('COLORFUL WORDS & PHRASES', 33),\n",
       " ('THE CONSTITUTION', 32),\n",
       " ('SCOTLAND', 32),\n",
       " ('CROSSWORD CLUES \"D\"', 32),\n",
       " ('ANIMAL GROUPS', 32),\n",
       " ('HISTORIC QUOTES', 32),\n",
       " ('SHAKESPEAREAN ACTORS', 32),\n",
       " ('20th CENTURY PEOPLE', 32),\n",
       " ('RECENT FILMS', 32),\n",
       " ('SCIENCE FICTION', 32),\n",
       " ('HISTORIC DOCUMENTS', 32),\n",
       " ('ADVERTISING', 32),\n",
       " ('CATS', 32),\n",
       " ('ROCK MUSIC', 31),\n",
       " ('LIFE SCIENCE', 31),\n",
       " ('THE REVOLUTIONARY WAR', 31),\n",
       " ('FOREIGN CURRENCY', 31),\n",
       " ('19th CENTURY LITERATURE', 31),\n",
       " ('PAINTERS', 31),\n",
       " ('CANADIAN HISTORY', 31),\n",
       " ('TV THEME SONGS', 31),\n",
       " ('ASIAN HISTORY', 31),\n",
       " ('PAINTINGS', 31),\n",
       " ('NEW YORK CITY', 31),\n",
       " ('PRESIDENTIAL FACTS', 31),\n",
       " ('TENNIS', 31),\n",
       " ('AIRPORTS', 31),\n",
       " ('INAUGURAL ADDRESSES', 31),\n",
       " ('HISTORIC NICKNAMES', 30),\n",
       " ('NUMBERS', 30),\n",
       " ('WE ARE THE CHAMPIONS', 30),\n",
       " ('PHOTOGRAPHERS', 30),\n",
       " ('\"B\" PREPARED', 30),\n",
       " ('CROSSWORD CLUES \"R\"', 30),\n",
       " ('WEDDINGS', 30),\n",
       " ('PRESIDENTIAL RHYME TIME', 30),\n",
       " ('SPORTS HOME CITIES', 30),\n",
       " ('STATES OF THE UNION', 30),\n",
       " ('STATE BIRDS', 30),\n",
       " ('WAR', 30),\n",
       " ('FEMINISM', 30),\n",
       " ('THE KOREAN WAR', 30),\n",
       " ('WATERFALLS', 30),\n",
       " ('HISTORIC AMERICA', 30),\n",
       " ('OSCAR-WINNING ROLES', 30),\n",
       " ('SPELLING', 30),\n",
       " ('PREFIXES', 30),\n",
       " ('PHILOSOPHERS', 30),\n",
       " ('OSCAR-WINNING SONGS', 30),\n",
       " ('TRAVEL FUN', 30),\n",
       " ('THE SPANISH-AMERICAN WAR', 30),\n",
       " ('LITERARY CROSSWORD CLUES \"S\"', 30),\n",
       " ('\"G\" MEN', 30),\n",
       " ('COLORFUL RHYME TIME', 30),\n",
       " ('DISNEY FILM VOICES', 30),\n",
       " ('PETS', 30),\n",
       " ('WORLD HERITAGE SITES', 30),\n",
       " ('THE ACADEMY AWARDS', 30),\n",
       " ('U.S. PLACE NAMES', 30),\n",
       " ('APRIL', 30),\n",
       " ('WASHINGTON, D.C.', 30),\n",
       " ('IT BORDERS BOTH', 30),\n",
       " ('NATIONAL GEOGRAPHIC', 30),\n",
       " ('NAME THAT COUNTRY', 30),\n",
       " ('MULTIPLE CHOICE', 30),\n",
       " ('PLAY TIME', 30),\n",
       " ('BOOKS OF THE BIBLE', 30),\n",
       " ('MOVIE TITLE PAIRS', 30),\n",
       " ('TEA TIME', 30),\n",
       " ('LEGAL LINGO', 30),\n",
       " ('LITERARY LOCALES', 30),\n",
       " ('MUSICAL NUMBERS', 30),\n",
       " ('FAMOUS FACES', 30),\n",
       " ('MEXICO', 30),\n",
       " ('MEDALS & DECORATIONS', 30),\n",
       " ('CRITTERS', 30),\n",
       " ('QUOTABLE WOMEN', 30),\n",
       " ('FLOWER POWER', 30),\n",
       " ('4-SYLLABLE WORDS', 30),\n",
       " ('YEARS', 30),\n",
       " ('PREHISTORIC TIMES', 30),\n",
       " ('A.K.A.', 30),\n",
       " ('5-SYLLABLE WORDS', 30),\n",
       " ('FOOD WORDS & PHRASES', 30),\n",
       " ('NAME THAT MOVIE', 30),\n",
       " ('THE 20TH CENTURY', 30),\n",
       " ('EARTH SCIENCE', 30),\n",
       " ('THE BRITISH INVASION', 30),\n",
       " ('TV TEENS', 30),\n",
       " ('PALINDROMIC WORDS', 30),\n",
       " ('PLANES, TRAINS & AUTOMOBILES', 30),\n",
       " ('BASEBALL NICKNAMES', 30),\n",
       " ('ENDS IN \"X\"', 30),\n",
       " ('MIND YOUR BUSINESS', 30),\n",
       " ('BEFORE, DURING & AFTER', 30),\n",
       " ('CIVIL WAR GENERALS', 30),\n",
       " ('DECORATIVE ARTS', 30),\n",
       " ('BROADWAY DEBUTS', 30),\n",
       " ('RELIGIOUS MATTERS', 30),\n",
       " ('SITCOMS', 30),\n",
       " (\"LET'S GET BIBLICAL\", 30),\n",
       " ('MEDICAL ABBREV.', 30),\n",
       " ('ISLAND HOPPING', 30),\n",
       " ('DEAR JOHN', 30),\n",
       " ('SOUTH OF THE EQUATOR', 30),\n",
       " ('PRESIDENTS & FIRST LADIES', 30),\n",
       " ('STATES BY COUNTIES', 30),\n",
       " ('THE SPORTING LIFE', 30),\n",
       " ('IN OTHER WORDS...', 30),\n",
       " ('KINGS & QUEENS', 30),\n",
       " ('THE SOPRANOS', 30),\n",
       " ('SWEETS', 30),\n",
       " ('ASIAN CAPITALS', 29),\n",
       " ('BUSINESS', 29),\n",
       " ('1957', 29),\n",
       " ('THE CALENDAR', 29),\n",
       " ('THE OLYMPIC GAMES', 29),\n",
       " ('BIBLICAL RHYME TIME', 29),\n",
       " ('ODE TO ENGLAND', 29),\n",
       " ('THE 1970s', 29),\n",
       " ('LITERARY TRANSLATIONS', 29),\n",
       " ('SEWING', 29),\n",
       " ('CHURCHES & CATHEDRALS', 29),\n",
       " ('JEWELRY', 28),\n",
       " ('NATIONAL PARKS OF THE WORLD', 28),\n",
       " ('LITERARY FIRST LINES', 28),\n",
       " ('DRUGS', 28),\n",
       " ('TOUGH TV TRIVIA', 28),\n",
       " ('THE INTERNET', 28),\n",
       " ('CARS', 28),\n",
       " ('NOT TO BE CONFUSED', 28),\n",
       " ('MODERN HISTORY', 28),\n",
       " ('WORLD LIT', 28),\n",
       " ('GEOGRAPHIC TERMS', 28),\n",
       " ('WORLD AUTHORS', 27),\n",
       " ('U.S. RIVERS', 27),\n",
       " ('PATRON SAINTS', 27),\n",
       " ('THE NFL', 27),\n",
       " ('AMERICAN ARTISTS', 27),\n",
       " ('POLITICAL TERMS', 27),\n",
       " (\"WHAT'S MY LINE?\", 27),\n",
       " ('TREATIES', 27),\n",
       " ('SECRETARIES OF STATE', 27),\n",
       " ('FILE UNDER \"H\"', 27),\n",
       " ('THE CARIBBEAN', 27),\n",
       " ('AMERICAN POETRY', 27),\n",
       " ('AUTOBIOGRAPHIES', 27),\n",
       " ('THE 1920s', 27),\n",
       " ('FILM DIRECTORS', 27),\n",
       " ('CLASSIC CINEMA', 27),\n",
       " ('THE FUNNIES', 26),\n",
       " ('TRAVEL', 26),\n",
       " ('CLOTHING', 26),\n",
       " ('BREAKFAST CEREALS', 26),\n",
       " ('THE 1950s', 26),\n",
       " ('19th CENTURY LIT', 26),\n",
       " ('THE EARTH', 26),\n",
       " ('20th CENTURY AUTHORS', 26),\n",
       " ('MOVIE SEQUELS', 26),\n",
       " ('ENTERTAINMENT AWARDS', 26),\n",
       " ('TEXTILES', 26),\n",
       " ('AUTHORS ON AUTHORS', 26),\n",
       " ('CLASSIC SITCOMS', 26),\n",
       " ('JEOPARDY! PLACE', 26),\n",
       " ('NOVEL VOCABULARY', 26),\n",
       " ('8-LETTER WORDS', 26),\n",
       " ('THE 16th CENTURY', 26),\n",
       " ('SPACE', 26),\n",
       " ('GETTING POSSESSIVE', 25),\n",
       " ('ALASKA', 25),\n",
       " ('THE \"I\"s HAVE IT', 25),\n",
       " ('NATIONAL MONUMENTS', 25),\n",
       " ('THE 1990s', 25),\n",
       " ('HOW DO YOU...', 25),\n",
       " ('WOMEN OF THE WORLD', 25),\n",
       " ('INTERIOR DESIGN', 25),\n",
       " ('SYNONYMS', 25),\n",
       " ('GREECE', 25),\n",
       " ('THE BIG APPLE', 25),\n",
       " ('CROSSWORD CLUES \"B\"', 25),\n",
       " ('NOVEL QUOTES', 25),\n",
       " ('DOUBLE LETTERS', 25),\n",
       " ('WHEN THEY WERE TEENS', 25),\n",
       " ('KIDDIE LIT', 25),\n",
       " ('BIOGRAPHY', 25),\n",
       " ('I KNOW THAT SONG', 25),\n",
       " ('BRITISH POETS & POETRY', 25),\n",
       " ('2-LETTER ABBREV.', 25),\n",
       " ('THE RENAISSANCE', 25),\n",
       " ('SPORTS SHORTS', 25),\n",
       " ('ASTROLOGY', 25),\n",
       " ('COUNTIES BY STATE', 25),\n",
       " ('18th CENTURY AMERICA', 25),\n",
       " ('THEIR FIRST NOVELS', 25),\n",
       " ('PRESIDENTIAL CAMPAIGNS', 25),\n",
       " ('ENDS IN \"EE\"', 25),\n",
       " ('OPERA CHARACTERS', 25),\n",
       " ('CONTEMPORARY AUTHORS', 25),\n",
       " ('ASTRONOMERS', 25),\n",
       " ('THE ARTS', 25),\n",
       " ('IN THE NAVY', 25),\n",
       " ('STAR TREK', 25),\n",
       " ('COLLEGE SPORTS', 25),\n",
       " ('\"D\" IN SCIENCE', 25),\n",
       " ('TV GUIDE SAYS', 25),\n",
       " ('MYTHOLOGY & ART', 25),\n",
       " ('SPORTS TERMS', 25),\n",
       " ('PRESIDENTIAL FIRSTS', 25),\n",
       " ('GREAT BRITS', 25),\n",
       " ('CHEESY COUNTRIES', 25),\n",
       " ('SONG STANDARDS', 25),\n",
       " ('TRICKY QUESTIONS', 25),\n",
       " ('U.S. MUSEUMS', 25),\n",
       " ('LITERARY RELATIVES', 25),\n",
       " ('WASHINGTON STATE', 25),\n",
       " ('CITY SEALS', 25),\n",
       " ('THEY USED TO BE IN CHARGE', 25),\n",
       " (\"LET'S EAT\", 25),\n",
       " ('NETWORKING', 25),\n",
       " ('SLANG', 25),\n",
       " ('THE CRUSADES', 25),\n",
       " ('COMPLETES THE PLAY TITLE', 25),\n",
       " ('LETTERS & NUMBERS', 25),\n",
       " ('TV OR NOT TV', 25),\n",
       " ('STATE CAPITAL NICKNAMES', 25),\n",
       " ('NOVELS & NOVELISTS', 25),\n",
       " (\"CELEBRITIES' FAVORITE BOOKS\", 25),\n",
       " ('THE \"A\" LIST', 25),\n",
       " ('EASTERN EUROPE', 25),\n",
       " ('ADVERBS', 25),\n",
       " ('LIBROS EN ESPAÑOL', 25),\n",
       " ('THE MOST POPULOUS NATION', 25),\n",
       " ('SANDWICHES', 25),\n",
       " ('ALPHABET SOUP', 25),\n",
       " ('MIND YOUR \"P\"s & \"Q\"s', 25),\n",
       " ('DISCOVERIES', 25),\n",
       " ('\"Z\" END', 25),\n",
       " ('OLD MOVIES', 25),\n",
       " ('MEN OF SCIENCE', 25),\n",
       " ('POP QUIZ', 25),\n",
       " ('NEXT IN LINE, PLEASE', 25),\n",
       " ('BEATLES LYRICS', 25),\n",
       " ('GEMS & JEWELS', 25),\n",
       " ('WOMEN IN GOVERNMENT', 25),\n",
       " ('BRIT SPEAK', 25),\n",
       " ('JEOPORTMANTEAU!', 25),\n",
       " ('FILMOGRAPHIES', 25),\n",
       " ('17th CENTURY AMERICA', 25),\n",
       " ('BORN FIRST', 25),\n",
       " ('ENDS WITH 2 VOWELS', 25),\n",
       " ('MOVIE ROLES', 25),\n",
       " ('19TH CENTURY AMERICA', 25),\n",
       " ('MOVIE CLASSICS', 25),\n",
       " ('FORESTS', 25),\n",
       " ('OOPS!', 25),\n",
       " ('FRENCH CUISINE', 25),\n",
       " ('TOUGH GEOGRAPHY', 25),\n",
       " ('A CHRISTMAS SONGBOOK', 25),\n",
       " ('THE SIMPSONS', 25),\n",
       " ('\"A\" IN GEOGRAPHY', 25),\n",
       " ('THEME PARK FUN', 25),\n",
       " ('STARTS & ENDS WITH \"A\"', 25),\n",
       " ('ROCK & ROLL', 25),\n",
       " ('\"C\" FOOD', 25),\n",
       " (\"WHO'S YOUR DADDY?\", 25),\n",
       " ('YE GODS!', 25),\n",
       " ('BITS & PIECES', 25),\n",
       " ('BIG WORDS', 25),\n",
       " ('THE BLUES', 25),\n",
       " ('WHEEL OF JEOPARDY!', 25),\n",
       " ('MISHEARD LYRICS', 25),\n",
       " ('APPROXIMATE WEIGHTS & MEASURES', 25),\n",
       " ('CLICHES', 25),\n",
       " ('GILBERT & SULLIVAN', 25),\n",
       " ('\"C\" IN SCIENCE', 25),\n",
       " ('1945', 25),\n",
       " ('ANIMAL WORDS & PHRASES', 25),\n",
       " ('SPORTS TALK', 25),\n",
       " ('STATE THE STATE', 25),\n",
       " ('AUTOBIOGRAPHERS', 25),\n",
       " ('MATH CLASS', 25),\n",
       " (\"ART FOR ART'S SAKE\", 25),\n",
       " ('GIMME AN \"H\"', 25),\n",
       " ('WRITERS ON FILM', 25),\n",
       " (\"LET'S CELEBRATE!\", 25),\n",
       " ('LITERARY CROSSWORD CLUES \"G\"', 25),\n",
       " ('ALPHABETIC HOMOPHONES', 25),\n",
       " (\"'50s TV\", 25),\n",
       " ('IN THE MIDDLE OF THE STATE', 25),\n",
       " ('MEASURE FOR MEASURE', 25),\n",
       " ('THE U.N.', 25),\n",
       " ('HAWAII', 25),\n",
       " (\"LET'S GO SHOPPING\", 25),\n",
       " ('LITERARY TITLE PAIRS', 25),\n",
       " ('NEXT LINE, PLEASE', 25),\n",
       " ('GIMME AN \"F\"', 25),\n",
       " ('LETTERS', 25),\n",
       " ('COUNTRY TIME', 25),\n",
       " (\"BIBLICAL NAME'S THE SAME\", 25),\n",
       " ('SIMPLE SCIENCE', 24),\n",
       " ('THE WESTERN HEMISPHERE', 24),\n",
       " ('FRENCH ART & ARTISTS', 24),\n",
       " ('PLANT LIFE', 24),\n",
       " ('CELEBRITY MARRIAGES', 24),\n",
       " ('CONTAINERS', 24),\n",
       " ('STATE TREES', 24),\n",
       " ('INTERNATIONAL ROAD VEHICLE STICKERS', 24),\n",
       " ('POPE-POURRI', 24),\n",
       " ('SPELL THE LAST NAME', 24),\n",
       " ('SEAS', 24),\n",
       " ('STUFF', 24),\n",
       " ('THE THEATRE', 24),\n",
       " ('FIRST AID', 24),\n",
       " ('POLITICAL QUOTES', 24),\n",
       " ('DEATH SENTENCES', 24),\n",
       " ('AROUND THE U.S.A.', 24),\n",
       " ('TAKE THE KIDS!', 24),\n",
       " ('ON THE RADIO', 23),\n",
       " ('CONDUCTORS', 23),\n",
       " ('BASEBALL HISTORY', 23),\n",
       " ('GAME SHOWS', 23),\n",
       " ('SIMILES', 23),\n",
       " ('NAMES IN THE NEWS', 23),\n",
       " ('WORD PLAY', 23),\n",
       " ('KILLER MUSICALS', 23),\n",
       " (\"SHAKESPEARE'S WOMEN\", 23),\n",
       " ('HISTORIC DATES', 23),\n",
       " ('PARKS', 23),\n",
       " ('MONARCHS', 23),\n",
       " ('THE DREADED SPELLING CATEGORY', 23),\n",
       " ('BEST SELLERS', 23),\n",
       " ('MEDICAL HISTORY', 23),\n",
       " ('MOVIE CHARACTERS', 23),\n",
       " ('THE BIRDS & THE BEES', 23),\n",
       " ('SCIENCE STUFF', 23),\n",
       " ('NUCLEAR PHYSICS', 23),\n",
       " ('CHARACTERS IN MUSICALS', 23),\n",
       " ('HOSPITALS', 23),\n",
       " ('ANTIQUES', 22),\n",
       " ('LEADING MEN', 22),\n",
       " ('WORLD FLAGS', 22),\n",
       " ('PUBLISHING', 22),\n",
       " ('SCULPTORS', 22),\n",
       " ('SONNETS', 22),\n",
       " ('WRITERS', 22),\n",
       " ('PRESIDENTIAL RELATIVES', 22),\n",
       " ('THE 1880s', 22),\n",
       " ('AKA', 22),\n",
       " ('DEMOCRATS', 22),\n",
       " ('SPORTS VENUES', 22),\n",
       " ('EARLY MAN', 22),\n",
       " ('THE COLD WAR', 22),\n",
       " ('ALLITERATION ALL AROUND', 22),\n",
       " ('COMMUNICATIONS', 22),\n",
       " ('SEA CREATURES', 22),\n",
       " ('LATIN AMERICAN HISTORY', 22),\n",
       " (\"FILMS OF THE '50s\", 22),\n",
       " ('DIRECTORS', 22),\n",
       " ('FOREIGN FILMS', 22),\n",
       " ('JULY', 21),\n",
       " ('SWEET TREATS', 21),\n",
       " ('HOTELS', 21),\n",
       " ('MAJOR LEAGUE BASEBALL', 21),\n",
       " ('PRO BASKETBALL', 21),\n",
       " ('CRIME TIME', 21),\n",
       " ('NATIONAL HISTORIC SITES', 21),\n",
       " ('ANIMATED MOVIES', 21),\n",
       " ('CANADIAN PROVINCES', 21),\n",
       " ('SILENT MOVIES', 21),\n",
       " ('PRIME MINISTERS', 21),\n",
       " ('NUMERICAL PHRASES', 21),\n",
       " ('19th CENTURY AMERICANS', 21),\n",
       " ('CABLE TV', 21),\n",
       " ('POLITICAL LINGO', 21),\n",
       " ('AMERICAN REVOLUTION', 21),\n",
       " ('ASSASSINATIONS', 21),\n",
       " ('CHARACTERS IN PLAYS', 21),\n",
       " ('TEXAS', 21),\n",
       " ('THE 17th CENTURY', 21),\n",
       " ('ENGLAND', 21),\n",
       " ('POPULATIONS', 21),\n",
       " ('BREAD', 21),\n",
       " ('NOVEL CHARACTERS', 21),\n",
       " ('AMERICAN GOVERNMENT', 21),\n",
       " ('SUPREME COURT JUSTICES', 21),\n",
       " ('PRESIDENTIAL QUOTES', 21),\n",
       " ('EPITAPHS', 21),\n",
       " ('\"X\", \"Y\", \"Z\"', 20),\n",
       " ('MEDICAL MILESTONES', 20),\n",
       " ('STAMPS', 20),\n",
       " ('SEEING \"RED\"', 20),\n",
       " ('NAME THE AUTOMAKER', 20),\n",
       " ('CARTOONS', 20),\n",
       " ('MORTAL MATTERS', 20),\n",
       " ('WOMEN: WRITE ON!', 20),\n",
       " (\"WHO'S THE MRS.?\", 20),\n",
       " ('\"BOO\"!', 20),\n",
       " ('TV CASTS', 20),\n",
       " ('GRAVE MATTERS', 20),\n",
       " ('ARTISTS & THEIR WORKS', 20),\n",
       " ('A LITERARY TOUR', 20),\n",
       " ('ANAGRAMMED BIRDS', 20),\n",
       " ('THE ONION', 20),\n",
       " ('WHAT A CHARACTER!', 20),\n",
       " ('WHAT A GEM!', 20),\n",
       " ('1987', 20),\n",
       " ('THE GIANTS', 20),\n",
       " (\"YOU'RE AN ANIMAL!\", 20),\n",
       " ('NO. 1 ALBUMS', 20),\n",
       " ('1988', 20),\n",
       " ('WORLD COINS', 20),\n",
       " ('CLASSIC ADS & JINGLES', 20),\n",
       " ('THE SUMMER OLYMPICS', 20),\n",
       " ('TOUGH STUFF', 20),\n",
       " ...]"
      ]
     },
     "execution_count": 52,
     "metadata": {},
     "output_type": "execute_result"
    }
   ],
   "source": [
    "sorted_category_count = sorted(cats.items(), key=lambda kv: -kv[1])\n",
    "sorted_category_count"
   ]
  },
  {
   "cell_type": "code",
   "execution_count": 59,
   "metadata": {},
   "outputs": [
    {
     "data": {
      "text/plain": [
       "{'19th CENTURY AMERICA': 151,\n",
       " '3-LETTER WORDS': 240,\n",
       " '4-LETTER WORDS': 197,\n",
       " '5-LETTER WORDS': 151,\n",
       " 'ABBREV.': 145,\n",
       " 'AMERICAN HISTORY': 418,\n",
       " 'AMERICAN LITERATURE': 234,\n",
       " 'AMERICANA': 244,\n",
       " 'ANIMALS': 324,\n",
       " 'ANNUAL EVENTS': 236,\n",
       " 'ARCHITECTURE': 180,\n",
       " 'AROUND THE WORLD': 207,\n",
       " 'ART': 258,\n",
       " 'ART & ARTISTS': 270,\n",
       " 'ASTRONOMY': 199,\n",
       " 'AUTHORS': 232,\n",
       " 'AWARDS': 158,\n",
       " 'BALLET': 282,\n",
       " 'BEFORE & AFTER': 547,\n",
       " 'BIOLOGY': 194,\n",
       " 'BODIES OF WATER': 327,\n",
       " 'BOOKS & AUTHORS': 255,\n",
       " 'BUSINESS & INDUSTRY': 311,\n",
       " 'CHEMISTRY': 151,\n",
       " 'CLASSICAL MUSIC': 233,\n",
       " 'COLLEGES & UNIVERSITIES': 351,\n",
       " 'COMMON BONDS': 243,\n",
       " 'COMPOSERS': 203,\n",
       " 'EUROPEAN HISTORY': 184,\n",
       " 'EXPLORERS': 182,\n",
       " 'FAMOUS AMERICANS': 159,\n",
       " 'FASHION': 154,\n",
       " 'FICTIONAL CHARACTERS': 280,\n",
       " 'FIRST LADIES': 175,\n",
       " 'FOOD': 246,\n",
       " 'FOOD & DRINK': 198,\n",
       " 'FOREIGN WORDS & PHRASES': 156,\n",
       " 'FRUITS & VEGETABLES': 170,\n",
       " 'GENERAL SCIENCE': 144,\n",
       " 'GEOGRAPHY': 242,\n",
       " 'GOVERNMENT & POLITICS': 146,\n",
       " 'HISTORIC NAMES': 194,\n",
       " 'HISTORY': 349,\n",
       " 'HODGEPODGE': 222,\n",
       " 'HOLIDAYS & OBSERVANCES': 242,\n",
       " 'HOMOPHONES': 184,\n",
       " 'IN THE DICTIONARY': 164,\n",
       " 'ISLANDS': 301,\n",
       " 'LANGUAGES': 284,\n",
       " 'LITERATURE': 496,\n",
       " 'MAGAZINES': 166,\n",
       " 'MEDICINE': 183,\n",
       " 'MOUNTAINS': 189,\n",
       " 'MUSEUMS': 245,\n",
       " 'MUSIC': 205,\n",
       " 'MUSICAL INSTRUMENTS': 212,\n",
       " 'MYTHOLOGY': 221,\n",
       " 'NATURE': 157,\n",
       " 'NONFICTION': 220,\n",
       " 'NOTABLE NAMES': 144,\n",
       " 'OPERA': 294,\n",
       " 'ORGANIZATIONS': 182,\n",
       " 'PEOPLE': 279,\n",
       " 'PHYSICS': 146,\n",
       " 'POETS & POETRY': 230,\n",
       " 'POP MUSIC': 232,\n",
       " 'POTENT POTABLES': 188,\n",
       " 'POTPOURRI': 401,\n",
       " 'QUOTATIONS': 226,\n",
       " 'RELIGION': 297,\n",
       " 'RHYME TIME': 279,\n",
       " 'SCIENCE': 519,\n",
       " 'SCIENCE & NATURE': 244,\n",
       " 'SCIENTISTS': 182,\n",
       " 'SHAKESPEARE': 294,\n",
       " 'SPORTS': 342,\n",
       " 'STATE CAPITALS': 314,\n",
       " 'STUPID ANSWERS': 270,\n",
       " 'TELEVISION': 281,\n",
       " 'THE BIBLE': 267,\n",
       " 'THE BODY HUMAN': 166,\n",
       " 'THE CIVIL WAR': 206,\n",
       " 'THE MOVIES': 218,\n",
       " 'THEATRE': 153,\n",
       " 'TRANSPORTATION': 279,\n",
       " 'TRAVEL & TOURISM': 174,\n",
       " 'U.S. CITIES': 339,\n",
       " 'U.S. GEOGRAPHY': 299,\n",
       " 'U.S. HISTORY': 250,\n",
       " 'U.S. PRESIDENTS': 204,\n",
       " 'U.S. STATES': 145,\n",
       " 'VOCABULARY': 156,\n",
       " 'WEIGHTS & MEASURES': 177,\n",
       " 'WORD ORIGINS': 371,\n",
       " 'WORLD CAPITALS': 300,\n",
       " 'WORLD CITIES': 214,\n",
       " 'WORLD GEOGRAPHY': 338,\n",
       " 'WORLD HISTORY': 377,\n",
       " 'WORLD LEADERS': 146,\n",
       " 'ZOOLOGY': 158}"
      ]
     },
     "execution_count": 59,
     "metadata": {},
     "output_type": "execute_result"
    }
   ],
   "source": [
    "top100cats =dict(sorted_category_count[:100])\n",
    "top100cats"
   ]
  },
  {
   "cell_type": "code",
   "execution_count": 66,
   "metadata": {},
   "outputs": [
    {
     "data": {
      "text/plain": [
       "23892"
      ]
     },
     "execution_count": 66,
     "metadata": {},
     "output_type": "execute_result"
    }
   ],
   "source": [
    "text = []\n",
    "labels = []\n",
    "count = 0\n",
    "for i, r in raw_df.iterrows():\n",
    "    if r[3] in top100cats:\n",
    "        text.append(r[5])\n",
    "        labels.append(r[3])\n",
    "        count += 1\n",
    "\n",
    "col_names = ['labels','text']\n",
    "s_df = pd.DataFrame({'text':text, 'labels':labels}, columns=col_names)\n",
    "len(s_df)"
   ]
  },
  {
   "cell_type": "markdown",
   "metadata": {},
   "source": [
    "Now we should have a set of record that are for the top 100 categories. we're going to save this to csv \n",
    "so we don't have to do this again"
   ]
  },
  {
   "cell_type": "code",
   "execution_count": 67,
   "metadata": {},
   "outputs": [],
   "source": [
    "s_df.to_csv('data/cleaned/top100.csv', header=False, index=False)"
   ]
  },
  {
   "cell_type": "code",
   "execution_count": 68,
   "metadata": {},
   "outputs": [],
   "source": [
    "s_df = pd.read_csv('data/cleaned/top100.csv')"
   ]
  },
  {
   "cell_type": "code",
   "execution_count": 69,
   "metadata": {},
   "outputs": [
    {
     "data": {
      "text/html": [
       "<div>\n",
       "<style scoped>\n",
       "    .dataframe tbody tr th:only-of-type {\n",
       "        vertical-align: middle;\n",
       "    }\n",
       "\n",
       "    .dataframe tbody tr th {\n",
       "        vertical-align: top;\n",
       "    }\n",
       "\n",
       "    .dataframe thead th {\n",
       "        text-align: right;\n",
       "    }\n",
       "</style>\n",
       "<table border=\"1\" class=\"dataframe\">\n",
       "  <thead>\n",
       "    <tr style=\"text-align: right;\">\n",
       "      <th></th>\n",
       "      <th>HISTORY</th>\n",
       "      <th>For the last 8 years of his life, Galileo was under house arrest for espousing this man's theory</th>\n",
       "    </tr>\n",
       "  </thead>\n",
       "  <tbody>\n",
       "    <tr>\n",
       "      <th>0</th>\n",
       "      <td>3-LETTER WORDS</td>\n",
       "      <td>In the title of an Aesop fable, this insect sh...</td>\n",
       "    </tr>\n",
       "    <tr>\n",
       "      <th>1</th>\n",
       "      <td>HISTORY</td>\n",
       "      <td>Built in 312 B.C. to link Rome &amp; the South of ...</td>\n",
       "    </tr>\n",
       "    <tr>\n",
       "      <th>2</th>\n",
       "      <td>3-LETTER WORDS</td>\n",
       "      <td>Cows regurgitate this from the first stomach t...</td>\n",
       "    </tr>\n",
       "    <tr>\n",
       "      <th>3</th>\n",
       "      <td>HISTORY</td>\n",
       "      <td>In 1000 Rajaraja I of the Cholas battled to ta...</td>\n",
       "    </tr>\n",
       "    <tr>\n",
       "      <th>4</th>\n",
       "      <td>3-LETTER WORDS</td>\n",
       "      <td>A small demon, or a mischievous child (who mig...</td>\n",
       "    </tr>\n",
       "    <tr>\n",
       "      <th>5</th>\n",
       "      <td>HISTORY</td>\n",
       "      <td>Karl led the first of these Marxist organizati...</td>\n",
       "    </tr>\n",
       "    <tr>\n",
       "      <th>6</th>\n",
       "      <td>3-LETTER WORDS</td>\n",
       "      <td>In geologic time one of these, shorter than an...</td>\n",
       "    </tr>\n",
       "    <tr>\n",
       "      <th>7</th>\n",
       "      <td>HISTORY</td>\n",
       "      <td>This Asian political party was founded in 1885...</td>\n",
       "    </tr>\n",
       "    <tr>\n",
       "      <th>8</th>\n",
       "      <td>3-LETTER WORDS</td>\n",
       "      <td>A single layer of paper, or to perform one's c...</td>\n",
       "    </tr>\n",
       "    <tr>\n",
       "      <th>9</th>\n",
       "      <td>IN THE DICTIONARY</td>\n",
       "      <td>It's the 4-letter name of the pleated skirt wo...</td>\n",
       "    </tr>\n",
       "  </tbody>\n",
       "</table>\n",
       "</div>"
      ],
      "text/plain": [
       "             HISTORY  \\\n",
       "0     3-LETTER WORDS   \n",
       "1            HISTORY   \n",
       "2     3-LETTER WORDS   \n",
       "3            HISTORY   \n",
       "4     3-LETTER WORDS   \n",
       "5            HISTORY   \n",
       "6     3-LETTER WORDS   \n",
       "7            HISTORY   \n",
       "8     3-LETTER WORDS   \n",
       "9  IN THE DICTIONARY   \n",
       "\n",
       "  For the last 8 years of his life, Galileo was under house arrest for espousing this man's theory  \n",
       "0  In the title of an Aesop fable, this insect sh...                                                \n",
       "1  Built in 312 B.C. to link Rome & the South of ...                                                \n",
       "2  Cows regurgitate this from the first stomach t...                                                \n",
       "3  In 1000 Rajaraja I of the Cholas battled to ta...                                                \n",
       "4  A small demon, or a mischievous child (who mig...                                                \n",
       "5  Karl led the first of these Marxist organizati...                                                \n",
       "6  In geologic time one of these, shorter than an...                                                \n",
       "7  This Asian political party was founded in 1885...                                                \n",
       "8  A single layer of paper, or to perform one's c...                                                \n",
       "9  It's the 4-letter name of the pleated skirt wo...                                                "
      ]
     },
     "execution_count": 69,
     "metadata": {},
     "output_type": "execute_result"
    }
   ],
   "source": [
    "s_df.head(10)"
   ]
  },
  {
   "cell_type": "code",
   "execution_count": 79,
   "metadata": {},
   "outputs": [],
   "source": [
    "all_txt, all_label = get_text_and_labels(s_df)"
   ]
  },
  {
   "cell_type": "code",
   "execution_count": 81,
   "metadata": {},
   "outputs": [
    {
     "name": "stdout",
     "output_type": "stream",
     "text": [
      "23891\n"
     ]
    }
   ],
   "source": [
    "np.random.seed(42)\n",
    "rnd_idx = np.random.permutation(len(all_txt));\n",
    "print(len(rnd_idx))\n",
    "\n",
    "all_txt = all_txt[rnd_idx]\n",
    "all_label = all_label[rnd_idx]"
   ]
  },
  {
   "cell_type": "code",
   "execution_count": 82,
   "metadata": {},
   "outputs": [
    {
     "data": {
      "text/plain": [
       "(17918, 5973)"
      ]
     },
     "execution_count": 82,
     "metadata": {},
     "output_type": "execute_result"
    }
   ],
   "source": [
    "split = round(len(all_txt)*0.75)\n",
    "trn_texts = all_txt[0: split]\n",
    "trn_labels = all_label[0: split]\n",
    "\n",
    "val_texts = all_txt[split:]\n",
    "val_labels = all_label[split:]\n",
    "\n",
    "len(trn_texts),len(val_texts)"
   ]
  },
  {
   "cell_type": "code",
   "execution_count": 83,
   "metadata": {},
   "outputs": [
    {
     "name": "stdout",
     "output_type": "stream",
     "text": [
      "   labels                                               text\n",
      "0       5  This grandson of the ninth president commanded...\n",
      "1      99  The name of this ceremonial form of Japanese s...\n",
      "2      84  This desert in southern Africa has long been h...\n",
      "3       6  It's the solid part of the earth as distinguis...\n",
      "4      69  Arginine, one of these acids, is made in the b...\n",
      "5      23  It can be a colorful vegetable dish, an herb l...\n",
      "6      23  Ash Wednesday is a movable feast falling this ...\n",
      "7      71  Commercial growers usually brush most of the f...\n",
      "8      30  Sherwood Anderson helped this Mississippi auth...\n",
      "9      45  The cheery first \"Masterpiece Theatre\" season ...\n"
     ]
    }
   ],
   "source": [
    "col_names = ['labels','text']\n",
    "trn_df = pd.DataFrame({'text':trn_texts, 'labels':trn_labels}, columns=col_names)\n",
    "print(trn_df.head(10))\n",
    "trn_df.to_csv('data/clasificaiton/100train.csv', header=False, index=False)\n",
    "\n",
    "\n",
    "val_df = pd.DataFrame({'text':val_texts, 'labels':val_labels}, columns=col_names)\n",
    "val_df.to_csv('data/clasificaiton/100val.csv', header=False, index=False)"
   ]
  },
  {
   "cell_type": "code",
   "execution_count": 85,
   "metadata": {},
   "outputs": [],
   "source": [
    "chunksize=24000"
   ]
  },
  {
   "cell_type": "code",
   "execution_count": 106,
   "metadata": {},
   "outputs": [],
   "source": [
    "df_trn = pd.read_csv(CLAS_PATH/'100train.csv', header=None, chunksize=chunksize)\n",
    "df_val = pd.read_csv(CLAS_PATH/'100val.csv', header=None, chunksize=chunksize)"
   ]
  },
  {
   "cell_type": "code",
   "execution_count": 108,
   "metadata": {},
   "outputs": [
    {
     "data": {
      "text/plain": [
       "<pandas.io.parsers.TextFileReader at 0x7f24cecf8e10>"
      ]
     },
     "execution_count": 108,
     "metadata": {},
     "output_type": "execute_result"
    }
   ],
   "source": []
  },
  {
   "cell_type": "code",
   "execution_count": 109,
   "metadata": {},
   "outputs": [
    {
     "name": "stdout",
     "output_type": "stream",
     "text": [
      "0\n",
      "<class 'pandas.core.frame.DataFrame'>\n",
      "0\n",
      "<class 'pandas.core.frame.DataFrame'>\n"
     ]
    }
   ],
   "source": [
    "tok_trn, trn_labels = get_all(df_trn, 1)\n",
    "tok_val, val_labels = get_all(df_val, 1)"
   ]
  },
  {
   "cell_type": "code",
   "execution_count": 43,
   "metadata": {},
   "outputs": [],
   "source": [
    "#tok_trn"
   ]
  },
  {
   "cell_type": "code",
   "execution_count": 111,
   "metadata": {},
   "outputs": [],
   "source": [
    "(CLAS_PATH/'tmp').mkdir(exist_ok=True)\n",
    "\n",
    "np.save(CLAS_PATH/'tmp'/'tok_trn.npy', tok_trn)\n",
    "np.save(CLAS_PATH/'tmp'/'tok_val.npy', tok_val)\n",
    "\n",
    "np.save(CLAS_PATH/'tmp'/'trn_labels.npy', trn_labels)\n",
    "np.save(CLAS_PATH/'tmp'/'val_labels.npy', val_labels)"
   ]
  },
  {
   "cell_type": "code",
   "execution_count": 44,
   "metadata": {},
   "outputs": [],
   "source": [
    "tok_trn = np.load(CLAS_PATH/'tmp'/'tok_trn.npy')\n",
    "tok_val = np.load(CLAS_PATH/'tmp'/'tok_val.npy')"
   ]
  },
  {
   "cell_type": "code",
   "execution_count": 45,
   "metadata": {},
   "outputs": [
    {
     "data": {
      "text/plain": [
       "13289"
      ]
     },
     "execution_count": 45,
     "metadata": {},
     "output_type": "execute_result"
    }
   ],
   "source": [
    "itos = pickle.load((LM_PATH/'tmp'/'itos.pkl').open('rb'))\n",
    "stoi = collections.defaultdict(lambda:0, {v:k for k,v in enumerate(itos)})\n",
    "len(itos)"
   ]
  },
  {
   "cell_type": "code",
   "execution_count": 46,
   "metadata": {},
   "outputs": [],
   "source": [
    "trn_clas = np.array([[stoi[o] for o in p] for p in tok_trn])\n",
    "val_clas = np.array([[stoi[o] for o in p] for p in tok_val])"
   ]
  },
  {
   "cell_type": "code",
   "execution_count": 115,
   "metadata": {},
   "outputs": [],
   "source": [
    "np.save(CLAS_PATH/'tmp'/'100trn_ids.npy', trn_clas)\n",
    "np.save(CLAS_PATH/'tmp'/'100val_ids.npy', val_clas)"
   ]
  },
  {
   "cell_type": "markdown",
   "metadata": {},
   "source": [
    "## Classifier"
   ]
  },
  {
   "cell_type": "markdown",
   "metadata": {},
   "source": [
    "Now we can create our final model, a classifier which is really a custom linear head over our trained IMDB backbone. The steps to create the classifier model are similar to the ones for the LM"
   ]
  },
  {
   "cell_type": "code",
   "execution_count": 14,
   "metadata": {},
   "outputs": [],
   "source": [
    "trn_clas = np.load(CLAS_PATH/'tmp'/'100trn_ids.npy')\n",
    "val_clas = np.load(CLAS_PATH/'tmp'/'100val_ids.npy')"
   ]
  },
  {
   "cell_type": "code",
   "execution_count": 15,
   "metadata": {},
   "outputs": [],
   "source": [
    "trn_labels = np.squeeze(np.load(CLAS_PATH/'tmp'/'trn_labels.npy'))\n",
    "val_labels = np.squeeze(np.load(CLAS_PATH/'tmp'/'val_labels.npy'))"
   ]
  },
  {
   "cell_type": "code",
   "execution_count": 16,
   "metadata": {},
   "outputs": [],
   "source": [
    "bptt,em_sz,nh,nl = 70,400,1150,3\n",
    "vs = len(itos)\n",
    "opt_fn = partial(optim.Adam, betas=(0.8, 0.99))\n",
    "bs = 48"
   ]
  },
  {
   "cell_type": "code",
   "execution_count": 17,
   "metadata": {},
   "outputs": [
    {
     "data": {
      "text/plain": [
       "array([ 5, 99, 84, ..., 27, 36, 65])"
      ]
     },
     "execution_count": 17,
     "metadata": {},
     "output_type": "execute_result"
    }
   ],
   "source": [
    "trn_labels"
   ]
  },
  {
   "cell_type": "code",
   "execution_count": 18,
   "metadata": {},
   "outputs": [],
   "source": [
    "min_lbl = trn_labels.min()\n",
    "trn_labels -= min_lbl\n",
    "val_labels -= min_lbl\n",
    "c=int(trn_labels.max())+1"
   ]
  },
  {
   "cell_type": "code",
   "execution_count": null,
   "metadata": {},
   "outputs": [],
   "source": []
  },
  {
   "cell_type": "code",
   "execution_count": 19,
   "metadata": {},
   "outputs": [],
   "source": [
    "trn_ds = TextDataset(trn_clas, trn_labels)\n",
    "val_ds = TextDataset(val_clas, val_labels)\n",
    "trn_samp = SortishSampler(trn_clas, key=lambda x: len(trn_clas[x]), bs=bs//2)\n",
    "val_samp = SortSampler(val_clas, key=lambda x: len(val_clas[x]))\n",
    "trn_dl = DataLoader(trn_ds, bs//2, transpose=True, num_workers=1, pad_idx=1, sampler=trn_samp)\n",
    "val_dl = DataLoader(val_ds, bs, transpose=True, num_workers=1, pad_idx=1, sampler=val_samp)\n",
    "md = ModelData(PATH, trn_dl, val_dl)"
   ]
  },
  {
   "cell_type": "code",
   "execution_count": 20,
   "metadata": {},
   "outputs": [],
   "source": [
    "dps = np.array([0.4,0.5,0.05,0.3,0.4])"
   ]
  },
  {
   "cell_type": "code",
   "execution_count": 21,
   "metadata": {},
   "outputs": [],
   "source": [
    "m = get_rnn_classifer(bptt, 20*70, c, vs, emb_sz=em_sz, n_hid=nh, n_layers=nl, pad_token=1,\n",
    "          layers=[em_sz*3, 50, c], drops=[dps[4], 0.1],\n",
    "          dropouti=dps[0], wdrop=dps[1], dropoute=dps[2], dropouth=dps[3])"
   ]
  },
  {
   "cell_type": "code",
   "execution_count": 22,
   "metadata": {},
   "outputs": [],
   "source": [
    "opt_fn = partial(optim.Adam, betas=(0.7, 0.99))"
   ]
  },
  {
   "cell_type": "code",
   "execution_count": 23,
   "metadata": {},
   "outputs": [],
   "source": [
    "learn = RNN_Learner(md, TextModel(to_gpu(m)), opt_fn=opt_fn)\n",
    "learn.reg_fn = partial(seq2seq_reg, alpha=2, beta=1)\n",
    "learn.clip=.25\n",
    "learn.metrics = [accuracy]"
   ]
  },
  {
   "cell_type": "code",
   "execution_count": 154,
   "metadata": {},
   "outputs": [],
   "source": [
    "lr=3e-3\n",
    "lrm = 2.6\n",
    "lrs = np.array([lr/(lrm**4), lr/(lrm**3), lr/(lrm**2), lr/lrm, lr])"
   ]
  },
  {
   "cell_type": "code",
   "execution_count": 155,
   "metadata": {},
   "outputs": [],
   "source": [
    "lrs=np.array([1e-4,1e-4,1e-4,1e-3,1e-2])"
   ]
  },
  {
   "cell_type": "code",
   "execution_count": 156,
   "metadata": {},
   "outputs": [],
   "source": [
    "wd = 1e-7\n",
    "wd = 0\n",
    "learn.load_encoder('lm1_enc')"
   ]
  },
  {
   "cell_type": "code",
   "execution_count": 157,
   "metadata": {},
   "outputs": [],
   "source": [
    "learn.freeze_to(-1)"
   ]
  },
  {
   "cell_type": "code",
   "execution_count": 158,
   "metadata": {},
   "outputs": [
    {
     "data": {
      "application/vnd.jupyter.widget-view+json": {
       "model_id": "3d302b82b6334dceb128b78f61a0526a",
       "version_major": 2,
       "version_minor": 0
      },
      "text/html": [
       "<p>Failed to display Jupyter Widget of type <code>HBox</code>.</p>\n",
       "<p>\n",
       "  If you're reading this message in the Jupyter Notebook or JupyterLab Notebook, it may mean\n",
       "  that the widgets JavaScript is still loading. If this message persists, it\n",
       "  likely means that the widgets JavaScript library is either not installed or\n",
       "  not enabled. See the <a href=\"https://ipywidgets.readthedocs.io/en/stable/user_install.html\">Jupyter\n",
       "  Widgets Documentation</a> for setup instructions.\n",
       "</p>\n",
       "<p>\n",
       "  If you're reading this message in another frontend (for example, a static\n",
       "  rendering on GitHub or <a href=\"https://nbviewer.jupyter.org/\">NBViewer</a>),\n",
       "  it may mean that your frontend doesn't currently support widgets.\n",
       "</p>\n"
      ],
      "text/plain": [
       "HBox(children=(IntProgress(value=0, description='Epoch', max=1), HTML(value='')))"
      ]
     },
     "metadata": {},
     "output_type": "display_data"
    },
    {
     "name": "stdout",
     "output_type": "stream",
     "text": [
      " 27%|██▋       | 199/747 [00:04<00:12, 44.63it/s, loss=3.04]\n",
      " 28%|██▊       | 210/747 [00:04<00:11, 45.11it/s, loss=3.05]"
     ]
    },
    {
     "name": "stderr",
     "output_type": "stream",
     "text": [
      "Exception in thread Thread-73:\n",
      "Traceback (most recent call last):\n",
      "  File \"/home/paperspace/anaconda3/envs/fastai/lib/python3.6/threading.py\", line 916, in _bootstrap_inner\n",
      "    self.run()\n",
      "  File \"/home/paperspace/anaconda3/envs/fastai/lib/python3.6/site-packages/tqdm/_tqdm.py\", line 144, in run\n",
      "    for instance in self.tqdm_cls._instances:\n",
      "  File \"/home/paperspace/anaconda3/envs/fastai/lib/python3.6/_weakrefset.py\", line 60, in __iter__\n",
      "    for itemref in self.data:\n",
      "RuntimeError: Set changed size during iteration\n",
      "\n"
     ]
    },
    {
     "name": "stdout",
     "output_type": "stream",
     "text": [
      " 83%|████████▎ | 623/747 [00:13<00:02, 44.66it/s, loss=11.9]\n"
     ]
    },
    {
     "data": {
      "image/png": "[encoded data removed]",
      "text/plain": [
       "<matplotlib.figure.Figure at 0x7f24cf58e828>"
      ]
     },
     "metadata": {},
     "output_type": "display_data"
    }
   ],
   "source": [
    "learn.lr_find(lrs/1000)\n",
    "learn.sched.plot()"
   ]
  },
  {
   "cell_type": "code",
   "execution_count": 159,
   "metadata": {},
   "outputs": [
    {
     "data": {
      "application/vnd.jupyter.widget-view+json": {
       "model_id": "3d1ed8a3afcc4412839062ae98252846",
       "version_major": 2,
       "version_minor": 0
      },
      "text/html": [
       "<p>Failed to display Jupyter Widget of type <code>HBox</code>.</p>\n",
       "<p>\n",
       "  If you're reading this message in the Jupyter Notebook or JupyterLab Notebook, it may mean\n",
       "  that the widgets JavaScript is still loading. If this message persists, it\n",
       "  likely means that the widgets JavaScript library is either not installed or\n",
       "  not enabled. See the <a href=\"https://ipywidgets.readthedocs.io/en/stable/user_install.html\">Jupyter\n",
       "  Widgets Documentation</a> for setup instructions.\n",
       "</p>\n",
       "<p>\n",
       "  If you're reading this message in another frontend (for example, a static\n",
       "  rendering on GitHub or <a href=\"https://nbviewer.jupyter.org/\">NBViewer</a>),\n",
       "  it may mean that your frontend doesn't currently support widgets.\n",
       "</p>\n"
      ],
      "text/plain": [
       "HBox(children=(IntProgress(value=0, description='Epoch', max=2), HTML(value='')))"
      ]
     },
     "metadata": {},
     "output_type": "display_data"
    },
    {
     "name": "stdout",
     "output_type": "stream",
     "text": [
      "epoch      trn_loss   val_loss   accuracy                   \n",
      "    0      2.907975   2.334593   0.369323  \n",
      "    1      2.888575   2.280884   0.379462                   \n",
      "\n"
     ]
    },
    {
     "data": {
      "text/plain": [
       "[array([ 2.28088]), 0.37946159505499205]"
      ]
     },
     "execution_count": 159,
     "metadata": {},
     "output_type": "execute_result"
    }
   ],
   "source": [
    "learn.fit(lrs, 1, wds=wd, cycle_len=2, use_clr=(8,3))"
   ]
  },
  {
   "cell_type": "code",
   "execution_count": 160,
   "metadata": {},
   "outputs": [],
   "source": [
    "learn.freeze_to(-2)"
   ]
  },
  {
   "cell_type": "code",
   "execution_count": 161,
   "metadata": {},
   "outputs": [
    {
     "data": {
      "application/vnd.jupyter.widget-view+json": {
       "model_id": "e53f32eea7584137abb9aa3ff818c95d",
       "version_major": 2,
       "version_minor": 0
      },
      "text/html": [
       "<p>Failed to display Jupyter Widget of type <code>HBox</code>.</p>\n",
       "<p>\n",
       "  If you're reading this message in the Jupyter Notebook or JupyterLab Notebook, it may mean\n",
       "  that the widgets JavaScript is still loading. If this message persists, it\n",
       "  likely means that the widgets JavaScript library is either not installed or\n",
       "  not enabled. See the <a href=\"https://ipywidgets.readthedocs.io/en/stable/user_install.html\">Jupyter\n",
       "  Widgets Documentation</a> for setup instructions.\n",
       "</p>\n",
       "<p>\n",
       "  If you're reading this message in another frontend (for example, a static\n",
       "  rendering on GitHub or <a href=\"https://nbviewer.jupyter.org/\">NBViewer</a>),\n",
       "  it may mean that your frontend doesn't currently support widgets.\n",
       "</p>\n"
      ],
      "text/plain": [
       "HBox(children=(IntProgress(value=0, description='Epoch', max=4), HTML(value='')))"
      ]
     },
     "metadata": {},
     "output_type": "display_data"
    },
    {
     "name": "stdout",
     "output_type": "stream",
     "text": [
      "epoch      trn_loss   val_loss   accuracy                   \n",
      "    0      2.849323   2.278189   0.371327  \n",
      "    1      2.705004   2.211544   0.397324                   \n",
      "    2      2.63363    2.152868   0.411932                   \n",
      "    3      2.573765   2.130533   0.415952                   \n",
      "\n"
     ]
    },
    {
     "data": {
      "text/plain": [
       "[array([ 2.13053]), 0.41595194796757068]"
      ]
     },
     "execution_count": 161,
     "metadata": {},
     "output_type": "execute_result"
    }
   ],
   "source": [
    "learn.fit(lrs, 1, wds=wd, cycle_len=4, use_clr=(8,3))"
   ]
  },
  {
   "cell_type": "code",
   "execution_count": 162,
   "metadata": {},
   "outputs": [],
   "source": [
    "learn.unfreeze()"
   ]
  },
  {
   "cell_type": "code",
   "execution_count": 163,
   "metadata": {},
   "outputs": [
    {
     "data": {
      "application/vnd.jupyter.widget-view+json": {
       "model_id": "d7e1f6ebfbee41d2be7688c8ae6164e6",
       "version_major": 2,
       "version_minor": 0
      },
      "text/html": [
       "<p>Failed to display Jupyter Widget of type <code>HBox</code>.</p>\n",
       "<p>\n",
       "  If you're reading this message in the Jupyter Notebook or JupyterLab Notebook, it may mean\n",
       "  that the widgets JavaScript is still loading. If this message persists, it\n",
       "  likely means that the widgets JavaScript library is either not installed or\n",
       "  not enabled. See the <a href=\"https://ipywidgets.readthedocs.io/en/stable/user_install.html\">Jupyter\n",
       "  Widgets Documentation</a> for setup instructions.\n",
       "</p>\n",
       "<p>\n",
       "  If you're reading this message in another frontend (for example, a static\n",
       "  rendering on GitHub or <a href=\"https://nbviewer.jupyter.org/\">NBViewer</a>),\n",
       "  it may mean that your frontend doesn't currently support widgets.\n",
       "</p>\n"
      ],
      "text/plain": [
       "HBox(children=(IntProgress(value=0, description='Epoch', max=14), HTML(value='')))"
      ]
     },
     "metadata": {},
     "output_type": "display_data"
    },
    {
     "name": "stdout",
     "output_type": "stream",
     "text": [
      "epoch      trn_loss   val_loss   accuracy                   \n",
      "    0      2.530731   2.128845   0.413162  \n",
      "    1      2.491852   2.097793   0.424012                   \n",
      "    2      2.26269    2.116339   0.425071                   \n",
      "    3      2.293563   2.070211   0.430856                   \n",
      "    4      2.192553   2.063016   0.44404                    \n",
      "    5      2.167653   2.03224    0.442582                   \n",
      "    6      2.040352   2.040977   0.447951                   \n",
      "    7      2.046911   2.005274   0.455011                   \n",
      "    8      1.957838   2.018932   0.449126                   \n",
      "    9      1.943775   1.994754   0.462611                   \n",
      "    10     1.945358   2.003034   0.456875                   \n",
      "    11     1.842716   1.994821   0.461935                   \n",
      "    12     1.777045   1.994117   0.461466                   \n",
      "    13     1.811407   1.998937   0.460458                   \n",
      "\n"
     ]
    },
    {
     "data": {
      "text/plain": [
       "[array([ 1.99894]), 0.46045810677259352]"
      ]
     },
     "execution_count": 163,
     "metadata": {},
     "output_type": "execute_result"
    }
   ],
   "source": [
    "learn.fit(lrs, 1, wds=wd, cycle_len=14, use_clr=(32,10))"
   ]
  },
  {
   "cell_type": "code",
   "execution_count": 164,
   "metadata": {},
   "outputs": [
    {
     "data": {
      "image/png": "[encoded data removed]",
      "text/plain": [
       "<matplotlib.figure.Figure at 0x7f24d0750c50>"
      ]
     },
     "metadata": {},
     "output_type": "display_data"
    }
   ],
   "source": [
    "learn.sched.plot_loss()"
   ]
  },
  {
   "cell_type": "code",
   "execution_count": 168,
   "metadata": {},
   "outputs": [],
   "source": [
    "learn.save('clas_2_100')"
   ]
  },
  {
   "cell_type": "code",
   "execution_count": 24,
   "metadata": {},
   "outputs": [],
   "source": [
    "learn.load('clas_2_100')"
   ]
  },
  {
   "cell_type": "markdown",
   "metadata": {},
   "source": [
    "# upload to s3"
   ]
  },
  {
   "cell_type": "code",
   "execution_count": 165,
   "metadata": {},
   "outputs": [],
   "source": [
    "import os"
   ]
  },
  {
   "cell_type": "code",
   "execution_count": 166,
   "metadata": {},
   "outputs": [],
   "source": [
    "def get_relative_path(filename):\n",
    "    s1 = os.path.split(filename)\n",
    "    p = os.path.split(s1[0])[1]\n",
    "    return os.path.join(p, s1[1])\n"
   ]
  },
  {
   "cell_type": "code",
   "execution_count": 167,
   "metadata": {},
   "outputs": [],
   "source": [
    "def create_dummy_data(src_path, dest_root, sub_dir, num_items=2):\n",
    "    if not os.path.isdir(dest_root): os.mkdir(dest_root)\n",
    "    dst_path = os.path.join(dest_root, sub_dir)\n",
    "    classes = os.listdir(src_path)\n",
    "    for d in classes:\n",
    "        if d.startswith('.'): continue\n",
    "        if not os.path.isdir(dst_path): os.mkdir(dst_path)\n",
    "        if not os.path.isdir(os.path.join(dst_path, d)): os.mkdir(os.path.join(dst_path, d))\n",
    "        fnames = glob('{}/{}/*.jpg'.format(src_path, d))\n",
    "        for i in range(num_items):\n",
    "            shutil.copyfile(fnames[i], os.path.join(dst_path, get_relative_path(fnames[i])))\n"
   ]
  },
  {
   "cell_type": "code",
   "execution_count": null,
   "metadata": {},
   "outputs": [],
   "source": []
  },
  {
   "cell_type": "code",
   "execution_count": 169,
   "metadata": {},
   "outputs": [
    {
     "name": "stdout",
     "output_type": "stream",
     "text": [
      "./\n",
      "./clas_0.h5\n",
      "./clas_2.h5\n",
      "./lm1.h5\n",
      "./clas_1.h5\n",
      "./lm1_enc.h5\n",
      "./wt103/\n",
      "./wt103/bwd_wt103_enc.h5\n",
      "./wt103/fwd_wt103_enc.h5\n",
      "./wt103/index.html?C=M;O=D\n",
      "./wt103/fwd_wt103.h5\n",
      "./wt103/itos_wt103.pkl\n",
      "./wt103/index.html\n",
      "./wt103/bwd_wt103.h5\n",
      "./wt103/index.html?C=N;O=A\n",
      "./wt103/index.html?C=M;O=A\n",
      "./wt103/index.html?C=S;O=A\n",
      "./wt103/index.html?C=S;O=D\n",
      "./wt103/index.html?C=D;O=A\n",
      "./wt103/index.html?C=N;O=D\n",
      "./wt103/index.html?C=D;O=D\n",
      "./clas_2_100.h5\n",
      "./lm_last_ft.h5\n"
     ]
    }
   ],
   "source": [
    "!tar czvf data/model.tar.gz --exclude='tmp.h5' -C data/models/ ."
   ]
  },
  {
   "cell_type": "code",
   "execution_count": 174,
   "metadata": {},
   "outputs": [
    {
     "name": "stdout",
     "output_type": "stream",
     "text": [
      "Uploaded model artefacts to s3://deep-learning-sagemaker/models/class100/model.tar.gz\n"
     ]
    }
   ],
   "source": [
    "bucket = 'deep-learning-sagemaker'\n",
    "key = \"models/class100/model.tar.gz\"\n",
    "boto3.client('s3').upload_file('data/model.tar.gz', bucket, key)\n",
    "print(f\"Uploaded model artefacts to s3://{bucket}/{key}\")"
   ]
  },
  {
   "cell_type": "code",
   "execution_count": null,
   "metadata": {},
   "outputs": [],
   "source": []
  }
 ],
 "metadata": {
  "kernelspec": {
   "display_name": "Python 3",
   "language": "python",
   "name": "python3"
  },
  "language_info": {
   "codemirror_mode": {
    "name": "ipython",
    "version": 3
   },
   "file_extension": ".py",
   "mimetype": "text/x-python",
   "name": "python",
   "nbconvert_exporter": "python",
   "pygments_lexer": "ipython3",
   "version": "3.6.4"
  }
 },
 "nbformat": 4,
 "nbformat_minor": 2
}
